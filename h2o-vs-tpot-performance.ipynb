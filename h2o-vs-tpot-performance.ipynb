{
 "cells": [
  {
   "cell_type": "markdown",
   "id": "04ff9ed5-1bfa-4c77-953a-04f29cb118cc",
   "metadata": {},
   "source": [
    "# Performance Comparison of the TPOT and H2O AutoML Algorithms"
   ]
  },
  {
   "cell_type": "markdown",
   "id": "599ae207-cbcc-443e-bf38-6cfabed639f3",
   "metadata": {},
   "source": [
    "## Classification"
   ]
  },
  {
   "cell_type": "markdown",
   "id": "08786beb-96c9-4102-8205-c8a8bf88c01c",
   "metadata": {},
   "source": [
    "### Loading data"
   ]
  },
  {
   "cell_type": "code",
   "execution_count": 1,
   "id": "4c4d8e0a-65b9-4ce3-b1bb-09458bffa74c",
   "metadata": {},
   "outputs": [],
   "source": [
    "# Importing dependencies\n",
    "import tpot\n",
    "from tpot import TPOTClassifier, TPOTRegressor\n",
    "import sklearn\n",
    "from sklearn import datasets\n",
    "from sklearn.model_selection import train_test_split\n",
    "\n",
    "# Loading a dataset for training\n",
    "data = datasets.load_breast_cancer()\n",
    "\n",
    "# Splitting our data into train and test sets\n",
    "X_train, X_test, y_train, y_test = train_test_split(data[\"data\"], \n",
    "                                                    data[\"target\"], \n",
    "                                                    test_size=0.2, \n",
    "                                                    stratify=data[\"target\"])"
   ]
  },
  {
   "cell_type": "markdown",
   "id": "b99a00e9-ef10-415f-b94a-61baaae6b598",
   "metadata": {},
   "source": [
    "### Classification in 3 minutes (no early stopping)"
   ]
  },
  {
   "cell_type": "markdown",
   "id": "ccd814fe-04fc-4209-9484-09332611c400",
   "metadata": {},
   "source": [
    "#### TPOT classification performance in 3 minutes"
   ]
  },
  {
   "cell_type": "code",
   "execution_count": 2,
   "id": "5fb40ab2-8e19-4807-a7c0-a0169947f476",
   "metadata": {},
   "outputs": [],
   "source": [
    "# Function for creating a TPOT optimizer\n",
    "def create_tpot_optimizer(mode, \n",
    "                          max_time_mins, \n",
    "                          generations=None, \n",
    "                          population_size=100,\n",
    "                          offspring_size=100,                           \n",
    "                          early_stop=None, \n",
    "                          template=None):    \n",
    "    # TPOT classifier\n",
    "    if mode == \"classification\":\n",
    "        optimizer = TPOTClassifier(generations=generations,\n",
    "                                   population_size=population_size,\n",
    "                                   offspring_size=offspring_size,\n",
    "                                   random_state=1,\n",
    "                                   max_time_mins=max_time_mins,\n",
    "                                   scoring=\"roc_auc\",\n",
    "                                   verbosity=2,\n",
    "                                   early_stop=early_stop,\n",
    "                                   use_dask=True,\n",
    "                                   template=template,\n",
    "                                   n_jobs=10)\n",
    "    # TPOT regressor\n",
    "    elif mode == \"regression\":        \n",
    "        optimizer = TPOTRegressor(generations=generations,\n",
    "                                  population_size=population_size,\n",
    "                                  offspring_size=offspring_size,\n",
    "                                  random_state=1,\n",
    "                                  max_time_mins=max_time_mins,\n",
    "                                  scoring=\"neg_root_mean_squared_error\",\n",
    "                                  verbosity=2,\n",
    "                                  early_stop=early_stop,\n",
    "                                  use_dask=True,\n",
    "                                  template=template,\n",
    "                                  n_jobs=10)\n",
    "        \n",
    "    return optimizer"
   ]
  },
  {
   "cell_type": "code",
   "execution_count": 3,
   "id": "d33befb7-1603-4d90-a1ae-8df78eefa5c5",
   "metadata": {},
   "outputs": [],
   "source": [
    "# Insantiating our TPOT pipeline optimizer\n",
    "pipeline_optimizer = create_tpot_optimizer(mode=\"classification\", \n",
    "                                           max_time_mins=3)"
   ]
  },
  {
   "cell_type": "code",
   "execution_count": 4,
   "id": "ae580b60-f83f-4c1c-b15d-befd33c5921a",
   "metadata": {},
   "outputs": [],
   "source": [
    "# Function for training and evaluating the TPOT optimizer\n",
    "def train_eval_tpot(optimizer, \n",
    "                    train_features, train_labels, \n",
    "                    test_features, test_labels):\n",
    "    # Fitting the optimizer\n",
    "    optimizer.fit(train_features, \n",
    "                  train_labels)\n",
    "    \n",
    "    # Obtaining the best pipeline\n",
    "    best_pipeline = optimizer.fitted_pipeline_\n",
    "    \n",
    "    # Evaluating performance on the test set\n",
    "    score = pipeline_optimizer.score(test_features, \n",
    "                                     test_labels)\n",
    "    \n",
    "    return best_pipeline, score    "
   ]
  },
  {
   "cell_type": "code",
   "execution_count": 5,
   "id": "d55d6578-3630-40ad-8395-4025901c9331",
   "metadata": {},
   "outputs": [
    {
     "data": {
      "application/vnd.jupyter.widget-view+json": {
       "model_id": "91c6b361d59e400fa19d9df8ab96e12d",
       "version_major": 2,
       "version_minor": 0
      },
      "text/plain": [
       "Optimization Progress:   0%|          | 0/100 [00:00<?, ?pipeline/s]"
      ]
     },
     "metadata": {},
     "output_type": "display_data"
    },
    {
     "name": "stdout",
     "output_type": "stream",
     "text": [
      "\n",
      "Generation 1 - Current best internal CV score: 0.9953560371517026\n",
      "\n",
      "Generation 2 - Current best internal CV score: 0.9953560371517026\n",
      "\n",
      "Generation 3 - Current best internal CV score: 0.9955624355005159\n",
      "\n",
      "4.36 minutes have elapsed. TPOT will close down.\n",
      "TPOT closed during evaluation in one generation.\n",
      "WARNING: TPOT may not provide a good pipeline if TPOT is stopped/interrupted in a early generation.\n",
      "\n",
      "\n",
      "TPOT closed prematurely. Will use the current best pipeline.\n",
      "\n",
      "Best pipeline: LogisticRegression(MaxAbsScaler(input_matrix), C=10.0, dual=False, penalty=l2)\n",
      "\n",
      "### BEST PIPELINE ###\n",
      "Pipeline(steps=[('maxabsscaler', MaxAbsScaler()),\n",
      "                ('logisticregression',\n",
      "                 LogisticRegression(C=10.0, random_state=1))])\n",
      "\n",
      "Test AUC achieved with TPOT in 3 minutes: 0.99008\n",
      "\n",
      "Wall time: 4min 22s\n"
     ]
    }
   ],
   "source": [
    "%%time\n",
    "\n",
    "# Running the TPOT pipeline optimizer and tracking time\n",
    "fitted_pipeline, tpot_score = train_eval_tpot(pipeline_optimizer, \n",
    "                                              X_train, y_train, \n",
    "                                              X_test, y_test)\n",
    "\n",
    "# Viewing the best model and test AUC\n",
    "print(\"\\n### BEST PIPELINE ###\\n\"\n",
    "      f\"{fitted_pipeline}\")\n",
    "print(f\"\\nTest AUC achieved with TPOT in 3 minutes: {tpot_score:.5f}\\n\")"
   ]
  },
  {
   "cell_type": "markdown",
   "id": "5f51c899-4cfc-4a4b-93f1-b74694b7be8a",
   "metadata": {},
   "source": [
    "#### H2O classification performance in 3 minutes"
   ]
  },
  {
   "cell_type": "code",
   "execution_count": 6,
   "id": "42900099-f4fa-4920-8a0d-58e3bf4bf5a2",
   "metadata": {},
   "outputs": [
    {
     "name": "stdout",
     "output_type": "stream",
     "text": [
      "Checking whether there is an H2O instance running at http://localhost:54321 ..... not found.\n",
      "Attempting to start a local H2O server...\n",
      "; Java HotSpot(TM) 64-Bit Server VM (build 25.311-b11, mixed mode)\n",
      "  Starting server from C:\\Users\\tigra\\AppData\\Local\\Programs\\Python\\Python39\\Lib\\site-packages\\h2o\\backend\\bin\\h2o.jar\n",
      "  Ice root: C:\\Users\\tigra\\AppData\\Local\\Temp\\tmpiwruav7h\n",
      "  JVM stdout: C:\\Users\\tigra\\AppData\\Local\\Temp\\tmpiwruav7h\\h2o_tigra_started_from_python.out\n",
      "  JVM stderr: C:\\Users\\tigra\\AppData\\Local\\Temp\\tmpiwruav7h\\h2o_tigra_started_from_python.err\n",
      "  Server is running at http://127.0.0.1:54321\n",
      "Connecting to H2O server at http://127.0.0.1:54321 ... successful.\n"
     ]
    },
    {
     "data": {
      "text/html": [
       "<div style=\"overflow:auto\"><table style=\"width:50%\"><tr><td>H2O_cluster_uptime:</td>\n",
       "<td>02 secs</td></tr>\n",
       "<tr><td>H2O_cluster_timezone:</td>\n",
       "<td>Asia/Yerevan</td></tr>\n",
       "<tr><td>H2O_data_parsing_timezone:</td>\n",
       "<td>UTC</td></tr>\n",
       "<tr><td>H2O_cluster_version:</td>\n",
       "<td>3.32.1.7</td></tr>\n",
       "<tr><td>H2O_cluster_version_age:</td>\n",
       "<td>1 month and 21 days </td></tr>\n",
       "<tr><td>H2O_cluster_name:</td>\n",
       "<td>h2ocluster</td></tr>\n",
       "<tr><td>H2O_cluster_total_nodes:</td>\n",
       "<td>1</td></tr>\n",
       "<tr><td>H2O_cluster_free_memory:</td>\n",
       "<td>3.545 Gb</td></tr>\n",
       "<tr><td>H2O_cluster_total_cores:</td>\n",
       "<td>12</td></tr>\n",
       "<tr><td>H2O_cluster_allowed_cores:</td>\n",
       "<td>10</td></tr>\n",
       "<tr><td>H2O_cluster_status:</td>\n",
       "<td>accepting new members, healthy</td></tr>\n",
       "<tr><td>H2O_connection_url:</td>\n",
       "<td>http://127.0.0.1:54321</td></tr>\n",
       "<tr><td>H2O_connection_proxy:</td>\n",
       "<td>{\"http\": null, \"https\": null}</td></tr>\n",
       "<tr><td>H2O_internal_security:</td>\n",
       "<td>False</td></tr>\n",
       "<tr><td>H2O_API_Extensions:</td>\n",
       "<td>Amazon S3, Algos, AutoML, Core V3, TargetEncoder, Core V4</td></tr>\n",
       "<tr><td>Python_version:</td>\n",
       "<td>3.9.5 final</td></tr></table></div>"
      ],
      "text/plain": [
       "--------------------------  ---------------------------------------------------------\n",
       "H2O_cluster_uptime:         02 secs\n",
       "H2O_cluster_timezone:       Asia/Yerevan\n",
       "H2O_data_parsing_timezone:  UTC\n",
       "H2O_cluster_version:        3.32.1.7\n",
       "H2O_cluster_version_age:    1 month and 21 days\n",
       "H2O_cluster_name:           h2ocluster\n",
       "H2O_cluster_total_nodes:    1\n",
       "H2O_cluster_free_memory:    3.545 Gb\n",
       "H2O_cluster_total_cores:    12\n",
       "H2O_cluster_allowed_cores:  10\n",
       "H2O_cluster_status:         accepting new members, healthy\n",
       "H2O_connection_url:         http://127.0.0.1:54321\n",
       "H2O_connection_proxy:       {\"http\": null, \"https\": null}\n",
       "H2O_internal_security:      False\n",
       "H2O_API_Extensions:         Amazon S3, Algos, AutoML, Core V3, TargetEncoder, Core V4\n",
       "Python_version:             3.9.5 final\n",
       "--------------------------  ---------------------------------------------------------"
      ]
     },
     "metadata": {},
     "output_type": "display_data"
    },
    {
     "name": "stdout",
     "output_type": "stream",
     "text": [
      "Parse progress: |█████████████████████████████████████████████████████████| 100%\n",
      "Parse progress: |█████████████████████████████████████████████████████████| 100%\n",
      "Parse progress: |█████████████████████████████████████████████████████████| 100%\n",
      "Parse progress: |█████████████████████████████████████████████████████████| 100%\n"
     ]
    }
   ],
   "source": [
    "# Importing dependencies\n",
    "import h2o\n",
    "from h2o.automl import H2OAutoML\n",
    "from sklearn import datasets\n",
    "from sklearn.model_selection import train_test_split\n",
    "\n",
    "# Initializing our H2O cluster\n",
    "h2o.init(name=\"h2ocluster\", nthreads=10)\n",
    "\n",
    "# Creating H2OFrame objects for train data\n",
    "train_features = h2o.H2OFrame(X_train, column_names=list(data[\"feature_names\"]))\n",
    "train_labels = h2o.H2OFrame(y_train, column_names=[\"target\"])\n",
    "\n",
    "# Creating H2OFrame objects for test data\n",
    "test_features = h2o.H2OFrame(X_test, column_names=list(data[\"feature_names\"]))\n",
    "test_labels = h2o.H2OFrame(y_test, column_names=[\"target\"])\n",
    "\n",
    "# Joining our features and labels\n",
    "train_frame = train_features.cbind(train_labels)\n",
    "test_frame = test_features.cbind(test_labels)    \n",
    "\n",
    "# Specifying feature and target names for training\n",
    "x = train_frame.columns\n",
    "y = \"target\"\n",
    "x.remove(y)\n",
    "\n",
    "# Converting labels to categoricals\n",
    "train_frame[y] = train_frame[y].asfactor()\n",
    "test_frame[y] = test_frame[y].asfactor()"
   ]
  },
  {
   "cell_type": "code",
   "execution_count": 7,
   "id": "6c614451-c5d2-4bb2-ab5d-3c889c75c579",
   "metadata": {},
   "outputs": [],
   "source": [
    "# Function for creating H2O AutoML\n",
    "def create_h2o_automl(mode, \n",
    "                      max_runtime_secs, \n",
    "                      max_models=None, \n",
    "                      stopping_rounds=0):\n",
    "    # Selecting a sorting metric based on task\n",
    "    if mode == \"classification\":\n",
    "        sort_metric = \"AUC\"\n",
    "    elif mode == \"regression\":\n",
    "        sort_metric = \"RMSE\"\n",
    "    \n",
    "    # Instantiating an H2O AutoML object\n",
    "    aml = H2OAutoML(seed=1, \n",
    "                    max_runtime_secs=max_runtime_secs, \n",
    "                    max_models=max_models, \n",
    "                    verbosity=\"info\", \n",
    "                    stopping_rounds=stopping_rounds, \n",
    "                    sort_metric=sort_metric)\n",
    "        \n",
    "    return aml"
   ]
  },
  {
   "cell_type": "code",
   "execution_count": 8,
   "id": "83240f69-bda9-4293-ad47-ff1eab4e0032",
   "metadata": {},
   "outputs": [],
   "source": [
    "# Instantiating H2OAutoML\n",
    "aml = create_h2o_automl(mode=\"classification\", \n",
    "                        max_runtime_secs=180)"
   ]
  },
  {
   "cell_type": "code",
   "execution_count": 9,
   "id": "b705c798-9b79-46c1-acff-7e41dea04ae6",
   "metadata": {},
   "outputs": [],
   "source": [
    "# Function for training and evaluating H2OAutoML\n",
    "def train_eval_h2o(automl, \n",
    "                   x, y, \n",
    "                   train_frame, \n",
    "                   test_frame):\n",
    "    automl.train(x=x, y=y, \n",
    "                 training_frame=train_frame)\n",
    "    \n",
    "    lb = aml.leaderboard\n",
    "    score = automl.leader.model_performance(test_frame)\n",
    "    \n",
    "    return lb, score"
   ]
  },
  {
   "cell_type": "code",
   "execution_count": 10,
   "id": "c7d5d94d-fb19-4017-9be1-f237317452a0",
   "metadata": {},
   "outputs": [
    {
     "name": "stdout",
     "output_type": "stream",
     "text": [
      "AutoML progress: |\n",
      "00:05:07.353: Project: AutoML_20211024_00507351\n",
      "00:05:07.355: Setting stopping tolerance adaptively based on the training frame: 0.04688072309384954\n",
      "00:05:07.355: Build control seed: 1\n",
      "00:05:07.355: training frame: Frame key: automl_training_py_2_sid_9c47    cols: 31    rows: 455  chunks: 1    size: 40509  checksum: 913256392876034504\n",
      "00:05:07.355: validation frame: NULL\n",
      "00:05:07.356: leaderboard frame: NULL\n",
      "00:05:07.356: blending frame: NULL\n",
      "00:05:07.356: response column: target\n",
      "00:05:07.356: fold column: null\n",
      "00:05:07.356: weights column: null\n",
      "00:05:07.367: AutoML: XGBoost is not available; skipping it.\n",
      "00:05:07.370: Loading execution steps: [{XGBoost : defaults}, {GLM : defaults}, {DRF : [def_1]}, {GBM : defaults}, {DeepLearning : defaults}, {DRF : [XRT]}, {XGBoost : grids}, {GBM : grids}, {DeepLearning : grids}, {GBM : [lr_annealing]}, {XGBoost : [lr_search]}, {StackedEnsemble : defaults}]\n",
      "00:05:07.378: Disabling Algo: XGBoost as requested by the user.\n",
      "00:05:07.380: AutoML job created: 2021.10.24 00:05:07.351\n",
      "00:05:07.381: AutoML build started: 2021.10.24 00:05:07.380\n",
      "00:05:07.385: AutoML: starting GLM_1_AutoML_20211024_000507 model training\n",
      "\n",
      "██\n",
      "00:05:09.419: New leader: GLM_1_AutoML_20211024_000507, auc: 0.9969865841073272\n",
      "00:05:09.422: AutoML: starting DRF_1_AutoML_20211024_000507 model training\n",
      "00:05:10.440: AutoML: starting GBM_1_AutoML_20211024_000507 model training\n",
      "\n",
      "██████\n",
      "00:05:16.506: AutoML: starting GBM_2_AutoML_20211024_000507 model training\n",
      "\n",
      "████\n",
      "00:05:22.683: AutoML: starting GBM_3_AutoML_20211024_000507 model training\n",
      "\n",
      "██\n",
      "00:05:29.740: AutoML: starting GBM_4_AutoML_20211024_000507 model training\n",
      "\n",
      "███\n",
      "00:05:36.782: AutoML: starting GBM_5_AutoML_20211024_000507 model training\n",
      "\n",
      "██\n",
      "00:05:43.847: AutoML: starting DeepLearning_1_AutoML_20211024_000507 model training\n",
      "00:05:44.852: AutoML: starting XRT_1_AutoML_20211024_000507 model training\n",
      "\n",
      "\n",
      "00:05:45.859: AutoML: starting GBM_grid__1_AutoML_20211024_000507 hyperparameter search\n",
      "\n",
      "██████████████████\n",
      "00:06:43.449: AutoML: starting DeepLearning_grid__1_AutoML_20211024_000507 hyperparameter search\n",
      "\n",
      "████\n",
      "00:07:02.755: AutoML: starting DeepLearning_grid__2_AutoML_20211024_000507 hyperparameter search\n",
      "\n",
      "████\n",
      "00:07:22.197: AutoML: starting DeepLearning_grid__3_AutoML_20211024_000507 hyperparameter search\n",
      "\n",
      "████\n",
      "00:07:41.341: AutoML: starting StackedEnsemble_BestOfFamily_AutoML_20211024_000507 model training\n",
      "\n",
      "\n",
      "00:07:42.363: AutoML: starting StackedEnsemble_AllModels_AutoML_20211024_000507 model training\n",
      "\n",
      "███████| 100%\n",
      "\n",
      "00:07:43.388: No base models, due to timeouts or the exclude_algos option. Skipping StackedEnsemble 'monotonic'.\n",
      "00:07:43.388: Actual modeling steps: [{GLM : [def_1 (10)]}, {DRF : [def_1 (10)]}, {GBM : [def_1 (10), def_2 (10), def_3 (10), def_4 (10), def_5 (10)]}, {DeepLearning : [def_1 (10)]}, {DRF : [XRT (10)]}, {GBM : [grid_1 (60)]}, {DeepLearning : [grid_1 (20), grid_2 (20), grid_3 (20)]}, {StackedEnsemble : [best (10), all (10)]}]\n",
      "00:07:43.388: AutoML build stopped: 2021.10.24 00:07:43.388\n",
      "00:07:43.388: AutoML build done: built 34 models\n",
      "00:07:43.388: AutoML duration:  2 min 36.008 sec\n",
      "\n"
     ]
    },
    {
     "data": {
      "text/html": [
       "<table>\n",
       "<thead>\n",
       "<tr><th>model_id                                           </th><th style=\"text-align: right;\">     auc</th><th style=\"text-align: right;\">  logloss</th><th style=\"text-align: right;\">   aucpr</th><th style=\"text-align: right;\">  mean_per_class_error</th><th style=\"text-align: right;\">    rmse</th><th style=\"text-align: right;\">      mse</th></tr>\n",
       "</thead>\n",
       "<tbody>\n",
       "<tr><td>GLM_1_AutoML_20211024_000507                       </td><td style=\"text-align: right;\">0.996987</td><td style=\"text-align: right;\">0.0729719</td><td style=\"text-align: right;\">0.998172</td><td style=\"text-align: right;\">             0.0270382</td><td style=\"text-align: right;\">0.142757</td><td style=\"text-align: right;\">0.0203795</td></tr>\n",
       "<tr><td>DeepLearning_grid__1_AutoML_20211024_000507_model_4</td><td style=\"text-align: right;\">0.996677</td><td style=\"text-align: right;\">0.0915077</td><td style=\"text-align: right;\">0.997958</td><td style=\"text-align: right;\">             0.0258514</td><td style=\"text-align: right;\">0.144412</td><td style=\"text-align: right;\">0.0208549</td></tr>\n",
       "<tr><td>DeepLearning_grid__2_AutoML_20211024_000507_model_2</td><td style=\"text-align: right;\">0.996275</td><td style=\"text-align: right;\">0.152323 </td><td style=\"text-align: right;\">0.99769 </td><td style=\"text-align: right;\">             0.0352941</td><td style=\"text-align: right;\">0.163302</td><td style=\"text-align: right;\">0.0266676</td></tr>\n",
       "<tr><td>DeepLearning_grid__1_AutoML_20211024_000507_model_1</td><td style=\"text-align: right;\">0.996037</td><td style=\"text-align: right;\">0.0941272</td><td style=\"text-align: right;\">0.997547</td><td style=\"text-align: right;\">             0.0358617</td><td style=\"text-align: right;\">0.155463</td><td style=\"text-align: right;\">0.0241688</td></tr>\n",
       "<tr><td>DeepLearning_grid__1_AutoML_20211024_000507_model_6</td><td style=\"text-align: right;\">0.995955</td><td style=\"text-align: right;\">0.0899974</td><td style=\"text-align: right;\">0.997537</td><td style=\"text-align: right;\">             0.030547 </td><td style=\"text-align: right;\">0.153987</td><td style=\"text-align: right;\">0.0237121</td></tr>\n",
       "<tr><td>DeepLearning_grid__2_AutoML_20211024_000507_model_1</td><td style=\"text-align: right;\">0.995748</td><td style=\"text-align: right;\">0.124725 </td><td style=\"text-align: right;\">0.997396</td><td style=\"text-align: right;\">             0.0341073</td><td style=\"text-align: right;\">0.172565</td><td style=\"text-align: right;\">0.0297786</td></tr>\n",
       "<tr><td>DeepLearning_grid__1_AutoML_20211024_000507_model_5</td><td style=\"text-align: right;\">0.995655</td><td style=\"text-align: right;\">0.159158 </td><td style=\"text-align: right;\">0.997261</td><td style=\"text-align: right;\">             0.0211558</td><td style=\"text-align: right;\">0.13987 </td><td style=\"text-align: right;\">0.0195636</td></tr>\n",
       "<tr><td>StackedEnsemble_BestOfFamily_AutoML_20211024_000507</td><td style=\"text-align: right;\">0.995645</td><td style=\"text-align: right;\">0.0752727</td><td style=\"text-align: right;\">0.997292</td><td style=\"text-align: right;\">             0.0287926</td><td style=\"text-align: right;\">0.146813</td><td style=\"text-align: right;\">0.021554 </td></tr>\n",
       "<tr><td>StackedEnsemble_AllModels_AutoML_20211024_000507   </td><td style=\"text-align: right;\">0.995624</td><td style=\"text-align: right;\">0.121702 </td><td style=\"text-align: right;\">0.997206</td><td style=\"text-align: right;\">             0.0229102</td><td style=\"text-align: right;\">0.153418</td><td style=\"text-align: right;\">0.0235372</td></tr>\n",
       "<tr><td>DeepLearning_grid__2_AutoML_20211024_000507_model_4</td><td style=\"text-align: right;\">0.995273</td><td style=\"text-align: right;\">0.105346 </td><td style=\"text-align: right;\">0.99709 </td><td style=\"text-align: right;\">             0.0276058</td><td style=\"text-align: right;\">0.156815</td><td style=\"text-align: right;\">0.0245911</td></tr>\n",
       "</tbody>\n",
       "</table>"
      ]
     },
     "metadata": {},
     "output_type": "display_data"
    },
    {
     "name": "stdout",
     "output_type": "stream",
     "text": [
      "\n",
      "### EVALUATED MODELS ###\n",
      "\n",
      "\n",
      "Test AUC achieved with H2O in 3 minutes: 0.99041\n",
      "\n",
      "Wall time: 2min 37s\n"
     ]
    }
   ],
   "source": [
    "%%time\n",
    "\n",
    "# Running H2OAutoML and tracking time\n",
    "lb, h2o_score = train_eval_h2o(aml, \n",
    "                               x, y, \n",
    "                               train_frame, \n",
    "                               test_frame)\n",
    "\n",
    "# Viewing the leaderboard and test AUC\n",
    "print(\"\\n### EVALUATED MODELS ###\\n\"\n",
    "      f\"{lb}\")\n",
    "print(f\"\\nTest AUC achieved with H2O in 3 minutes: {h2o_score.auc():.5f}\\n\")"
   ]
  },
  {
   "cell_type": "markdown",
   "id": "8eb8839c-ff21-461a-aa41-de1a0caf7f21",
   "metadata": {},
   "source": [
    "#### TPOT classification performance in 3 minutes with a classifier only"
   ]
  },
  {
   "cell_type": "code",
   "execution_count": 11,
   "id": "e338c457-145f-44d2-a811-e75d6e4de7b3",
   "metadata": {},
   "outputs": [],
   "source": [
    "# Insantiating our TPOT pipeline optimizer\n",
    "pipeline_optimizer = create_tpot_optimizer(mode=\"classification\", \n",
    "                                           max_time_mins=3, \n",
    "                                           template=\"Classifier\")"
   ]
  },
  {
   "cell_type": "code",
   "execution_count": 12,
   "id": "da0fc682-a1a9-4369-a04b-b0c6cf4ec0dd",
   "metadata": {},
   "outputs": [
    {
     "data": {
      "application/vnd.jupyter.widget-view+json": {
       "model_id": "9f0d7a2b601d4135baf9953b1b1c85b8",
       "version_major": 2,
       "version_minor": 0
      },
      "text/plain": [
       "Optimization Progress:   0%|          | 0/100 [00:00<?, ?pipeline/s]"
      ]
     },
     "metadata": {},
     "output_type": "display_data"
    },
    {
     "name": "stdout",
     "output_type": "stream",
     "text": [
      "\n",
      "Generation 1 - Current best internal CV score: 0.9954592363261094\n",
      "\n",
      "Generation 2 - Current best internal CV score: 0.9954592363261094\n",
      "\n",
      "Generation 3 - Current best internal CV score: 0.9954592363261094\n",
      "\n",
      "Generation 4 - Current best internal CV score: 0.9954592363261094\n",
      "\n",
      "3.94 minutes have elapsed. TPOT will close down.\n",
      "TPOT closed during evaluation in one generation.\n",
      "WARNING: TPOT may not provide a good pipeline if TPOT is stopped/interrupted in a early generation.\n",
      "\n",
      "\n",
      "TPOT closed prematurely. Will use the current best pipeline.\n",
      "\n",
      "Best pipeline: GradientBoostingClassifier(input_matrix, learning_rate=0.5, max_depth=2, max_features=0.7500000000000001, min_samples_leaf=11, min_samples_split=16, n_estimators=100, subsample=0.7500000000000001)\n",
      "\n",
      "### BEST PIPELINE ### \n",
      "Pipeline(steps=[('gradientboostingclassifier',\n",
      "                 GradientBoostingClassifier(learning_rate=0.5, max_depth=2,\n",
      "                                            max_features=0.7500000000000001,\n",
      "                                            min_samples_leaf=11,\n",
      "                                            min_samples_split=16,\n",
      "                                            random_state=1,\n",
      "                                            subsample=0.7500000000000001))])\n",
      "\n",
      "Test AUC achieved with TPOT (classifier only) in 3 minutes: 0.98942\n",
      "\n",
      "Wall time: 3min 56s\n"
     ]
    }
   ],
   "source": [
    "%%time\n",
    "\n",
    "# Running the TPOT pipeline optimizer and tracking time\n",
    "fitted_pipeline, tpot_score = train_eval_tpot(pipeline_optimizer, \n",
    "                                              X_train, y_train, \n",
    "                                              X_test, y_test)\n",
    "\n",
    "# Running the TPOT pipeline optimizer and tracking time\n",
    "print(\"\\n### BEST PIPELINE ### \\n\"\n",
    "      f\"{fitted_pipeline}\")\n",
    "print(f\"\\nTest AUC achieved with TPOT (classifier only) in 3 minutes: {tpot_score:.5f}\\n\")"
   ]
  },
  {
   "cell_type": "markdown",
   "id": "d59216a4-18d1-476d-ad20-b72970aafacb",
   "metadata": {},
   "source": [
    "### Classification with early stopping (within 60 minutes)"
   ]
  },
  {
   "cell_type": "markdown",
   "id": "3d3f32cc-bf64-4758-8165-c3c8c4142224",
   "metadata": {},
   "source": [
    "#### TPOT classification performance with early stopping"
   ]
  },
  {
   "cell_type": "code",
   "execution_count": 13,
   "id": "dc821df5-0c96-4afe-b29f-ade1fa2568a6",
   "metadata": {},
   "outputs": [],
   "source": [
    "# Insantiating our TPOT pipeline optimizer\n",
    "pipeline_optimizer = create_tpot_optimizer(mode=\"classification\", \n",
    "                                           max_time_mins=60, \n",
    "                                           early_stop=2)"
   ]
  },
  {
   "cell_type": "code",
   "execution_count": 14,
   "id": "fc174f8d-ce2c-4f43-bffc-29755489af2d",
   "metadata": {},
   "outputs": [
    {
     "data": {
      "application/vnd.jupyter.widget-view+json": {
       "model_id": "",
       "version_major": 2,
       "version_minor": 0
      },
      "text/plain": [
       "Optimization Progress:   0%|          | 0/100 [00:00<?, ?pipeline/s]"
      ]
     },
     "metadata": {},
     "output_type": "display_data"
    },
    {
     "name": "stdout",
     "output_type": "stream",
     "text": [
      "\n",
      "Generation 1 - Current best internal CV score: 0.9953560371517026\n",
      "\n",
      "Generation 2 - Current best internal CV score: 0.9953560371517026\n",
      "\n",
      "Generation 3 - Current best internal CV score: 0.9953560371517026\n",
      "\n",
      "The optimized pipeline was not improved after evaluating 2 more generations. Will end the optimization process.\n",
      "\n",
      "TPOT closed prematurely. Will use the current best pipeline.\n",
      "\n",
      "Best pipeline: LogisticRegression(MaxAbsScaler(input_matrix), C=20.0, dual=False, penalty=l2)\n",
      "\n",
      "### BEST PIPELINE ###\n",
      "Pipeline(steps=[('maxabsscaler', MaxAbsScaler()),\n",
      "                ('logisticregression',\n",
      "                 LogisticRegression(C=20.0, random_state=1))])\n",
      "\n",
      "Test AUC achieved with TPOT with early stopping: 0.99107\n",
      "\n",
      "Wall time: 4min 1s\n"
     ]
    }
   ],
   "source": [
    "%%time\n",
    "\n",
    "# Running the TPOT pipeline optimizer and tracking time\n",
    "fitted_pipeline, tpot_score = train_eval_tpot(pipeline_optimizer, \n",
    "                                              X_train, y_train, \n",
    "                                              X_test, y_test)\n",
    "\n",
    "# Viewing the best pipeline and test AUC\n",
    "print(\"\\n### BEST PIPELINE ###\\n\"\n",
    "      f\"{fitted_pipeline}\")\n",
    "print(f\"\\nTest AUC achieved with TPOT with early stopping: {tpot_score:.5f}\\n\")"
   ]
  },
  {
   "cell_type": "markdown",
   "id": "c0c523f5-6c66-45ae-b501-22cbb6160b49",
   "metadata": {},
   "source": [
    "#### H2O classification performance with early stopping"
   ]
  },
  {
   "cell_type": "code",
   "execution_count": 15,
   "id": "609ee3b8-1eb2-4104-8741-c8e4bb15c8b3",
   "metadata": {},
   "outputs": [],
   "source": [
    "# Instantiating H2OAutoML\n",
    "aml = create_h2o_automl(mode=\"classification\", \n",
    "                        max_runtime_secs=3600, \n",
    "                        stopping_rounds=2)"
   ]
  },
  {
   "cell_type": "code",
   "execution_count": 16,
   "id": "12d6cec8-3575-46fe-9620-7631fed2fbb1",
   "metadata": {},
   "outputs": [
    {
     "name": "stdout",
     "output_type": "stream",
     "text": [
      "AutoML progress: |\n",
      "00:15:42.630: Project: AutoML_20211024_01542630\n",
      "00:15:42.631: Setting stopping tolerance adaptively based on the training frame: 0.04688072309384954\n",
      "00:15:42.631: Build control seed: 1\n",
      "00:15:42.631: training frame: Frame key: automl_training_py_2_sid_9c47    cols: 31    rows: 455  chunks: 1    size: 40509  checksum: 913256392876034504\n",
      "00:15:42.631: validation frame: NULL\n",
      "00:15:42.631: leaderboard frame: NULL\n",
      "00:15:42.631: blending frame: NULL\n",
      "00:15:42.631: response column: target\n",
      "00:15:42.631: fold column: null\n",
      "00:15:42.631: weights column: null\n",
      "00:15:42.631: AutoML: XGBoost is not available; skipping it.\n",
      "00:15:42.631: Loading execution steps: [{XGBoost : defaults}, {GLM : defaults}, {DRF : [def_1]}, {GBM : defaults}, {DeepLearning : defaults}, {DRF : [XRT]}, {XGBoost : grids}, {GBM : grids}, {DeepLearning : grids}, {GBM : [lr_annealing]}, {XGBoost : [lr_search]}, {StackedEnsemble : defaults}]\n",
      "00:15:42.631: Disabling Algo: XGBoost as requested by the user.\n",
      "00:15:42.632: AutoML job created: 2021.10.24 00:15:42.630\n",
      "00:15:42.632: AutoML build started: 2021.10.24 00:15:42.632\n",
      "00:15:42.632: AutoML: starting GLM_1_AutoML_20211024_001542 model training\n",
      "\n",
      "\n",
      "00:15:43.641: New leader: GLM_1_AutoML_20211024_001542, auc: 0.9969865841073272\n",
      "00:15:43.641: AutoML: starting DRF_1_AutoML_20211024_001542 model training\n",
      "\n",
      "█\n",
      "00:15:44.651: AutoML: starting GBM_1_AutoML_20211024_001542 model training\n",
      "\n",
      "█\n",
      "00:15:45.661: AutoML: starting GBM_2_AutoML_20211024_001542 model training\n",
      "\n",
      "█\n",
      "00:15:46.668: AutoML: starting GBM_3_AutoML_20211024_001542 model training\n",
      "\n",
      "████\n",
      "00:15:47.677: AutoML: starting GBM_4_AutoML_20211024_001542 model training\n",
      "00:15:48.683: AutoML: starting GBM_5_AutoML_20211024_001542 model training\n",
      "\n",
      "███\n",
      "00:15:49.687: AutoML: starting DeepLearning_1_AutoML_20211024_001542 model training\n",
      "\n",
      "████\n",
      "00:15:50.700: AutoML: starting XRT_1_AutoML_20211024_001542 model training\n",
      "\n",
      "███\n",
      "00:15:51.705: AutoML: starting GBM_grid__1_AutoML_20211024_001542 hyperparameter search\n",
      "\n",
      "██████████\n",
      "00:15:56.922: AutoML: starting DeepLearning_grid__1_AutoML_20211024_001542 hyperparameter search\n",
      "\n",
      "████████████████████████\n",
      "00:17:28.379: New leader: DeepLearning_grid__1_AutoML_20211024_001542_model_7, auc: 0.9973787409700723\n",
      "\n",
      "███\n",
      "00:23:28.859: New leader: DeepLearning_grid__1_AutoML_20211024_001542_model_34, auc: 0.9978534571723426\n",
      "\n",
      "█\n",
      "00:29:14.267: AutoML: starting DeepLearning_grid__2_AutoML_20211024_001542 hyperparameter search\n",
      "\n",
      "\n",
      "00:42:31.641: AutoML: starting DeepLearning_grid__3_AutoML_20211024_001542 hyperparameter search\n",
      "\n",
      "\n",
      "00:55:49.87: AutoML: starting StackedEnsemble_BestOfFamily_AutoML_20211024_001542 model training\n",
      "00:55:50.140: AutoML: starting StackedEnsemble_AllModels_AutoML_20211024_001542 model training\n",
      "\n",
      "█| 100%\n",
      "\n",
      "00:55:51.190: No base models, due to timeouts or the exclude_algos option. Skipping StackedEnsemble 'monotonic'.\n",
      "00:55:51.190: Actual modeling steps: [{GLM : [def_1 (10)]}, {DRF : [def_1 (10)]}, {GBM : [def_1 (10), def_2 (10), def_3 (10), def_4 (10), def_5 (10)]}, {DeepLearning : [def_1 (10)]}, {DRF : [XRT (10)]}, {GBM : [grid_1 (60)]}, {DeepLearning : [grid_1 (20), grid_2 (20), grid_3 (20)]}, {StackedEnsemble : [best (10), all (10)]}]\n",
      "00:55:51.190: AutoML build stopped: 2021.10.24 00:55:51.190\n",
      "00:55:51.190: AutoML build done: built 191 models\n",
      "00:55:51.190: AutoML duration: 40 min  8.558 sec\n",
      "\n"
     ]
    },
    {
     "data": {
      "text/html": [
       "<table>\n",
       "<thead>\n",
       "<tr><th>model_id                                            </th><th style=\"text-align: right;\">     auc</th><th style=\"text-align: right;\">  logloss</th><th style=\"text-align: right;\">   aucpr</th><th style=\"text-align: right;\">  mean_per_class_error</th><th style=\"text-align: right;\">    rmse</th><th style=\"text-align: right;\">      mse</th></tr>\n",
       "</thead>\n",
       "<tbody>\n",
       "<tr><td>DeepLearning_grid__1_AutoML_20211024_001542_model_34</td><td style=\"text-align: right;\">0.997853</td><td style=\"text-align: right;\">0.0684898</td><td style=\"text-align: right;\">0.998684</td><td style=\"text-align: right;\">             0.019969 </td><td style=\"text-align: right;\">0.130617</td><td style=\"text-align: right;\">0.0170608</td></tr>\n",
       "<tr><td>DeepLearning_grid__2_AutoML_20211024_001542_model_45</td><td style=\"text-align: right;\">0.997461</td><td style=\"text-align: right;\">0.0735867</td><td style=\"text-align: right;\">0.998381</td><td style=\"text-align: right;\">             0.0152735</td><td style=\"text-align: right;\">0.11655 </td><td style=\"text-align: right;\">0.0135839</td></tr>\n",
       "<tr><td>DeepLearning_grid__2_AutoML_20211024_001542_model_43</td><td style=\"text-align: right;\">0.997441</td><td style=\"text-align: right;\">0.0676967</td><td style=\"text-align: right;\">0.998405</td><td style=\"text-align: right;\">             0.0164603</td><td style=\"text-align: right;\">0.126232</td><td style=\"text-align: right;\">0.0159346</td></tr>\n",
       "<tr><td>DeepLearning_grid__1_AutoML_20211024_001542_model_7 </td><td style=\"text-align: right;\">0.997379</td><td style=\"text-align: right;\">0.0918726</td><td style=\"text-align: right;\">0.9984  </td><td style=\"text-align: right;\">             0.0234778</td><td style=\"text-align: right;\">0.145278</td><td style=\"text-align: right;\">0.0211057</td></tr>\n",
       "<tr><td>DeepLearning_grid__3_AutoML_20211024_001542_model_45</td><td style=\"text-align: right;\">0.997162</td><td style=\"text-align: right;\">0.116923 </td><td style=\"text-align: right;\">0.998242</td><td style=\"text-align: right;\">             0.028225 </td><td style=\"text-align: right;\">0.138778</td><td style=\"text-align: right;\">0.0192594</td></tr>\n",
       "<tr><td>DeepLearning_grid__2_AutoML_20211024_001542_model_13</td><td style=\"text-align: right;\">0.997152</td><td style=\"text-align: right;\">0.0783809</td><td style=\"text-align: right;\">0.998215</td><td style=\"text-align: right;\">             0.0294118</td><td style=\"text-align: right;\">0.135281</td><td style=\"text-align: right;\">0.0183009</td></tr>\n",
       "<tr><td>DeepLearning_grid__2_AutoML_20211024_001542_model_44</td><td style=\"text-align: right;\">0.997131</td><td style=\"text-align: right;\">0.0669992</td><td style=\"text-align: right;\">0.998192</td><td style=\"text-align: right;\">             0.0217234</td><td style=\"text-align: right;\">0.130748</td><td style=\"text-align: right;\">0.017095 </td></tr>\n",
       "<tr><td>DeepLearning_grid__2_AutoML_20211024_001542_model_26</td><td style=\"text-align: right;\">0.99709 </td><td style=\"text-align: right;\">0.0775443</td><td style=\"text-align: right;\">0.998213</td><td style=\"text-align: right;\">             0.028225 </td><td style=\"text-align: right;\">0.139822</td><td style=\"text-align: right;\">0.0195502</td></tr>\n",
       "<tr><td>DeepLearning_grid__1_AutoML_20211024_001542_model_14</td><td style=\"text-align: right;\">0.997028</td><td style=\"text-align: right;\">0.0796147</td><td style=\"text-align: right;\">0.998174</td><td style=\"text-align: right;\">             0.0223426</td><td style=\"text-align: right;\">0.137877</td><td style=\"text-align: right;\">0.0190101</td></tr>\n",
       "<tr><td>DeepLearning_grid__3_AutoML_20211024_001542_model_36</td><td style=\"text-align: right;\">0.997007</td><td style=\"text-align: right;\">0.0941587</td><td style=\"text-align: right;\">0.998145</td><td style=\"text-align: right;\">             0.024097 </td><td style=\"text-align: right;\">0.13643 </td><td style=\"text-align: right;\">0.0186132</td></tr>\n",
       "</tbody>\n",
       "</table>"
      ]
     },
     "metadata": {},
     "output_type": "display_data"
    },
    {
     "name": "stdout",
     "output_type": "stream",
     "text": [
      "\n",
      "### EVALUATED MODELS###\n",
      "\n",
      "\n",
      "Test AUC achieved with H2O with early stopping: 0.98264\n",
      "\n",
      "Wall time: 40min 9s\n"
     ]
    }
   ],
   "source": [
    "%%time\n",
    "\n",
    "# Running H2OAutoML and tracking time\n",
    "lb, h2o_score = train_eval_h2o(aml, \n",
    "                               x, y, \n",
    "                               train_frame, \n",
    "                               test_frame)\n",
    "\n",
    "# Viewing the leaderboard and test AUC\n",
    "print(\"\\n### EVALUATED MODELS###\\n\"\n",
    "      f\"{lb}\")\n",
    "print(f\"\\nTest AUC achieved with H2O with early stopping: {h2o_score.auc():.5f}\\n\")"
   ]
  },
  {
   "cell_type": "markdown",
   "id": "e61a4bc6-076b-4bae-baa4-52d2ec6f3d18",
   "metadata": {},
   "source": [
    "#### TPOT classification performance with early stopping (classifier only)"
   ]
  },
  {
   "cell_type": "code",
   "execution_count": 17,
   "id": "9a704d24-21c1-4d07-bab8-a9f3f8f01c6f",
   "metadata": {},
   "outputs": [],
   "source": [
    "# Insantiating our TPOT pipeline optimizer\n",
    "pipeline_optimizer = create_tpot_optimizer(mode=\"classification\", \n",
    "                                           max_time_mins=60, \n",
    "                                           early_stop=2, \n",
    "                                           template=\"Classifier\")"
   ]
  },
  {
   "cell_type": "code",
   "execution_count": 18,
   "id": "def8741a-4447-44d5-a156-7f07239c610a",
   "metadata": {},
   "outputs": [
    {
     "data": {
      "application/vnd.jupyter.widget-view+json": {
       "model_id": "",
       "version_major": 2,
       "version_minor": 0
      },
      "text/plain": [
       "Optimization Progress:   0%|          | 0/100 [00:00<?, ?pipeline/s]"
      ]
     },
     "metadata": {},
     "output_type": "display_data"
    },
    {
     "name": "stdout",
     "output_type": "stream",
     "text": [
      "\n",
      "Generation 1 - Current best internal CV score: 0.9954592363261094\n",
      "\n",
      "Generation 2 - Current best internal CV score: 0.9954592363261094\n",
      "\n",
      "Generation 3 - Current best internal CV score: 0.9954592363261094\n",
      "\n",
      "The optimized pipeline was not improved after evaluating 2 more generations. Will end the optimization process.\n",
      "\n",
      "TPOT closed prematurely. Will use the current best pipeline.\n",
      "\n",
      "Best pipeline: GradientBoostingClassifier(input_matrix, learning_rate=0.5, max_depth=2, max_features=0.7500000000000001, min_samples_leaf=11, min_samples_split=16, n_estimators=100, subsample=0.7500000000000001)\n",
      "\n",
      "### BEST PIPELINE ### \n",
      "Pipeline(steps=[('gradientboostingclassifier',\n",
      "                 GradientBoostingClassifier(learning_rate=0.5, max_depth=2,\n",
      "                                            max_features=0.7500000000000001,\n",
      "                                            min_samples_leaf=11,\n",
      "                                            min_samples_split=16,\n",
      "                                            random_state=1,\n",
      "                                            subsample=0.7500000000000001))])\n",
      "\n",
      "Test AUC achieved with TPOT with early stopping & classifier only: 0.98942\n",
      "\n",
      "Wall time: 2min 45s\n"
     ]
    }
   ],
   "source": [
    "%%time\n",
    "\n",
    "# Running the TPOT pipeline optimizer and tracking time\n",
    "fitted_pipeline, tpot_score = train_eval_tpot(pipeline_optimizer, \n",
    "                                              X_train, y_train, \n",
    "                                              X_test, y_test)\n",
    "\n",
    "# Viewing the best pipeline and test AUC\n",
    "print(\"\\n### BEST PIPELINE ### \\n\"\n",
    "      f\"{fitted_pipeline}\")\n",
    "print(f\"\\nTest AUC achieved with TPOT with early stopping & classifier only: {tpot_score:.5f}\\n\")"
   ]
  },
  {
   "cell_type": "markdown",
   "id": "2539935a-6654-4958-b2ca-a9423c816625",
   "metadata": {},
   "source": [
    "### Classification with 50 models/pipelines"
   ]
  },
  {
   "cell_type": "markdown",
   "id": "fbf97453-0472-42fa-9a7c-e2adb3ec6850",
   "metadata": {},
   "source": [
    "#### TPOT classification with 50 pipelines"
   ]
  },
  {
   "cell_type": "code",
   "execution_count": 19,
   "id": "27a0abf2-7107-4478-ad5a-198ce8772dd8",
   "metadata": {},
   "outputs": [],
   "source": [
    "# Insantiating our TPOT pipeline optimizer\n",
    "pipeline_optimizer = create_tpot_optimizer(mode=\"classification\", \n",
    "                                           max_time_mins=None, \n",
    "                                           generations=4,\n",
    "                                           population_size=10, \n",
    "                                           offspring_size=10)"
   ]
  },
  {
   "cell_type": "code",
   "execution_count": 20,
   "id": "8961a5aa-9cbe-4138-a88c-386acc0567a1",
   "metadata": {},
   "outputs": [
    {
     "data": {
      "application/vnd.jupyter.widget-view+json": {
       "model_id": "",
       "version_major": 2,
       "version_minor": 0
      },
      "text/plain": [
       "Optimization Progress:   0%|          | 0/50 [00:00<?, ?pipeline/s]"
      ]
     },
     "metadata": {},
     "output_type": "display_data"
    },
    {
     "name": "stdout",
     "output_type": "stream",
     "text": [
      "\n",
      "Generation 1 - Current best internal CV score: 0.992672858617131\n",
      "\n",
      "Generation 2 - Current best internal CV score: 0.992672858617131\n",
      "\n",
      "Generation 3 - Current best internal CV score: 0.9943240454076367\n",
      "\n",
      "Generation 4 - Current best internal CV score: 0.996904024767802\n",
      "\n",
      "Best pipeline: GradientBoostingClassifier(CombineDFs(input_matrix, Normalizer(input_matrix, norm=l2)), learning_rate=0.5, max_depth=1, max_features=0.7500000000000001, min_samples_leaf=7, min_samples_split=13, n_estimators=100, subsample=0.7500000000000001)\n",
      "\n",
      "### BEST PIPELINE ###\n",
      "Pipeline(steps=[('featureunion',\n",
      "                 FeatureUnion(transformer_list=[('functiontransformer',\n",
      "                                                 FunctionTransformer(func=<function copy at 0x000002B4DFC10CA0>)),\n",
      "                                                ('normalizer', Normalizer())])),\n",
      "                ('gradientboostingclassifier',\n",
      "                 GradientBoostingClassifier(learning_rate=0.5, max_depth=1,\n",
      "                                            max_features=0.7500000000000001,\n",
      "                                            min_samples_leaf=7,\n",
      "                                            min_samples_split=13,\n",
      "                                            random_state=1,\n",
      "                                            subsample=0.7500000000000001))])\n",
      "\n",
      "Test AUC achieved with TPOT after training 30 pipelines: 0.98347\n",
      "\n",
      "Wall time: 26.6 s\n"
     ]
    }
   ],
   "source": [
    "%%time\n",
    "\n",
    "# Running the TPOT pipeline optimizer and tracking time\n",
    "fitted_pipeline, tpot_score = train_eval_tpot(pipeline_optimizer, \n",
    "                                              X_train, y_train, \n",
    "                                              X_test, y_test)\n",
    "\n",
    "# Viewing the best pipeline and test AUC\n",
    "print(\"\\n### BEST PIPELINE ###\\n\"\n",
    "      f\"{fitted_pipeline}\")\n",
    "print(f\"\\nTest AUC achieved with TPOT after training 30 pipelines: {tpot_score:.5f}\\n\")"
   ]
  },
  {
   "cell_type": "markdown",
   "id": "513f12fa-d1fe-4d22-a2b0-d3732e5b7ee7",
   "metadata": {},
   "source": [
    "#### H2O classification with 50 models"
   ]
  },
  {
   "cell_type": "code",
   "execution_count": 21,
   "id": "fa8b4b7d-3263-4922-b3e8-17038c8888ea",
   "metadata": {},
   "outputs": [],
   "source": [
    "# Instantiating H2OAutoML\n",
    "aml = create_h2o_automl(mode=\"classification\", \n",
    "                        max_runtime_secs=0, \n",
    "                        max_models=50)"
   ]
  },
  {
   "cell_type": "code",
   "execution_count": 22,
   "id": "0c050548-140b-41a4-b7ac-f1639ec11d85",
   "metadata": {},
   "outputs": [
    {
     "name": "stdout",
     "output_type": "stream",
     "text": [
      "AutoML progress: |\n",
      "14:14:18.279: Project: AutoML_20211024_141418276\n",
      "14:14:18.281: Setting stopping tolerance adaptively based on the training frame: 0.04688072309384954\n",
      "14:14:18.281: Build control seed: 1\n",
      "14:14:18.281: training frame: Frame key: automl_training_py_2_sid_9bc1    cols: 31    rows: 455  chunks: 1    size: 40509  checksum: -528629061954570698\n",
      "14:14:18.281: validation frame: NULL\n",
      "14:14:18.281: leaderboard frame: NULL\n",
      "14:14:18.281: blending frame: NULL\n",
      "14:14:18.281: response column: target\n",
      "14:14:18.282: fold column: null\n",
      "14:14:18.282: weights column: null\n",
      "14:14:18.295: AutoML: XGBoost is not available; skipping it.\n",
      "14:14:18.298: Loading execution steps: [{XGBoost : defaults}, {GLM : defaults}, {DRF : [def_1]}, {GBM : defaults}, {DeepLearning : defaults}, {DRF : [XRT]}, {XGBoost : grids}, {GBM : grids}, {DeepLearning : grids}, {GBM : [lr_annealing]}, {XGBoost : [lr_search]}, {StackedEnsemble : defaults}]\n",
      "14:14:18.308: Disabling Algo: XGBoost as requested by the user.\n",
      "14:14:18.310: AutoML job created: 2021.10.24 14:14:18.276\n",
      "14:14:18.311: AutoML build started: 2021.10.24 14:14:18.311\n",
      "14:14:18.317: AutoML: starting GLM_1_AutoML_20211024_141418 model training\n",
      "\n",
      "██\n",
      "14:14:20.360: New leader: GLM_1_AutoML_20211024_141418, auc: 0.9927554179566562\n",
      "14:14:20.362: AutoML: starting DRF_1_AutoML_20211024_141418 model training\n",
      "14:14:21.372: AutoML: starting GBM_1_AutoML_20211024_141418 model training\n",
      "\n",
      "█████████████\n",
      "14:16:44.811: AutoML: starting GBM_2_AutoML_20211024_141418 model training\n",
      "\n",
      "██████\n",
      "14:19:04.45: AutoML: starting GBM_3_AutoML_20211024_141418 model training\n",
      "\n",
      "█████\n",
      "14:21:23.629: AutoML: starting GBM_4_AutoML_20211024_141418 model training\n",
      "\n",
      "█████\n",
      "14:23:45.403: AutoML: starting GBM_5_AutoML_20211024_141418 model training\n",
      "\n",
      "████\n",
      "14:26:11.9: AutoML: starting DeepLearning_1_AutoML_20211024_141418 model training\n",
      "14:26:12.19: AutoML: starting XRT_1_AutoML_20211024_141418 model training\n",
      "14:26:13.34: AutoML: starting GBM_grid__1_AutoML_20211024_141418 hyperparameter search\n",
      "\n",
      "████████████████████\n",
      "15:14:35.400: AutoML: starting DeepLearning_grid__1_AutoML_20211024_141418 hyperparameter search\n",
      "\n",
      "\n",
      "15:15:02.911: New leader: DeepLearning_grid__1_AutoML_20211024_141418_model_1, auc: 0.9955417956656347\n",
      "\n",
      "\n",
      "15:15:30.217: New leader: DeepLearning_grid__1_AutoML_20211024_141418_model_3, auc: 0.9961816305469556\n",
      "\n",
      "\n",
      "15:16:04.485: AutoML: starting DeepLearning_grid__2_AutoML_20211024_141418 hyperparameter search\n",
      "\n",
      "\n",
      "15:18:21.692: AutoML: starting DeepLearning_grid__3_AutoML_20211024_141418 hyperparameter search\n",
      "\n",
      "\n",
      "15:20:24.268: New leader: DeepLearning_grid__3_AutoML_20211024_141418_model_2, auc: 0.9965325077399381\n",
      "\n",
      "█\n",
      "15:21:29.249: New leader: DeepLearning_grid__3_AutoML_20211024_141418_model_6, auc: 0.996780185758514\n",
      "15:21:29.255: AutoML: starting StackedEnsemble_BestOfFamily_AutoML_20211024_141418 model training\n",
      "15:21:30.278: AutoML: starting StackedEnsemble_AllModels_AutoML_20211024_141418 model training\n",
      "\n",
      "| 100%\n",
      "\n",
      "15:21:33.312: No base models, due to timeouts or the exclude_algos option. Skipping StackedEnsemble 'monotonic'.\n",
      "15:21:33.312: Actual modeling steps: [{GLM : [def_1 (10)]}, {DRF : [def_1 (10)]}, {GBM : [def_1 (10), def_2 (10), def_3 (10), def_4 (10), def_5 (10)]}, {DeepLearning : [def_1 (10)]}, {DRF : [XRT (10)]}, {GBM : [grid_1 (60)]}, {DeepLearning : [grid_1 (20), grid_2 (20), grid_3 (20)]}, {StackedEnsemble : [best (10), all (10)]}]\n",
      "15:21:33.313: AutoML build stopped: 2021.10.24 15:21:33.312\n",
      "15:21:33.313: AutoML build done: built 52 models\n",
      "15:21:33.313: AutoML duration:  1:07:15.001\n",
      "\n"
     ]
    },
    {
     "data": {
      "text/html": [
       "<table>\n",
       "<thead>\n",
       "<tr><th>model_id                                           </th><th style=\"text-align: right;\">     auc</th><th style=\"text-align: right;\">  logloss</th><th style=\"text-align: right;\">   aucpr</th><th style=\"text-align: right;\">  mean_per_class_error</th><th style=\"text-align: right;\">    rmse</th><th style=\"text-align: right;\">      mse</th></tr>\n",
       "</thead>\n",
       "<tbody>\n",
       "<tr><td>DeepLearning_grid__3_AutoML_20211024_141418_model_6</td><td style=\"text-align: right;\">0.99678 </td><td style=\"text-align: right;\">0.105057 </td><td style=\"text-align: right;\">0.997945</td><td style=\"text-align: right;\">             0.0229102</td><td style=\"text-align: right;\">0.13388 </td><td style=\"text-align: right;\">0.0179239</td></tr>\n",
       "<tr><td>DeepLearning_grid__3_AutoML_20211024_141418_model_2</td><td style=\"text-align: right;\">0.996533</td><td style=\"text-align: right;\">0.0960036</td><td style=\"text-align: right;\">0.997795</td><td style=\"text-align: right;\">             0.024097 </td><td style=\"text-align: right;\">0.134843</td><td style=\"text-align: right;\">0.0181825</td></tr>\n",
       "<tr><td>DeepLearning_grid__1_AutoML_20211024_141418_model_3</td><td style=\"text-align: right;\">0.996182</td><td style=\"text-align: right;\">0.0821225</td><td style=\"text-align: right;\">0.997548</td><td style=\"text-align: right;\">             0.0229102</td><td style=\"text-align: right;\">0.142291</td><td style=\"text-align: right;\">0.0202468</td></tr>\n",
       "<tr><td>DeepLearning_grid__1_AutoML_20211024_141418_model_5</td><td style=\"text-align: right;\">0.99614 </td><td style=\"text-align: right;\">0.081236 </td><td style=\"text-align: right;\">0.997439</td><td style=\"text-align: right;\">             0.0194014</td><td style=\"text-align: right;\">0.1206  </td><td style=\"text-align: right;\">0.0145444</td></tr>\n",
       "<tr><td>DeepLearning_grid__1_AutoML_20211024_141418_model_6</td><td style=\"text-align: right;\">0.995955</td><td style=\"text-align: right;\">0.0874829</td><td style=\"text-align: right;\">0.997494</td><td style=\"text-align: right;\">             0.0228586</td><td style=\"text-align: right;\">0.150379</td><td style=\"text-align: right;\">0.0226139</td></tr>\n",
       "<tr><td>DeepLearning_grid__1_AutoML_20211024_141418_model_1</td><td style=\"text-align: right;\">0.995542</td><td style=\"text-align: right;\">0.0932452</td><td style=\"text-align: right;\">0.99713 </td><td style=\"text-align: right;\">             0.0293602</td><td style=\"text-align: right;\">0.14595 </td><td style=\"text-align: right;\">0.0213014</td></tr>\n",
       "<tr><td>DeepLearning_grid__1_AutoML_20211024_141418_model_7</td><td style=\"text-align: right;\">0.995439</td><td style=\"text-align: right;\">0.0830418</td><td style=\"text-align: right;\">0.996789</td><td style=\"text-align: right;\">             0.0170279</td><td style=\"text-align: right;\">0.129029</td><td style=\"text-align: right;\">0.0166485</td></tr>\n",
       "<tr><td>DeepLearning_grid__3_AutoML_20211024_141418_model_5</td><td style=\"text-align: right;\">0.995222</td><td style=\"text-align: right;\">0.146628 </td><td style=\"text-align: right;\">0.997059</td><td style=\"text-align: right;\">             0.0193498</td><td style=\"text-align: right;\">0.164786</td><td style=\"text-align: right;\">0.0271543</td></tr>\n",
       "<tr><td>StackedEnsemble_AllModels_AutoML_20211024_141418   </td><td style=\"text-align: right;\">0.995129</td><td style=\"text-align: right;\">0.133201 </td><td style=\"text-align: right;\">0.996804</td><td style=\"text-align: right;\">             0.0187822</td><td style=\"text-align: right;\">0.164024</td><td style=\"text-align: right;\">0.0269039</td></tr>\n",
       "<tr><td>StackedEnsemble_BestOfFamily_AutoML_20211024_141418</td><td style=\"text-align: right;\">0.995088</td><td style=\"text-align: right;\">0.0710021</td><td style=\"text-align: right;\">0.996531</td><td style=\"text-align: right;\">             0.019969 </td><td style=\"text-align: right;\">0.133159</td><td style=\"text-align: right;\">0.0177315</td></tr>\n",
       "</tbody>\n",
       "</table>"
      ]
     },
     "metadata": {},
     "output_type": "display_data"
    },
    {
     "name": "stdout",
     "output_type": "stream",
     "text": [
      "\n",
      "### EVALUATED MODELS ###\n",
      "\n",
      "\n",
      "Test AUC achieved with H2O with 50 models: 0.99239\n",
      "\n",
      "Wall time: 1h 7min 16s\n"
     ]
    }
   ],
   "source": [
    "%%time\n",
    "\n",
    "# Running H2OAutoML and tracking time\n",
    "lb, h2o_score = train_eval_h2o(aml, \n",
    "                               x, y, \n",
    "                               train_frame, test_frame)\n",
    "\n",
    "# Viewing the leaderboard and test AUC\n",
    "print(\"\\n### EVALUATED MODELS ###\\n\"\n",
    "      f\"{lb}\")\n",
    "print(f\"\\nTest AUC achieved with H2O with 50 models: {h2o_score.auc():.5f}\\n\")"
   ]
  },
  {
   "cell_type": "markdown",
   "id": "eb95d19b-d86d-4607-8588-24f74712beb2",
   "metadata": {},
   "source": [
    "#### TPOT classification with 50 pipelines (classifier only)"
   ]
  },
  {
   "cell_type": "code",
   "execution_count": 23,
   "id": "0a69ba76-519f-48a9-a505-9ce910cd466e",
   "metadata": {},
   "outputs": [],
   "source": [
    "# Insantiating our TPOT pipeline optimizer\n",
    "pipeline_optimizer = create_tpot_optimizer(mode=\"classification\", \n",
    "                                           max_time_mins=None, \n",
    "                                           generations=4,\n",
    "                                           population_size=10, \n",
    "                                           offspring_size=10,\n",
    "                                           template=\"Classifier\")"
   ]
  },
  {
   "cell_type": "code",
   "execution_count": 24,
   "id": "6c5ebfbe-a7bd-425b-ab3a-ab3bb01fcf26",
   "metadata": {},
   "outputs": [
    {
     "data": {
      "application/vnd.jupyter.widget-view+json": {
       "model_id": "",
       "version_major": 2,
       "version_minor": 0
      },
      "text/plain": [
       "Optimization Progress:   0%|          | 0/50 [00:00<?, ?pipeline/s]"
      ]
     },
     "metadata": {},
     "output_type": "display_data"
    },
    {
     "name": "stdout",
     "output_type": "stream",
     "text": [
      "\n",
      "Generation 1 - Current best internal CV score: 0.9925696594427244\n",
      "\n",
      "Generation 2 - Current best internal CV score: 0.9925696594427244\n",
      "\n",
      "Generation 3 - Current best internal CV score: 0.9925696594427244\n",
      "\n",
      "Generation 4 - Current best internal CV score: 0.9927760577915377\n",
      "\n",
      "Best pipeline: ExtraTreesClassifier(input_matrix, bootstrap=False, criterion=entropy, max_features=0.45, min_samples_leaf=3, min_samples_split=3, n_estimators=100)\n",
      "\n",
      "### BEST PIPELINE ###\n",
      "Pipeline(steps=[('extratreesclassifier',\n",
      "                 ExtraTreesClassifier(criterion='entropy', max_features=0.45,\n",
      "                                      min_samples_leaf=3, min_samples_split=3,\n",
      "                                      random_state=1))])\n",
      "\n",
      "Test AUC achieved with TPOT after training 50 pipelines (classifier only): 0.98413\n",
      "\n",
      "Wall time: 23.4 s\n"
     ]
    }
   ],
   "source": [
    "%%time\n",
    "\n",
    "# Running the TPOT pipeline optimizer and tracking time\n",
    "fitted_pipeline, tpot_score = train_eval_tpot(pipeline_optimizer, \n",
    "                                              X_train, y_train, \n",
    "                                              X_test, y_test)\n",
    "\n",
    "# Viewing the best pipeline and test AUC\n",
    "print(\"\\n### BEST PIPELINE ###\\n\"\n",
    "      f\"{fitted_pipeline}\")\n",
    "print(f\"\\nTest AUC achieved with TPOT after training 50 pipelines (classifier only): {tpot_score:.5f}\\n\")"
   ]
  },
  {
   "cell_type": "markdown",
   "id": "7a2f1a4e-8de2-49d4-82d9-b2faf1167861",
   "metadata": {},
   "source": [
    "## Regression"
   ]
  },
  {
   "cell_type": "code",
   "execution_count": 25,
   "id": "5fd607d2-b393-4cb1-8413-223db0d60a9f",
   "metadata": {},
   "outputs": [],
   "source": [
    "# Loading a dataset for training\n",
    "data = datasets.load_diabetes()\n",
    "\n",
    "# Splitting our data into train and test sets\n",
    "X_train, X_test, y_train, y_test = train_test_split(data[\"data\"], \n",
    "                                                    data[\"target\"], \n",
    "                                                    test_size=0.2)"
   ]
  },
  {
   "cell_type": "markdown",
   "id": "434b84f6-1c08-45d4-9c1b-3419c4c96a75",
   "metadata": {},
   "source": [
    "### Regression in 3 minutes"
   ]
  },
  {
   "cell_type": "markdown",
   "id": "2c41ee39-524c-4354-8ff7-3d4d415a6c4f",
   "metadata": {},
   "source": [
    "#### TPOT regression performance in 3 minutes"
   ]
  },
  {
   "cell_type": "code",
   "execution_count": 26,
   "id": "03e2a291-d293-42c2-af06-b8767cdef957",
   "metadata": {},
   "outputs": [],
   "source": [
    "# Insantiating our TPOT pipeline optimizer\n",
    "pipeline_optimizer = create_tpot_optimizer(mode=\"regression\", \n",
    "                                           max_time_mins=3)"
   ]
  },
  {
   "cell_type": "code",
   "execution_count": 27,
   "id": "cb6c39c5-2dbe-4c92-9a20-350075ae417b",
   "metadata": {},
   "outputs": [
    {
     "data": {
      "application/vnd.jupyter.widget-view+json": {
       "model_id": "d2f2afb945e54a1dba15db7fcadeb7a5",
       "version_major": 2,
       "version_minor": 0
      },
      "text/plain": [
       "Optimization Progress:   0%|          | 0/100 [00:00<?, ?pipeline/s]"
      ]
     },
     "metadata": {},
     "output_type": "display_data"
    },
    {
     "name": "stdout",
     "output_type": "stream",
     "text": [
      "\n",
      "Generation 1 - Current best internal CV score: -53.352735491979296\n",
      "\n",
      "Generation 2 - Current best internal CV score: -53.34170127564374\n",
      "\n",
      "Generation 3 - Current best internal CV score: -53.34170127564374\n",
      "\n",
      "3.07 minutes have elapsed. TPOT will close down.\n",
      "TPOT closed during evaluation in one generation.\n",
      "WARNING: TPOT may not provide a good pipeline if TPOT is stopped/interrupted in a early generation.\n",
      "\n",
      "\n",
      "TPOT closed prematurely. Will use the current best pipeline.\n",
      "\n",
      "Best pipeline: LassoLarsCV(PCA(input_matrix, iterated_power=5, svd_solver=randomized), normalize=True)\n",
      "\n",
      "### BEST PIPELINE ###\n",
      "Pipeline(steps=[('pca',\n",
      "                 PCA(iterated_power=5, random_state=1,\n",
      "                     svd_solver='randomized')),\n",
      "                ('lassolarscv', LassoLarsCV(normalize=True))])\n",
      "\n",
      "Test RMSE achieved with TPOT in 3 minutes: -58.88185\n",
      "\n",
      "Wall time: 3min 4s\n"
     ]
    }
   ],
   "source": [
    "%%time\n",
    "\n",
    "# Running the TPOT pipeline optimizer and tracking time\n",
    "fitted_pipeline, tpot_score = train_eval_tpot(pipeline_optimizer, \n",
    "                                              X_train, y_train, \n",
    "                                              X_test, y_test)\n",
    "\n",
    "# Viewing the best pipeline and test RMSE\n",
    "print(\"\\n### BEST PIPELINE ###\\n\"\n",
    "      f\"{fitted_pipeline}\")\n",
    "print(f\"\\nTest RMSE achieved with TPOT in 3 minutes: {tpot_score:.5f}\\n\")"
   ]
  },
  {
   "cell_type": "markdown",
   "id": "2f53e563-d22a-43ff-89ec-0e13993edb48",
   "metadata": {},
   "source": [
    "#### H2O regression performance in 3 minutes"
   ]
  },
  {
   "cell_type": "code",
   "execution_count": 28,
   "id": "5d599b5c-fe08-4def-a8a5-369ddf264dd3",
   "metadata": {},
   "outputs": [
    {
     "name": "stdout",
     "output_type": "stream",
     "text": [
      "Parse progress: |█████████████████████████████████████████████████████████| 100%\n",
      "Parse progress: |█████████████████████████████████████████████████████████| 100%\n",
      "Parse progress: |█████████████████████████████████████████████████████████| 100%\n",
      "Parse progress: |█████████████████████████████████████████████████████████| 100%\n"
     ]
    }
   ],
   "source": [
    "# Creating H2OFrame objects for train data\n",
    "train_features = h2o.H2OFrame(X_train, column_names=list(data[\"feature_names\"]))\n",
    "train_labels = h2o.H2OFrame(y_train, column_names=[\"target\"])\n",
    "\n",
    "# Creating H2OFrame objects for test data\n",
    "test_features = h2o.H2OFrame(X_test, column_names=list(data[\"feature_names\"]))\n",
    "test_labels = h2o.H2OFrame(y_test, column_names=[\"target\"])\n",
    "\n",
    "# Joining our features and labels\n",
    "train_frame = train_features.cbind(train_labels)\n",
    "test_frame = test_features.cbind(test_labels)    \n",
    "\n",
    "# Specifying feature and target names for training\n",
    "x = train_frame.columns\n",
    "y = \"target\"\n",
    "x.remove(y)"
   ]
  },
  {
   "cell_type": "code",
   "execution_count": 29,
   "id": "63bcbf5a-43ee-4695-835c-12f998a32682",
   "metadata": {},
   "outputs": [],
   "source": [
    "# Instantiating H2OAutoML\n",
    "aml = create_h2o_automl(mode=\"regression\", \n",
    "                        max_runtime_secs=180)"
   ]
  },
  {
   "cell_type": "code",
   "execution_count": 30,
   "id": "8389da06-243f-4b6c-bff4-e836296f8e89",
   "metadata": {},
   "outputs": [
    {
     "name": "stdout",
     "output_type": "stream",
     "text": [
      "AutoML progress: |\n",
      "15:25:03.512: Project: AutoML_20211024_152503512\n",
      "15:25:03.512: Setting stopping tolerance adaptively based on the training frame: 0.05\n",
      "15:25:03.512: Build control seed: 1\n",
      "15:25:03.512: training frame: Frame key: automl_training_py_497_sid_9bc1    cols: 11    rows: 353  chunks: 1    size: 16936  checksum: -7230522126757213732\n",
      "15:25:03.512: validation frame: NULL\n",
      "15:25:03.512: leaderboard frame: NULL\n",
      "15:25:03.512: blending frame: NULL\n",
      "15:25:03.512: response column: target\n",
      "15:25:03.512: fold column: null\n",
      "15:25:03.513: weights column: null\n",
      "15:25:03.513: AutoML: XGBoost is not available; skipping it.\n",
      "15:25:03.513: Loading execution steps: [{XGBoost : defaults}, {GLM : defaults}, {DRF : [def_1]}, {GBM : defaults}, {DeepLearning : defaults}, {DRF : [XRT]}, {XGBoost : grids}, {GBM : grids}, {DeepLearning : grids}, {GBM : [lr_annealing]}, {XGBoost : [lr_search]}, {StackedEnsemble : defaults}]\n",
      "15:25:03.513: Disabling Algo: XGBoost as requested by the user.\n",
      "15:25:03.513: AutoML job created: 2021.10.24 15:25:03.512\n",
      "15:25:03.514: AutoML build started: 2021.10.24 15:25:03.514\n",
      "15:25:03.514: AutoML: starting GLM_1_AutoML_20211024_152503 model training\n",
      "\n",
      "\n",
      "15:25:04.516: New leader: GLM_1_AutoML_20211024_152503, rmse: 54.4876400336704\n",
      "15:25:04.516: AutoML: starting DRF_1_AutoML_20211024_152503 model training\n",
      "\n",
      "█\n",
      "15:25:05.527: AutoML: starting GBM_1_AutoML_20211024_152503 model training\n",
      "\n",
      "████████\n",
      "15:25:12.617: AutoML: starting GBM_2_AutoML_20211024_152503 model training\n",
      "\n",
      "███\n",
      "15:25:20.708: AutoML: starting GBM_3_AutoML_20211024_152503 model training\n",
      "\n",
      "██\n",
      "15:25:28.798: AutoML: starting GBM_4_AutoML_20211024_152503 model training\n",
      "\n",
      "██\n",
      "15:25:36.882: AutoML: starting GBM_5_AutoML_20211024_152503 model training\n",
      "\n",
      "██\n",
      "15:25:43.968: AutoML: starting DeepLearning_1_AutoML_20211024_152503 model training\n",
      "\n",
      "█\n",
      "15:25:44.980: AutoML: starting XRT_1_AutoML_20211024_152503 model training\n",
      "15:25:45.994: AutoML: starting GBM_grid__1_AutoML_20211024_152503 hyperparameter search\n",
      "\n",
      "█████████████████\n",
      "15:26:41.737: AutoML: starting DeepLearning_grid__1_AutoML_20211024_152503 hyperparameter search\n",
      "\n",
      "█████\n",
      "15:26:59.912: New leader: DeepLearning_grid__1_AutoML_20211024_152503_model_6, rmse: 53.80934293001549\n",
      "15:27:00.921: AutoML: starting DeepLearning_grid__2_AutoML_20211024_152503 hyperparameter search\n",
      "\n",
      "████\n",
      "15:27:19.214: AutoML: starting DeepLearning_grid__3_AutoML_20211024_152503 hyperparameter search\n",
      "\n",
      "████\n",
      "15:27:37.427: AutoML: starting StackedEnsemble_BestOfFamily_AutoML_20211024_152503 model training\n",
      "\n",
      "\n",
      "15:27:38.441: AutoML: starting StackedEnsemble_AllModels_AutoML_20211024_152503 model training\n",
      "\n",
      "█\n",
      "15:27:39.447: No base models, due to timeouts or the exclude_algos option. Skipping StackedEnsemble 'monotonic'.\n",
      "15:27:39.447: Actual modeling steps: [{GLM : [def_1 (10)]}, {DRF : [def_1 (10)]}, {GBM : [def_1 (10), def_2 (10), def_3 (10), def_4 (10), def_5 (10)]}, {DeepLearning : [def_1 (10)]}, {DRF : [XRT (10)]}, {GBM : [grid_1 (60)]}, {DeepLearning : [grid_1 (20), grid_2 (20), grid_3 (20)]}, {StackedEnsemble : [best (10), all (10)]}]\n",
      "15:27:39.447: AutoML build stopped: 2021.10.24 15:27:39.447\n",
      "15:27:39.447: AutoML build done: built 34 models\n",
      "15:27:39.448: AutoML duration:  2 min 35.933 sec\n",
      "\n",
      "██████| 100%\n"
     ]
    },
    {
     "data": {
      "text/html": [
       "<table>\n",
       "<thead>\n",
       "<tr><th>model_id                                           </th><th style=\"text-align: right;\">   rmse</th><th style=\"text-align: right;\">  mean_residual_deviance</th><th style=\"text-align: right;\">    mse</th><th style=\"text-align: right;\">    mae</th><th style=\"text-align: right;\">   rmsle</th></tr>\n",
       "</thead>\n",
       "<tbody>\n",
       "<tr><td>DeepLearning_grid__1_AutoML_20211024_152503_model_6</td><td style=\"text-align: right;\">53.8093</td><td style=\"text-align: right;\">                 2895.45</td><td style=\"text-align: right;\">2895.45</td><td style=\"text-align: right;\">43.6601</td><td style=\"text-align: right;\">0.405631</td></tr>\n",
       "<tr><td>StackedEnsemble_BestOfFamily_AutoML_20211024_152503</td><td style=\"text-align: right;\">53.8892</td><td style=\"text-align: right;\">                 2904.04</td><td style=\"text-align: right;\">2904.04</td><td style=\"text-align: right;\">43.8312</td><td style=\"text-align: right;\">0.406853</td></tr>\n",
       "<tr><td>DeepLearning_grid__1_AutoML_20211024_152503_model_4</td><td style=\"text-align: right;\">54.3713</td><td style=\"text-align: right;\">                 2956.23</td><td style=\"text-align: right;\">2956.23</td><td style=\"text-align: right;\">43.9683</td><td style=\"text-align: right;\">0.405893</td></tr>\n",
       "<tr><td>GLM_1_AutoML_20211024_152503                       </td><td style=\"text-align: right;\">54.4876</td><td style=\"text-align: right;\">                 2968.9 </td><td style=\"text-align: right;\">2968.9 </td><td style=\"text-align: right;\">44.1634</td><td style=\"text-align: right;\">0.411197</td></tr>\n",
       "<tr><td>DeepLearning_grid__2_AutoML_20211024_152503_model_4</td><td style=\"text-align: right;\">54.8525</td><td style=\"text-align: right;\">                 3008.79</td><td style=\"text-align: right;\">3008.79</td><td style=\"text-align: right;\">44.2871</td><td style=\"text-align: right;\">0.410415</td></tr>\n",
       "<tr><td>DeepLearning_grid__1_AutoML_20211024_152503_model_1</td><td style=\"text-align: right;\">55.0053</td><td style=\"text-align: right;\">                 3025.58</td><td style=\"text-align: right;\">3025.58</td><td style=\"text-align: right;\">44.1594</td><td style=\"text-align: right;\">0.413733</td></tr>\n",
       "<tr><td>StackedEnsemble_AllModels_AutoML_20211024_152503   </td><td style=\"text-align: right;\">55.1701</td><td style=\"text-align: right;\">                 3043.74</td><td style=\"text-align: right;\">3043.74</td><td style=\"text-align: right;\">45.2439</td><td style=\"text-align: right;\">0.415623</td></tr>\n",
       "<tr><td>DeepLearning_1_AutoML_20211024_152503              </td><td style=\"text-align: right;\">55.3133</td><td style=\"text-align: right;\">                 3059.57</td><td style=\"text-align: right;\">3059.57</td><td style=\"text-align: right;\">43.769 </td><td style=\"text-align: right;\">0.407065</td></tr>\n",
       "<tr><td>DeepLearning_grid__2_AutoML_20211024_152503_model_6</td><td style=\"text-align: right;\">56.6876</td><td style=\"text-align: right;\">                 3213.48</td><td style=\"text-align: right;\">3213.48</td><td style=\"text-align: right;\">46.6963</td><td style=\"text-align: right;\">0.431987</td></tr>\n",
       "<tr><td>GBM_grid__1_AutoML_20211024_152503_model_4         </td><td style=\"text-align: right;\">56.9532</td><td style=\"text-align: right;\">                 3243.67</td><td style=\"text-align: right;\">3243.67</td><td style=\"text-align: right;\">46.2507</td><td style=\"text-align: right;\">0.415331</td></tr>\n",
       "</tbody>\n",
       "</table>"
      ]
     },
     "metadata": {},
     "output_type": "display_data"
    },
    {
     "name": "stdout",
     "output_type": "stream",
     "text": [
      "\n",
      "### EVALUATED MODELS ###\n",
      "\n",
      "\n",
      "Test RMSE achieved with H2O in 3 minutes: 61.10848\n",
      "\n",
      "Wall time: 2min 37s\n"
     ]
    }
   ],
   "source": [
    "%%time\n",
    "\n",
    "# Running H2OAutoML and tracking time\n",
    "lb, h2o_score = train_eval_h2o(aml, \n",
    "                               x, y, \n",
    "                               train_frame, \n",
    "                               test_frame)\n",
    "\n",
    "# Viewing the leaderboard and test RMSE\n",
    "print(\"\\n### EVALUATED MODELS ###\\n\"\n",
    "      f\"{lb}\")\n",
    "print(f\"\\nTest RMSE achieved with H2O in 3 minutes: {h2o_score.rmse():.5f}\\n\")"
   ]
  },
  {
   "cell_type": "markdown",
   "id": "0b3da06a-405b-43dd-8251-d8b8542d1073",
   "metadata": {},
   "source": [
    "#### TPOT regression performance in 3 minutes with a regressor only"
   ]
  },
  {
   "cell_type": "code",
   "execution_count": 31,
   "id": "4e7d9713-79bd-4a54-a82c-805bfd464e75",
   "metadata": {},
   "outputs": [],
   "source": [
    "# Insantiating our TPOT pipeline optimizer\n",
    "pipeline_optimizer = create_tpot_optimizer(mode=\"regression\", \n",
    "                                           max_time_mins=3, \n",
    "                                           template=\"Regressor\")"
   ]
  },
  {
   "cell_type": "code",
   "execution_count": 32,
   "id": "d110d47c-e8ef-41df-9ae6-644696dafb30",
   "metadata": {},
   "outputs": [
    {
     "data": {
      "application/vnd.jupyter.widget-view+json": {
       "model_id": "9c0ae83d72ed4ae58015ee7684c6d7ed",
       "version_major": 2,
       "version_minor": 0
      },
      "text/plain": [
       "Optimization Progress:   0%|          | 0/100 [00:00<?, ?pipeline/s]"
      ]
     },
     "metadata": {},
     "output_type": "display_data"
    },
    {
     "name": "stdout",
     "output_type": "stream",
     "text": [
      "\n",
      "Generation 1 - Current best internal CV score: -53.651125674474464\n",
      "\n",
      "Generation 2 - Current best internal CV score: -53.651125674474464\n",
      "\n",
      "Generation 3 - Current best internal CV score: -53.651125674474464\n",
      "\n",
      "Generation 4 - Current best internal CV score: -53.65107305670548\n",
      "\n",
      "3.24 minutes have elapsed. TPOT will close down.\n",
      "TPOT closed during evaluation in one generation.\n",
      "WARNING: TPOT may not provide a good pipeline if TPOT is stopped/interrupted in a early generation.\n",
      "\n",
      "\n",
      "TPOT closed prematurely. Will use the current best pipeline.\n",
      "\n",
      "Best pipeline: LinearSVR(input_matrix, C=25.0, dual=True, epsilon=0.0001, loss=squared_epsilon_insensitive, tol=1e-05)\n",
      "\n",
      "### BEST PIPELINE ###\n",
      "Pipeline(steps=[('linearsvr',\n",
      "                 LinearSVR(C=25.0, epsilon=0.0001,\n",
      "                           loss='squared_epsilon_insensitive', random_state=1,\n",
      "                           tol=1e-05))])\n",
      "\n",
      "Test RMSE achieved with TPOT (regressor only) in 3 minutes: -57.86023\n",
      "\n",
      "Wall time: 3min 14s\n"
     ]
    }
   ],
   "source": [
    "%%time\n",
    "\n",
    "# Running the TPOT pipeline optimizer and tracking time\n",
    "fitted_pipeline, tpot_score = train_eval_tpot(pipeline_optimizer, \n",
    "                                              X_train, y_train, \n",
    "                                              X_test, y_test)\n",
    "\n",
    "# Viewing the best pipeline and test RMSE\n",
    "print(\"\\n### BEST PIPELINE ###\\n\"\n",
    "      f\"{fitted_pipeline}\")\n",
    "print(f\"\\nTest RMSE achieved with TPOT (regressor only) in 3 minutes: {tpot_score:.5f}\\n\")"
   ]
  },
  {
   "cell_type": "markdown",
   "id": "d5f3891e-3251-42c8-8466-369639607126",
   "metadata": {},
   "source": [
    "### Regression with early stopping (within 60 minutes)"
   ]
  },
  {
   "cell_type": "markdown",
   "id": "59440ff2-5a4f-43e5-92b8-b373ad935ece",
   "metadata": {},
   "source": [
    "#### TPOT regression performance with early stopping"
   ]
  },
  {
   "cell_type": "code",
   "execution_count": 33,
   "id": "3fab9b73-37dc-468e-a204-9c91e7e378c9",
   "metadata": {},
   "outputs": [],
   "source": [
    "# Insantiating our TPOT pipeline optimizer\n",
    "pipeline_optimizer = create_tpot_optimizer(mode=\"regression\", \n",
    "                                           max_time_mins=60, \n",
    "                                           early_stop=2)"
   ]
  },
  {
   "cell_type": "code",
   "execution_count": 34,
   "id": "cabed785-6faf-4e9c-8169-e25da339e00c",
   "metadata": {},
   "outputs": [
    {
     "data": {
      "application/vnd.jupyter.widget-view+json": {
       "model_id": "",
       "version_major": 2,
       "version_minor": 0
      },
      "text/plain": [
       "Optimization Progress:   0%|          | 0/100 [00:00<?, ?pipeline/s]"
      ]
     },
     "metadata": {},
     "output_type": "display_data"
    },
    {
     "name": "stdout",
     "output_type": "stream",
     "text": [
      "\n",
      "Generation 1 - Current best internal CV score: -53.352735491979296\n",
      "\n",
      "Generation 2 - Current best internal CV score: -53.20011628057085\n",
      "\n",
      "Generation 3 - Current best internal CV score: -53.20011628057085\n",
      "\n",
      "Generation 4 - Current best internal CV score: -53.20011628057085\n",
      "\n",
      "Generation 5 - Current best internal CV score: -53.20011628057085\n",
      "\n",
      "Generation 6 - Current best internal CV score: -53.07138904357707\n",
      "\n",
      "Generation 7 - Current best internal CV score: -53.07138904357707\n",
      "\n",
      "Generation 8 - Current best internal CV score: -53.07138904357707\n",
      "\n",
      "Generation 9 - Current best internal CV score: -52.822755097824405\n",
      "\n",
      "Generation 10 - Current best internal CV score: -52.61189925671198\n",
      "\n",
      "Generation 11 - Current best internal CV score: -52.58237618352077\n",
      "\n",
      "Generation 12 - Current best internal CV score: -52.57573394920856\n",
      "\n",
      "Generation 13 - Current best internal CV score: -52.57573394920856\n",
      "\n",
      "Generation 14 - Current best internal CV score: -52.57221447158635\n",
      "\n",
      "Generation 15 - Current best internal CV score: -52.47320586604759\n",
      "\n",
      "Generation 16 - Current best internal CV score: -52.47320586604759\n",
      "\n",
      "Generation 17 - Current best internal CV score: -52.433824174231134\n",
      "\n",
      "Generation 18 - Current best internal CV score: -52.433824174231134\n",
      "\n",
      "Generation 19 - Current best internal CV score: -52.433824174231134\n",
      "\n",
      "Generation 20 - Current best internal CV score: -52.433824174231134\n",
      "\n",
      "Generation 21 - Current best internal CV score: -52.433824174231134\n",
      "\n",
      "Generation 22 - Current best internal CV score: -52.433824174231134\n",
      "\n",
      "Generation 23 - Current best internal CV score: -52.433824174231134\n",
      "\n",
      "Generation 24 - Current best internal CV score: -52.39181372846018\n",
      "\n",
      "Generation 25 - Current best internal CV score: -52.39178147156433\n",
      "\n",
      "Generation 26 - Current best internal CV score: -52.39178147156433\n",
      "\n",
      "Generation 27 - Current best internal CV score: -52.34540535677105\n",
      "\n",
      "Generation 28 - Current best internal CV score: -52.34540535677105\n",
      "\n",
      "Generation 29 - Current best internal CV score: -52.34540535677105\n",
      "\n",
      "Generation 30 - Current best internal CV score: -52.34476562165092\n",
      "\n",
      "Generation 31 - Current best internal CV score: -52.082201872390726\n",
      "\n",
      "Generation 32 - Current best internal CV score: -52.082201872390726\n",
      "\n",
      "Generation 33 - Current best internal CV score: -52.082201872390726\n",
      "\n",
      "Generation 34 - Current best internal CV score: -52.082201872390726\n",
      "\n",
      "Generation 35 - Current best internal CV score: -52.082201872390726\n",
      "\n",
      "Generation 36 - Current best internal CV score: -52.082201872390726\n",
      "\n",
      "Generation 37 - Current best internal CV score: -52.082201872390726\n",
      "\n",
      "The optimized pipeline was not improved after evaluating 2 more generations. Will end the optimization process.\n",
      "\n",
      "TPOT closed prematurely. Will use the current best pipeline.\n",
      "\n",
      "Best pipeline: LinearSVR(MaxAbsScaler(MaxAbsScaler(MaxAbsScaler(MaxAbsScaler(KNeighborsRegressor(input_matrix, n_neighbors=43, p=2, weights=uniform))))), C=25.0, dual=True, epsilon=1.0, loss=squared_epsilon_insensitive, tol=0.1)\n",
      "\n",
      "### BEST PIPELINE ###\n",
      "Pipeline(steps=[('stackingestimator',\n",
      "                 StackingEstimator(estimator=KNeighborsRegressor(n_neighbors=43))),\n",
      "                ('maxabsscaler-1', MaxAbsScaler()),\n",
      "                ('maxabsscaler-2', MaxAbsScaler()),\n",
      "                ('maxabsscaler-3', MaxAbsScaler()),\n",
      "                ('maxabsscaler-4', MaxAbsScaler()),\n",
      "                ('linearsvr',\n",
      "                 LinearSVR(C=25.0, epsilon=1.0,\n",
      "                           loss='squared_epsilon_insensitive', random_state=1,\n",
      "                           tol=0.1))])\n",
      "\n",
      "Test RMSE achieved with TPOT with early stopping: -58.08065\n",
      "\n",
      "Wall time: 24min 39s\n"
     ]
    }
   ],
   "source": [
    "%%time\n",
    "\n",
    "# Running the TPOT pipeline optimizer and tracking time\n",
    "fitted_pipeline, tpot_score = train_eval_tpot(pipeline_optimizer, \n",
    "                                              X_train, y_train, \n",
    "                                              X_test, y_test)\n",
    "\n",
    "# Viewing the best pipeline and test RMSE\n",
    "print(\"\\n### BEST PIPELINE ###\\n\"\n",
    "      f\"{fitted_pipeline}\")\n",
    "print(f\"\\nTest RMSE achieved with TPOT with early stopping: {tpot_score:.5f}\\n\")"
   ]
  },
  {
   "cell_type": "markdown",
   "id": "5b41b20d-6745-4682-9159-ed67b703b3e3",
   "metadata": {},
   "source": [
    "#### H2O regression performance with early stopping"
   ]
  },
  {
   "cell_type": "code",
   "execution_count": 35,
   "id": "54bb4d42-e29a-4d87-8399-1fcf045f843a",
   "metadata": {},
   "outputs": [],
   "source": [
    "# Instantiating H2OAutoML\n",
    "aml = create_h2o_automl(mode=\"regression\", \n",
    "                        max_runtime_secs=3600, \n",
    "                        stopping_rounds=2)"
   ]
  },
  {
   "cell_type": "code",
   "execution_count": 36,
   "id": "ce28beb8-3f4e-4b69-b8ca-88b96800509f",
   "metadata": {},
   "outputs": [
    {
     "name": "stdout",
     "output_type": "stream",
     "text": [
      "AutoML progress: |\n",
      "15:55:35.54: Project: AutoML_20211024_155535054\n",
      "15:55:35.55: Setting stopping tolerance adaptively based on the training frame: 0.05\n",
      "15:55:35.55: Build control seed: 1\n",
      "15:55:35.55: training frame: Frame key: automl_training_py_497_sid_9bc1    cols: 11    rows: 353  chunks: 1    size: 16936  checksum: -7230522126757213732\n",
      "15:55:35.55: validation frame: NULL\n",
      "15:55:35.55: leaderboard frame: NULL\n",
      "15:55:35.55: blending frame: NULL\n",
      "15:55:35.55: response column: target\n",
      "15:55:35.55: fold column: null\n",
      "15:55:35.55: weights column: null\n",
      "15:55:35.55: AutoML: XGBoost is not available; skipping it.\n",
      "15:55:35.55: Loading execution steps: [{XGBoost : defaults}, {GLM : defaults}, {DRF : [def_1]}, {GBM : defaults}, {DeepLearning : defaults}, {DRF : [XRT]}, {XGBoost : grids}, {GBM : grids}, {DeepLearning : grids}, {GBM : [lr_annealing]}, {XGBoost : [lr_search]}, {StackedEnsemble : defaults}]\n",
      "15:55:35.56: Disabling Algo: XGBoost as requested by the user.\n",
      "15:55:35.56: AutoML job created: 2021.10.24 15:55:35.54\n",
      "15:55:35.57: AutoML build started: 2021.10.24 15:55:35.56\n",
      "15:55:35.57: AutoML: starting GLM_1_AutoML_20211024_155535 model training\n",
      "\n",
      "\n",
      "15:55:36.73: New leader: GLM_1_AutoML_20211024_155535, rmse: 54.4876400336704\n",
      "15:55:36.73: AutoML: starting DRF_1_AutoML_20211024_155535 model training\n",
      "\n",
      "█\n",
      "15:55:37.83: AutoML: starting GBM_1_AutoML_20211024_155535 model training\n",
      "\n",
      "█\n",
      "15:55:38.92: AutoML: starting GBM_2_AutoML_20211024_155535 model training\n",
      "\n",
      "███\n",
      "15:55:39.107: AutoML: starting GBM_3_AutoML_20211024_155535 model training\n",
      "\n",
      "██\n",
      "15:55:40.118: AutoML: starting GBM_4_AutoML_20211024_155535 model training\n",
      "\n",
      "██\n",
      "15:55:41.131: AutoML: starting GBM_5_AutoML_20211024_155535 model training\n",
      "\n",
      "███\n",
      "15:55:42.142: AutoML: starting DeepLearning_1_AutoML_20211024_155535 model training\n",
      "15:55:43.155: AutoML: starting XRT_1_AutoML_20211024_155535 model training\n",
      "\n",
      "████\n",
      "15:55:44.163: AutoML: starting GBM_grid__1_AutoML_20211024_155535 hyperparameter search\n",
      "\n",
      "███\n",
      "15:55:45.291: AutoML: starting DeepLearning_grid__1_AutoML_20211024_155535 hyperparameter search\n",
      "\n",
      "█████████████████████████████████████\n",
      "15:57:01.259: New leader: DeepLearning_grid__1_AutoML_20211024_155535_model_4, rmse: 53.742608365095414\n",
      "\n",
      "\n",
      "15:58:19.147: AutoML: starting DeepLearning_grid__2_AutoML_20211024_155535 hyperparameter search\n",
      "\n",
      "\n",
      "15:59:42.648: New leader: DeepLearning_grid__2_AutoML_20211024_155535_model_4, rmse: 52.73043879104647\n",
      "\n",
      "\n",
      "16:08:24.149: AutoML: starting DeepLearning_grid__3_AutoML_20211024_155535 hyperparameter search\n",
      "\n",
      "\n",
      "16:10:02.727: New leader: DeepLearning_grid__3_AutoML_20211024_155535_model_4, rmse: 52.48741971898615\n",
      "\n",
      "\n",
      "16:16:17.401: AutoML: starting StackedEnsemble_BestOfFamily_AutoML_20211024_155535 model training\n",
      "16:16:18.412: New leader: StackedEnsemble_BestOfFamily_AutoML_20211024_155535, rmse: 52.36825672315948\n",
      "16:16:18.412: AutoML: starting StackedEnsemble_AllModels_AutoML_20211024_155535 model training\n",
      "\n",
      "\n",
      "16:16:19.427: No base models, due to timeouts or the exclude_algos option. Skipping StackedEnsemble 'monotonic'.\n",
      "16:16:19.427: Actual modeling steps: [{GLM : [def_1 (10)]}, {DRF : [def_1 (10)]}, {GBM : [def_1 (10), def_2 (10), def_3 (10), def_4 (10), def_5 (10)]}, {DeepLearning : [def_1 (10)]}, {DRF : [XRT (10)]}, {GBM : [grid_1 (60)]}, {DeepLearning : [grid_1 (20), grid_2 (20), grid_3 (20)]}, {StackedEnsemble : [best (10), all (10)]}]\n",
      "16:16:19.427: AutoML build stopped: 2021.10.24 16:16:19.427\n",
      "16:16:19.427: AutoML build done: built 74 models\n",
      "16:16:19.427: AutoML duration: 20 min 44.371 sec\n",
      "\n",
      "| 100%\n"
     ]
    },
    {
     "data": {
      "text/html": [
       "<table>\n",
       "<thead>\n",
       "<tr><th>model_id                                            </th><th style=\"text-align: right;\">   rmse</th><th style=\"text-align: right;\">  mean_residual_deviance</th><th style=\"text-align: right;\">    mse</th><th style=\"text-align: right;\">    mae</th><th style=\"text-align: right;\">   rmsle</th></tr>\n",
       "</thead>\n",
       "<tbody>\n",
       "<tr><td>StackedEnsemble_BestOfFamily_AutoML_20211024_155535 </td><td style=\"text-align: right;\">52.3683</td><td style=\"text-align: right;\">                 2742.43</td><td style=\"text-align: right;\">2742.43</td><td style=\"text-align: right;\">42.4981</td><td style=\"text-align: right;\">0.391665</td></tr>\n",
       "<tr><td>DeepLearning_grid__3_AutoML_20211024_155535_model_4 </td><td style=\"text-align: right;\">52.4874</td><td style=\"text-align: right;\">                 2754.93</td><td style=\"text-align: right;\">2754.93</td><td style=\"text-align: right;\">42.1054</td><td style=\"text-align: right;\">0.384683</td></tr>\n",
       "<tr><td>DeepLearning_grid__3_AutoML_20211024_155535_model_13</td><td style=\"text-align: right;\">52.6306</td><td style=\"text-align: right;\">                 2769.98</td><td style=\"text-align: right;\">2769.98</td><td style=\"text-align: right;\">41.4596</td><td style=\"text-align: right;\">0.389186</td></tr>\n",
       "<tr><td>DeepLearning_grid__2_AutoML_20211024_155535_model_4 </td><td style=\"text-align: right;\">52.7304</td><td style=\"text-align: right;\">                 2780.5 </td><td style=\"text-align: right;\">2780.5 </td><td style=\"text-align: right;\">42.4526</td><td style=\"text-align: right;\">0.394401</td></tr>\n",
       "<tr><td>StackedEnsemble_AllModels_AutoML_20211024_155535    </td><td style=\"text-align: right;\">52.8796</td><td style=\"text-align: right;\">                 2796.25</td><td style=\"text-align: right;\">2796.25</td><td style=\"text-align: right;\">42.9831</td><td style=\"text-align: right;\">0.400024</td></tr>\n",
       "<tr><td>DeepLearning_grid__2_AutoML_20211024_155535_model_13</td><td style=\"text-align: right;\">53.1704</td><td style=\"text-align: right;\">                 2827.09</td><td style=\"text-align: right;\">2827.09</td><td style=\"text-align: right;\">42.6654</td><td style=\"text-align: right;\">0.395132</td></tr>\n",
       "<tr><td>DeepLearning_grid__3_AutoML_20211024_155535_model_20</td><td style=\"text-align: right;\">53.2185</td><td style=\"text-align: right;\">                 2832.21</td><td style=\"text-align: right;\">2832.21</td><td style=\"text-align: right;\">42.3829</td><td style=\"text-align: right;\">0.390696</td></tr>\n",
       "<tr><td>DeepLearning_grid__2_AutoML_20211024_155535_model_12</td><td style=\"text-align: right;\">53.5767</td><td style=\"text-align: right;\">                 2870.46</td><td style=\"text-align: right;\">2870.46</td><td style=\"text-align: right;\">43.0908</td><td style=\"text-align: right;\">0.398212</td></tr>\n",
       "<tr><td>DeepLearning_grid__2_AutoML_20211024_155535_model_30</td><td style=\"text-align: right;\">53.6584</td><td style=\"text-align: right;\">                 2879.23</td><td style=\"text-align: right;\">2879.23</td><td style=\"text-align: right;\">42.8608</td><td style=\"text-align: right;\">0.392044</td></tr>\n",
       "<tr><td>DeepLearning_grid__3_AutoML_20211024_155535_model_12</td><td style=\"text-align: right;\">53.7267</td><td style=\"text-align: right;\">                 2886.56</td><td style=\"text-align: right;\">2886.56</td><td style=\"text-align: right;\">43.5754</td><td style=\"text-align: right;\">0.400656</td></tr>\n",
       "</tbody>\n",
       "</table>"
      ]
     },
     "metadata": {},
     "output_type": "display_data"
    },
    {
     "name": "stdout",
     "output_type": "stream",
     "text": [
      "\n",
      "### EVALUATED MODELS ###\n",
      "\n",
      "\n",
      "Test RMSE achieved with H2O with early stopping: 58.85527\n",
      "\n",
      "Wall time: 20min 45s\n"
     ]
    }
   ],
   "source": [
    "%%time\n",
    "\n",
    "# Running H2OAutoML and tracking time\n",
    "lb, h2o_score = train_eval_h2o(aml, \n",
    "                               x, y, \n",
    "                               train_frame, \n",
    "                               test_frame)\n",
    "\n",
    "# Viewing the leaderboard and test RMSE\n",
    "print(\"\\n### EVALUATED MODELS ###\\n\"\n",
    "      f\"{lb}\")\n",
    "print(f\"\\nTest RMSE achieved with H2O with early stopping: {h2o_score.rmse():.5f}\\n\")"
   ]
  },
  {
   "cell_type": "markdown",
   "id": "070fa101-fdd7-4b30-8440-6c92f77554e9",
   "metadata": {},
   "source": [
    "#### TPOT performance with early stopping (regressor only)"
   ]
  },
  {
   "cell_type": "code",
   "execution_count": 37,
   "id": "43d91fac-b306-4b5e-be36-03d5505d2ff9",
   "metadata": {},
   "outputs": [],
   "source": [
    "# Insantiating our TPOT pipeline optimizer\n",
    "pipeline_optimizer = create_tpot_optimizer(mode=\"regression\", \n",
    "                                           max_time_mins=60, \n",
    "                                           early_stop=2, \n",
    "                                           template=\"Regressor\")"
   ]
  },
  {
   "cell_type": "code",
   "execution_count": 38,
   "id": "76de8fee-a901-4cea-b3c1-d952a2ad7e6d",
   "metadata": {},
   "outputs": [
    {
     "data": {
      "application/vnd.jupyter.widget-view+json": {
       "model_id": "",
       "version_major": 2,
       "version_minor": 0
      },
      "text/plain": [
       "Optimization Progress:   0%|          | 0/100 [00:00<?, ?pipeline/s]"
      ]
     },
     "metadata": {},
     "output_type": "display_data"
    },
    {
     "name": "stdout",
     "output_type": "stream",
     "text": [
      "\n",
      "Generation 1 - Current best internal CV score: -53.65111784666097\n",
      "\n",
      "Generation 2 - Current best internal CV score: -53.65111784666097\n",
      "\n",
      "Generation 3 - Current best internal CV score: -53.65111784666097\n",
      "\n",
      "The optimized pipeline was not improved after evaluating 2 more generations. Will end the optimization process.\n",
      "\n",
      "TPOT closed prematurely. Will use the current best pipeline.\n",
      "\n",
      "Best pipeline: LinearSVR(input_matrix, C=25.0, dual=True, epsilon=0.01, loss=squared_epsilon_insensitive, tol=1e-05)\n",
      "\n",
      "### BEST PIPELINE ###\n",
      "Pipeline(steps=[('linearsvr',\n",
      "                 LinearSVR(C=25.0, epsilon=0.01,\n",
      "                           loss='squared_epsilon_insensitive', random_state=1,\n",
      "                           tol=1e-05))])\n",
      "\n",
      "Test RMSE achieved with TPOT with early stopping & regressor only: -57.86010\n",
      "\n",
      "Wall time: 2min 38s\n"
     ]
    }
   ],
   "source": [
    "%%time\n",
    "\n",
    "# Running the TPOT pipeline optimizer and tracking time\n",
    "fitted_pipeline, tpot_score = train_eval_tpot(pipeline_optimizer, \n",
    "                                              X_train, y_train, \n",
    "                                              X_test, y_test)\n",
    "\n",
    "# Viewing the leaderboard and test RMSE\n",
    "print(\"\\n### BEST PIPELINE ###\\n\"\n",
    "      f\"{fitted_pipeline}\")\n",
    "print(f\"\\nTest RMSE achieved with TPOT with early stopping & regressor only: {tpot_score:.5f}\\n\")"
   ]
  },
  {
   "cell_type": "markdown",
   "id": "33ce2cac-1302-4b1b-8056-debc37c0e1fe",
   "metadata": {},
   "source": [
    "### Regression with 50 models/pipelines"
   ]
  },
  {
   "cell_type": "markdown",
   "id": "4c0c83e0-1562-4dfa-a08e-929218e20cbf",
   "metadata": {},
   "source": [
    "#### TPOT regression with 50 pipelines"
   ]
  },
  {
   "cell_type": "code",
   "execution_count": 39,
   "id": "0128e9a9-5638-44a9-8eb5-15126793fc2e",
   "metadata": {},
   "outputs": [],
   "source": [
    "# Insantiating our TPOT pipeline optimizer\n",
    "pipeline_optimizer = create_tpot_optimizer(mode=\"regression\", \n",
    "                                           max_time_mins=None, \n",
    "                                           generations=4,\n",
    "                                           population_size=10, \n",
    "                                           offspring_size=10)"
   ]
  },
  {
   "cell_type": "code",
   "execution_count": 40,
   "id": "94072e53-3ed8-4d56-a59b-e7c59269ea92",
   "metadata": {},
   "outputs": [
    {
     "data": {
      "application/vnd.jupyter.widget-view+json": {
       "model_id": "",
       "version_major": 2,
       "version_minor": 0
      },
      "text/plain": [
       "Optimization Progress:   0%|          | 0/50 [00:00<?, ?pipeline/s]"
      ]
     },
     "metadata": {},
     "output_type": "display_data"
    },
    {
     "name": "stdout",
     "output_type": "stream",
     "text": [
      "\n",
      "Generation 1 - Current best internal CV score: -53.477621588444\n",
      "\n",
      "Generation 2 - Current best internal CV score: -53.477621588444\n",
      "\n",
      "Generation 3 - Current best internal CV score: -53.477621588444\n",
      "\n",
      "Generation 4 - Current best internal CV score: -53.363351381266135\n",
      "\n",
      "Best pipeline: LassoLarsCV(PCA(RobustScaler(input_matrix), iterated_power=2, svd_solver=randomized), normalize=True)\n",
      "\n",
      "### BEST PIPELINE ###\n",
      "Pipeline(steps=[('robustscaler', RobustScaler()),\n",
      "                ('pca',\n",
      "                 PCA(iterated_power=2, random_state=1,\n",
      "                     svd_solver='randomized')),\n",
      "                ('lassolarscv', LassoLarsCV(normalize=True))])\n",
      "\n",
      "Test sRMSE achieved with TPOT after training 50 pipelines: -58.85207\n",
      "\n",
      "Wall time: 15.4 s\n"
     ]
    }
   ],
   "source": [
    "%%time\n",
    "\n",
    "# Running the TPOT pipeline optimizer and tracking time\n",
    "fitted_pipeline, tpot_score = train_eval_tpot(pipeline_optimizer, \n",
    "                                              X_train, y_train, \n",
    "                                              X_test, y_test)\n",
    "\n",
    "# Viewing the best model and test RMSE\n",
    "print(\"\\n### BEST PIPELINE ###\\n\"\n",
    "      f\"{fitted_pipeline}\")\n",
    "print(f\"\\nTest sRMSE achieved with TPOT after training 50 pipelines: {tpot_score:.5f}\\n\")"
   ]
  },
  {
   "cell_type": "markdown",
   "id": "ccfe21db-b64d-4a95-9525-cce3a0b630bc",
   "metadata": {},
   "source": [
    "#### H2O regression with 50 models"
   ]
  },
  {
   "cell_type": "code",
   "execution_count": 41,
   "id": "2c3ff91f-ce4a-44e2-8c78-8c30b36ef997",
   "metadata": {},
   "outputs": [],
   "source": [
    "# Instantiating H2OAutoML\n",
    "aml = create_h2o_automl(mode=\"regression\", \n",
    "                        max_runtime_secs=0, \n",
    "                        max_models=50)"
   ]
  },
  {
   "cell_type": "code",
   "execution_count": 42,
   "id": "b5f3e770-4979-4779-944f-34f650090e45",
   "metadata": {},
   "outputs": [
    {
     "name": "stdout",
     "output_type": "stream",
     "text": [
      "AutoML progress: |\n",
      "16:19:14.801: Project: AutoML_20211024_161914801\n",
      "16:19:14.801: Setting stopping tolerance adaptively based on the training frame: 0.05\n",
      "16:19:14.801: Build control seed: 1\n",
      "16:19:14.801: training frame: Frame key: automl_training_py_497_sid_9bc1    cols: 11    rows: 353  chunks: 1    size: 16936  checksum: -7230522126757213732\n",
      "16:19:14.801: validation frame: NULL\n",
      "16:19:14.801: leaderboard frame: NULL\n",
      "16:19:14.801: blending frame: NULL\n",
      "16:19:14.801: response column: target\n",
      "16:19:14.802: fold column: null\n",
      "16:19:14.802: weights column: null\n",
      "16:19:14.802: AutoML: XGBoost is not available; skipping it.\n",
      "16:19:14.802: Loading execution steps: [{XGBoost : defaults}, {GLM : defaults}, {DRF : [def_1]}, {GBM : defaults}, {DeepLearning : defaults}, {DRF : [XRT]}, {XGBoost : grids}, {GBM : grids}, {DeepLearning : grids}, {GBM : [lr_annealing]}, {XGBoost : [lr_search]}, {StackedEnsemble : defaults}]\n",
      "16:19:14.802: Disabling Algo: XGBoost as requested by the user.\n",
      "16:19:14.802: AutoML job created: 2021.10.24 16:19:14.801\n",
      "16:19:14.802: AutoML build started: 2021.10.24 16:19:14.802\n",
      "16:19:14.803: AutoML: starting GLM_1_AutoML_20211024_161914 model training\n",
      "\n",
      "\n",
      "16:19:15.811: New leader: GLM_1_AutoML_20211024_161914, rmse: 54.4876400336704\n",
      "16:19:15.811: AutoML: starting DRF_1_AutoML_20211024_161914 model training\n",
      "\n",
      "█\n",
      "16:19:16.818: AutoML: starting GBM_1_AutoML_20211024_161914 model training\n",
      "\n",
      "█████████████\n",
      "16:21:17.642: AutoML: starting GBM_2_AutoML_20211024_161914 model training\n",
      "\n",
      "█████\n",
      "16:23:14.994: AutoML: starting GBM_3_AutoML_20211024_161914 model training\n",
      "\n",
      "█████\n",
      "16:25:17.211: AutoML: starting GBM_4_AutoML_20211024_161914 model training\n",
      "\n",
      "████\n",
      "16:27:23.643: AutoML: starting GBM_5_AutoML_20211024_161914 model training\n",
      "\n",
      "███\n",
      "16:28:59.780: AutoML: starting DeepLearning_1_AutoML_20211024_161914 model training\n",
      "16:29:00.795: AutoML: starting XRT_1_AutoML_20211024_161914 model training\n",
      "16:29:01.808: AutoML: starting GBM_grid__1_AutoML_20211024_161914 hyperparameter search\n",
      "\n",
      "████████████████████████\n",
      "17:09:35.247: AutoML: starting DeepLearning_grid__1_AutoML_20211024_161914 hyperparameter search\n",
      "\n",
      "\n",
      "17:13:37.78: AutoML: starting DeepLearning_grid__2_AutoML_20211024_161914 hyperparameter search\n",
      "\n",
      "\n",
      "17:25:48.463: New leader: DeepLearning_grid__2_AutoML_20211024_161914_model_7, rmse: 53.93525865235096\n",
      "17:25:48.463: AutoML: starting DeepLearning_grid__3_AutoML_20211024_161914 hyperparameter search\n",
      "\n",
      "█\n",
      "17:49:42.469: AutoML: starting StackedEnsemble_BestOfFamily_AutoML_20211024_161914 model training\n",
      "17:49:43.486: New leader: StackedEnsemble_BestOfFamily_AutoML_20211024_161914, rmse: 52.93844814867742\n",
      "17:49:43.486: AutoML: starting StackedEnsemble_AllModels_AutoML_20211024_161914 model training\n",
      "\n",
      "| 100%\n",
      "\n",
      "17:49:44.497: No base models, due to timeouts or the exclude_algos option. Skipping StackedEnsemble 'monotonic'.\n",
      "17:49:44.497: Actual modeling steps: [{GLM : [def_1 (10)]}, {DRF : [def_1 (10)]}, {GBM : [def_1 (10), def_2 (10), def_3 (10), def_4 (10), def_5 (10)]}, {DeepLearning : [def_1 (10)]}, {DRF : [XRT (10)]}, {GBM : [grid_1 (60)]}, {DeepLearning : [grid_1 (20), grid_2 (20), grid_3 (20)]}, {StackedEnsemble : [best (10), all (10)]}]\n",
      "17:49:44.497: AutoML build stopped: 2021.10.24 17:49:44.497\n",
      "17:49:44.497: AutoML build done: built 52 models\n",
      "17:49:44.497: AutoML duration:  1:30:29.695\n",
      "\n"
     ]
    },
    {
     "data": {
      "text/html": [
       "<table>\n",
       "<thead>\n",
       "<tr><th>model_id                                           </th><th style=\"text-align: right;\">   rmse</th><th style=\"text-align: right;\">  mean_residual_deviance</th><th style=\"text-align: right;\">    mse</th><th style=\"text-align: right;\">    mae</th><th style=\"text-align: right;\">   rmsle</th></tr>\n",
       "</thead>\n",
       "<tbody>\n",
       "<tr><td>StackedEnsemble_BestOfFamily_AutoML_20211024_161914</td><td style=\"text-align: right;\">52.9384</td><td style=\"text-align: right;\">                 2802.48</td><td style=\"text-align: right;\">2802.48</td><td style=\"text-align: right;\">42.7464</td><td style=\"text-align: right;\">0.39829 </td></tr>\n",
       "<tr><td>StackedEnsemble_AllModels_AutoML_20211024_161914   </td><td style=\"text-align: right;\">53.7145</td><td style=\"text-align: right;\">                 2885.25</td><td style=\"text-align: right;\">2885.25</td><td style=\"text-align: right;\">43.7958</td><td style=\"text-align: right;\">0.405484</td></tr>\n",
       "<tr><td>DeepLearning_grid__2_AutoML_20211024_161914_model_7</td><td style=\"text-align: right;\">53.9353</td><td style=\"text-align: right;\">                 2909.01</td><td style=\"text-align: right;\">2909.01</td><td style=\"text-align: right;\">42.7737</td><td style=\"text-align: right;\">0.400986</td></tr>\n",
       "<tr><td>DeepLearning_grid__3_AutoML_20211024_161914_model_3</td><td style=\"text-align: right;\">54.1912</td><td style=\"text-align: right;\">                 2936.68</td><td style=\"text-align: right;\">2936.68</td><td style=\"text-align: right;\">43.6678</td><td style=\"text-align: right;\">0.409357</td></tr>\n",
       "<tr><td>GLM_1_AutoML_20211024_161914                       </td><td style=\"text-align: right;\">54.4876</td><td style=\"text-align: right;\">                 2968.9 </td><td style=\"text-align: right;\">2968.9 </td><td style=\"text-align: right;\">44.1634</td><td style=\"text-align: right;\">0.411197</td></tr>\n",
       "<tr><td>DeepLearning_grid__1_AutoML_20211024_161914_model_6</td><td style=\"text-align: right;\">54.5803</td><td style=\"text-align: right;\">                 2979.01</td><td style=\"text-align: right;\">2979.01</td><td style=\"text-align: right;\">44.1267</td><td style=\"text-align: right;\">0.415109</td></tr>\n",
       "<tr><td>DeepLearning_grid__1_AutoML_20211024_161914_model_7</td><td style=\"text-align: right;\">54.7017</td><td style=\"text-align: right;\">                 2992.28</td><td style=\"text-align: right;\">2992.28</td><td style=\"text-align: right;\">42.9619</td><td style=\"text-align: right;\">0.440514</td></tr>\n",
       "<tr><td>DeepLearning_grid__2_AutoML_20211024_161914_model_1</td><td style=\"text-align: right;\">54.8178</td><td style=\"text-align: right;\">                 3005   </td><td style=\"text-align: right;\">3005   </td><td style=\"text-align: right;\">43.6405</td><td style=\"text-align: right;\">0.420273</td></tr>\n",
       "<tr><td>DeepLearning_grid__3_AutoML_20211024_161914_model_1</td><td style=\"text-align: right;\">55.1415</td><td style=\"text-align: right;\">                 3040.59</td><td style=\"text-align: right;\">3040.59</td><td style=\"text-align: right;\">43.9334</td><td style=\"text-align: right;\">0.408651</td></tr>\n",
       "<tr><td>DeepLearning_grid__3_AutoML_20211024_161914_model_5</td><td style=\"text-align: right;\">55.2298</td><td style=\"text-align: right;\">                 3050.33</td><td style=\"text-align: right;\">3050.33</td><td style=\"text-align: right;\">45.6447</td><td style=\"text-align: right;\">0.433152</td></tr>\n",
       "</tbody>\n",
       "</table>"
      ]
     },
     "metadata": {},
     "output_type": "display_data"
    },
    {
     "name": "stdout",
     "output_type": "stream",
     "text": [
      "\n",
      "### EVALUATED MODELS ###\n",
      "\n",
      "\n",
      "Test RMSE achieved with H2O with 50 models: 62.30348\n",
      "\n",
      "Wall time: 1h 30min 30s\n"
     ]
    }
   ],
   "source": [
    "%%time\n",
    "\n",
    "# Running H2OAutoML and tracking time\n",
    "lb, h2o_score = train_eval_h2o(aml, \n",
    "                               x, y, \n",
    "                               train_frame, \n",
    "                               test_frame)\n",
    "\n",
    "# Viewing the leaderboard and test RMSE\n",
    "print(\"\\n### EVALUATED MODELS ###\\n\"\n",
    "      f\"{lb}\")\n",
    "print(f\"\\nTest RMSE achieved with H2O with 50 models: {h2o_score.rmse():.5f}\\n\")"
   ]
  },
  {
   "cell_type": "markdown",
   "id": "e6bda026-397c-4470-a4a1-db83e2ec9517",
   "metadata": {},
   "source": [
    "#### TPOT regression with 50 pipelines (regressor only)"
   ]
  },
  {
   "cell_type": "code",
   "execution_count": 43,
   "id": "5aaba668-6fee-48bd-b041-dc99c09c139b",
   "metadata": {},
   "outputs": [],
   "source": [
    "# Insantiating our TPOT pipeline optimizer\n",
    "pipeline_optimizer = create_tpot_optimizer(mode=\"regression\", \n",
    "                                           max_time_mins=None, \n",
    "                                           generations=4,\n",
    "                                           population_size=10, \n",
    "                                           offspring_size=10, \n",
    "                                           template=\"Regressor\")"
   ]
  },
  {
   "cell_type": "code",
   "execution_count": 44,
   "id": "6ef52a88-8761-432b-8071-05babd1480c2",
   "metadata": {},
   "outputs": [
    {
     "data": {
      "application/vnd.jupyter.widget-view+json": {
       "model_id": "",
       "version_major": 2,
       "version_minor": 0
      },
      "text/plain": [
       "Optimization Progress:   0%|          | 0/50 [00:00<?, ?pipeline/s]"
      ]
     },
     "metadata": {},
     "output_type": "display_data"
    },
    {
     "name": "stdout",
     "output_type": "stream",
     "text": [
      "\n",
      "Generation 1 - Current best internal CV score: -53.77645240269734\n",
      "\n",
      "Generation 2 - Current best internal CV score: -53.77645240269734\n",
      "\n",
      "Generation 3 - Current best internal CV score: -53.77645240269734\n",
      "\n",
      "Generation 4 - Current best internal CV score: -53.77645240269734\n",
      "\n",
      "Best pipeline: LassoLarsCV(input_matrix, normalize=False)\n",
      "\n",
      "### BEST PIPELINE ###\n",
      "Pipeline(steps=[('lassolarscv', LassoLarsCV(normalize=False))])\n",
      "\n",
      "Test RMSE achieved with TPOT after training 50 pipelines (regressor only): -58.91560\n",
      "\n",
      "Wall time: 20.3 s\n"
     ]
    }
   ],
   "source": [
    "%%time\n",
    "\n",
    "# Running the TPOT pipeline optimizer and tracking time\n",
    "fitted_pipeline, tpot_score = train_eval_tpot(pipeline_optimizer, \n",
    "                                              X_train, y_train, \n",
    "                                              X_test, y_test)\n",
    "\n",
    "# Viewing the best pipeline and test RMSE\n",
    "print(\"\\n### BEST PIPELINE ###\\n\"\n",
    "      f\"{fitted_pipeline}\")\n",
    "print(f\"\\nTest RMSE achieved with TPOT after training 50 pipelines (regressor only): {tpot_score:.5f}\\n\")"
   ]
  },
  {
   "cell_type": "markdown",
   "id": "0b23f6bd-d8f2-443c-aff5-f18202282657",
   "metadata": {},
   "source": [
    "## Plotting training times and results"
   ]
  },
  {
   "cell_type": "code",
   "execution_count": 1,
   "id": "3827fdb7-7c38-48d1-adab-1914c6cc5869",
   "metadata": {},
   "outputs": [],
   "source": [
    "# Importing dependencies\n",
    "import pandas as pd\n",
    "import numpy as np\n",
    "import matplotlib\n",
    "import matplotlib.pyplot as plt"
   ]
  },
  {
   "cell_type": "code",
   "execution_count": 2,
   "id": "2b713984-5cf8-4984-a43e-2f160466a3ce",
   "metadata": {},
   "outputs": [],
   "source": [
    "# Setting larger figure and font sizes\n",
    "matplotlib.rcParams.update({\"figure.figsize\": (15, 10)})\n",
    "matplotlib.rcParams.update({\"font.size\": 15})"
   ]
  },
  {
   "cell_type": "code",
   "execution_count": 3,
   "id": "405a531f-a246-418e-91fe-43a85c736971",
   "metadata": {},
   "outputs": [],
   "source": [
    "# Reading the results CSV\n",
    "results = pd.read_csv(\"results.csv\")"
   ]
  },
  {
   "cell_type": "code",
   "execution_count": 4,
   "id": "9dcfe3d8-30a7-4ed8-a50c-5286bb56d08c",
   "metadata": {},
   "outputs": [],
   "source": [
    "# Function for  obtaining training times from the results\n",
    "def get_training_times(dataframe):\n",
    "    indices = [index for index, _ in enumerate(results[\"Metric\"]) if \"classification time\" in _]\n",
    "    classification_times = dataframe.iloc[indices]\n",
    "    \n",
    "    indices = [index for index, _ in enumerate(results[\"Metric\"]) if \"regression time\" in _]\n",
    "    regression_times = dataframe.iloc[indices]\n",
    "    \n",
    "    return ((classification_times.drop([\"Metric\"], axis=1) / 60).round(2), \n",
    "            (regression_times.drop([\"Metric\"], axis=1) / 60).round(2))"
   ]
  },
  {
   "cell_type": "code",
   "execution_count": 5,
   "id": "be92fae4-38fe-4dc7-a647-446b1b91097e",
   "metadata": {},
   "outputs": [],
   "source": [
    "# Function for obtaining test scores from the results\n",
    "def get_test_scores(dataframe):\n",
    "    indices = [index for index, _ in enumerate(results[\"Metric\"]) if \"AUC\" in _]\n",
    "    classification_scores = dataframe.iloc[indices]\n",
    "    \n",
    "    indices = [index for index, _ in enumerate(results[\"Metric\"]) if \"RMSE\" in _]\n",
    "    regression_scores = dataframe.iloc[indices]\n",
    "    \n",
    "    return (classification_scores.drop([\"Metric\"], axis=1), \n",
    "            regression_scores.drop([\"Metric\"], axis=1).abs())"
   ]
  },
  {
   "cell_type": "code",
   "execution_count": 6,
   "id": "1e378bce-f2b3-4f7c-aec1-4337c66d94e9",
   "metadata": {},
   "outputs": [],
   "source": [
    "# Obtaining training times\n",
    "classification_times, regression_times = get_training_times(results)\n",
    "\n",
    "# Obtaining test scores\n",
    "classification_scores, regression_scores = get_test_scores(results)"
   ]
  },
  {
   "cell_type": "code",
   "execution_count": 7,
   "id": "932f0f2b-b396-414b-952c-5a46529f7cd7",
   "metadata": {},
   "outputs": [],
   "source": [
    "# Setting the range of x values for the bar plot\n",
    "x = np.arange(len(classification_scores))\n",
    "\n",
    "# Setting the width of bars\n",
    "width = 0.3"
   ]
  },
  {
   "cell_type": "code",
   "execution_count": 8,
   "id": "8ca5c63c-0fa5-4172-900c-ff34873686c2",
   "metadata": {},
   "outputs": [],
   "source": [
    "# Function for plotting scores\n",
    "def plot_scores(x, width, scores, mode, save_dir):\n",
    "    # Creating a figure and an ax\n",
    "    fig, ax = plt.subplots()\n",
    "\n",
    "     # Defining an ylabel and ylim and setting the plot title based on mode\n",
    "    if mode == \"classification\":\n",
    "        ylabel = \"AUC\"\n",
    "        ylim = [scores.min().min() - 0.005, 1]\n",
    "        ax.set_title(\"Best Test AUC Achieved in Classification\")\n",
    "        tpot_label = \"Classifier\"\n",
    "    elif mode == \"regression\":\n",
    "        ax.set_title(\"Best Test RMSE Achieved in Regression\")\n",
    "        ylim = [scores.min().min() - 5, scores.max().max() + 5]\n",
    "        tpot_label = \"Regressor\"\n",
    "        ylabel= \"RMSE\"        \n",
    "    \n",
    "    # Plotting scores\n",
    "    tpot_score = ax.bar(x - width, scores[\"TPOT\"], width, label=\"TPOT\")\n",
    "    tpot_cls_reg_score = score = ax.bar(x, scores[\"TPOT (classifier/regressor only)\"], width, label=f\"TPOT {tpot_label}\")\n",
    "    tpot_h2o_score = ax.bar(x + width, scores[\"H2O\"], width, label=\"H2O\")\n",
    "    \n",
    "    # Setting the ylabel, xticks, and xticklabels\n",
    "    ax.set_ylabel(ylabel)\n",
    "    ax.set_xticks(x)\n",
    "    ax.set_xticklabels([\"Within 3 minutes\", \"With early stopping\", \"With 50 models/pipelines\"])\n",
    "\n",
    "    # Setting the y-axis limits\n",
    "    ax.set_ylim(ylim)\n",
    "\n",
    "    # Plotting score values\n",
    "    ax.bar_label(tpot_score, padding=10)\n",
    "    ax.bar_label(tpot_cls_reg_score, padding=10)\n",
    "    ax.bar_label(tpot_h2o_score, padding=10)\n",
    "\n",
    "    # Calling a legend\n",
    "    ax.legend()\n",
    "    \n",
    "    # Adjusting subplot params to make the ax cleaner\n",
    "    fig.tight_layout()\n",
    "\n",
    "    # Saving the plot\n",
    "    plt.savefig(save_dir)\n",
    "    \n",
    "    # Showing the plot\n",
    "    plt.show()       "
   ]
  },
  {
   "cell_type": "code",
   "execution_count": 9,
   "id": "d1058dfb-989e-4717-aa22-ddbf70dd6d22",
   "metadata": {},
   "outputs": [
    {
     "data": {
      "image/png": "[encoded data removed]",
      "text/plain": [
       "<Figure size 1080x720 with 1 Axes>"
      ]
     },
     "metadata": {
      "needs_background": "light"
     },
     "output_type": "display_data"
    }
   ],
   "source": [
    "plot_scores(x, width, classification_scores, \"classification\", \"test_plots/auc.png\")"
   ]
  },
  {
   "cell_type": "code",
   "execution_count": 10,
   "id": "1ac4277f-4476-497b-af27-fbb52410187a",
   "metadata": {},
   "outputs": [
    {
     "data": {
      "image/png": "[encoded data removed]",
      "text/plain": [
       "<Figure size 1080x720 with 1 Axes>"
      ]
     },
     "metadata": {
      "needs_background": "light"
     },
     "output_type": "display_data"
    }
   ],
   "source": [
    "plot_scores(x, width, regression_scores, \"regression\", \"test_plots/rmse.png\")"
   ]
  },
  {
   "cell_type": "code",
   "execution_count": 11,
   "id": "00c1fdea-ecef-4467-9a68-eff0bc415cc2",
   "metadata": {},
   "outputs": [],
   "source": [
    "# Function for plotting times\n",
    "def plot_times(x, width, times, mode, save_dir):\n",
    "    # Creating a figure and an ax\n",
    "    fig, ax = plt.subplots()\n",
    "    \n",
    "    if mode == \"classification\":\n",
    "        tpot_label = \"Classifier\"\n",
    "    if mode == \"regression\":\n",
    "        tpot_label = \"Regressor\"\n",
    "    \n",
    "    # Plotting times\n",
    "    tpot_score = ax.bar(x - width, times[\"TPOT\"], width, label=\"TPOT\")\n",
    "    tpot_cls_reg_score = score = ax.bar(x, times[\"TPOT (classifier/regressor only)\"], width, label=f\"TPOT {tpot_label}\")\n",
    "    tpot_h2o_score = ax.bar(x + width, times[\"H2O\"], width, label=\"H2O\")   \n",
    "    \n",
    "    # Setting ax title, ylabel, xticks, and xticklabels\n",
    "    ax.set_title(f\"Training Times in Minutes for {mode.capitalize()}\")\n",
    "    ax.set_ylabel(\"Minutes\")\n",
    "    ax.set_xticks(x)\n",
    "    ax.set_xticklabels([\"Within 3 minutes\", \"With early stopping\", \"With 50 models/pipelines\"])\n",
    "\n",
    "    # Setting the ylim based on provided times\n",
    "    ylim = [np.max((0, times.min().min() - 50)), times.max().max() + 20]\n",
    "    ax.set_ylim(ylim)\n",
    "\n",
    "    # Plotting times\n",
    "    ax.bar_label(tpot_score, padding=10)\n",
    "    ax.bar_label(tpot_cls_reg_score, padding=10)\n",
    "    ax.bar_label(tpot_h2o_score, padding=10)\n",
    "\n",
    "    # Calling a legend\n",
    "    ax.legend()\n",
    "\n",
    "    # Adjusting subplot params to make the ax cleaner\n",
    "    fig.tight_layout()\n",
    "    \n",
    "    # Saving the plot\n",
    "    plt.savefig(save_dir)\n",
    "    \n",
    "    # Showing the plot\n",
    "    plt.show()"
   ]
  },
  {
   "cell_type": "code",
   "execution_count": 12,
   "id": "06a0271e-07ad-4487-83b7-2d59932011ea",
   "metadata": {},
   "outputs": [
    {
     "data": {
      "image/png": "[encoded data removed]",
      "text/plain": [
       "<Figure size 1080x720 with 1 Axes>"
      ]
     },
     "metadata": {
      "needs_background": "light"
     },
     "output_type": "display_data"
    }
   ],
   "source": [
    "plot_times(x, width, classification_times, \"classification\", \"test_plots/class_time.png\")"
   ]
  },
  {
   "cell_type": "code",
   "execution_count": 13,
   "id": "111bcbba-ba4b-4f43-8e47-5f37b4e2f54c",
   "metadata": {},
   "outputs": [
    {
     "data": {
      "image/png": "[encoded data removed]",
      "text/plain": [
       "<Figure size 1080x720 with 1 Axes>"
      ]
     },
     "metadata": {
      "needs_background": "light"
     },
     "output_type": "display_data"
    }
   ],
   "source": [
    "plot_times(x, width, regression_times, \"regression\",  \"test_plots/regr_time.png\")"
   ]
  }
 ],
 "metadata": {
  "kernelspec": {
   "display_name": "Python 3",
   "language": "python",
   "name": "python3"
  },
  "language_info": {
   "codemirror_mode": {
    "name": "ipython",
    "version": 3
   },
   "file_extension": ".py",
   "mimetype": "text/x-python",
   "name": "python",
   "nbconvert_exporter": "python",
   "pygments_lexer": "ipython3",
   "version": "3.9.5"
  }
 },
 "nbformat": 4,
 "nbformat_minor": 5
}
