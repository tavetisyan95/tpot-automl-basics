{
 "cells": [
  {
   "cell_type": "markdown",
   "id": "04ff9ed5-1bfa-4c77-953a-04f29cb118cc",
   "metadata": {},
   "source": [
    "# Performance Comparison of the TPOT and H2O AutoML Algorithms"
   ]
  },
  {
   "cell_type": "markdown",
   "id": "599ae207-cbcc-443e-bf38-6cfabed639f3",
   "metadata": {},
   "source": [
    "## Classification"
   ]
  },
  {
   "cell_type": "markdown",
   "id": "08786beb-96c9-4102-8205-c8a8bf88c01c",
   "metadata": {},
   "source": [
    "### Loading data"
   ]
  },
  {
   "cell_type": "code",
   "execution_count": 1,
   "id": "4c4d8e0a-65b9-4ce3-b1bb-09458bffa74c",
   "metadata": {},
   "outputs": [],
   "source": [
    "# Importing dependencies\n",
    "import tpot\n",
    "from tpot import TPOTClassifier, TPOTRegressor\n",
    "import sklearn\n",
    "from sklearn import datasets\n",
    "from sklearn.model_selection import train_test_split\n",
    "\n",
    "# Loading a dataset for training\n",
    "data = datasets.load_breast_cancer()\n",
    "\n",
    "# Splitting our data into train and test sets\n",
    "X_train, X_test, y_train, y_test = train_test_split(data[\"data\"], \n",
    "                                                    data[\"target\"], \n",
    "                                                    test_size=0.2, \n",
    "                                                    stratify=data[\"target\"])"
   ]
  },
  {
   "cell_type": "markdown",
   "id": "b99a00e9-ef10-415f-b94a-61baaae6b598",
   "metadata": {},
   "source": [
    "### Classification in 3 minutes (no early stopping)"
   ]
  },
  {
   "cell_type": "markdown",
   "id": "ccd814fe-04fc-4209-9484-09332611c400",
   "metadata": {},
   "source": [
    "#### TPOT classification performance in 3 minutes"
   ]
  },
  {
   "cell_type": "code",
   "execution_count": 2,
   "id": "5fb40ab2-8e19-4807-a7c0-a0169947f476",
   "metadata": {},
   "outputs": [],
   "source": [
    "# Function for creating a TPOT optimizer\n",
    "def create_tpot_optimizer(mode, \n",
    "                          max_time_mins, \n",
    "                          generations=None, \n",
    "                          population_size=100,\n",
    "                          offspring_size=100,                           \n",
    "                          early_stop=None, \n",
    "                          template=None):    \n",
    "    # TPOT classifier\n",
    "    if mode == \"classification\":\n",
    "        optimizer = TPOTClassifier(generations=generations,\n",
    "                                   population_size=population_size,\n",
    "                                   offspring_size=offspring_size,\n",
    "                                   random_state=1,\n",
    "                                   max_time_mins=max_time_mins,\n",
    "                                   scoring=\"roc_auc\",\n",
    "                                   verbosity=2,\n",
    "                                   early_stop=early_stop,\n",
    "                                   template=template,\n",
    "                                   use_dask=True,\n",
    "                                   n_jobs=-1)\n",
    "    # TPOT regressor\n",
    "    elif mode == \"regression\":        \n",
    "        optimizer = TPOTRegressor(generations=generations,\n",
    "                                  population_size=population_size,\n",
    "                                  offspring_size=offspring_size,\n",
    "                                  random_state=1,\n",
    "                                  max_time_mins=max_time_mins,\n",
    "                                  scoring=\"neg_root_mean_squared_error\",\n",
    "                                  verbosity=2,\n",
    "                                  early_stop=early_stop,                                  \n",
    "                                  template=template,\n",
    "                                  use_dask=True,\n",
    "                                  n_jobs=-1)\n",
    "        \n",
    "    return optimizer"
   ]
  },
  {
   "cell_type": "code",
   "execution_count": 3,
   "id": "d33befb7-1603-4d90-a1ae-8df78eefa5c5",
   "metadata": {},
   "outputs": [],
   "source": [
    "# Insantiating our TPOT pipeline optimizer\n",
    "pipeline_optimizer = create_tpot_optimizer(mode=\"classification\", \n",
    "                                           max_time_mins=3)"
   ]
  },
  {
   "cell_type": "code",
   "execution_count": 4,
   "id": "ae580b60-f83f-4c1c-b15d-befd33c5921a",
   "metadata": {},
   "outputs": [],
   "source": [
    "# Function for training and evaluating the TPOT optimizer\n",
    "def train_eval_tpot(optimizer, \n",
    "                    train_features, train_labels, \n",
    "                    test_features, test_labels):\n",
    "    # Fitting the optimizer\n",
    "    optimizer.fit(train_features, \n",
    "                  train_labels)\n",
    "    \n",
    "    # Obtaining the best pipeline\n",
    "    best_pipeline = optimizer.fitted_pipeline_\n",
    "    \n",
    "    # Evaluating performance on the test set\n",
    "    score = pipeline_optimizer.score(test_features, \n",
    "                                     test_labels)\n",
    "    \n",
    "    return best_pipeline, score    "
   ]
  },
  {
   "cell_type": "code",
   "execution_count": 5,
   "id": "d55d6578-3630-40ad-8395-4025901c9331",
   "metadata": {},
   "outputs": [
    {
     "data": {
      "application/vnd.jupyter.widget-view+json": {
       "model_id": "6da5886cd97c4e529cb8cd1cd59b0835",
       "version_major": 2,
       "version_minor": 0
      },
      "text/plain": [
       "Optimization Progress:   0%|          | 0/100 [00:00<?, ?pipeline/s]"
      ]
     },
     "metadata": {},
     "output_type": "display_data"
    },
    {
     "name": "stdout",
     "output_type": "stream",
     "text": [
      "\n",
      "Generation 1 - Current best internal CV score: 0.9961816305469556\n",
      "\n",
      "Generation 2 - Current best internal CV score: 0.9966976264189886\n",
      "\n",
      "Generation 3 - Current best internal CV score: 0.9966976264189886\n",
      "\n",
      "3.85 minutes have elapsed. TPOT will close down.\n",
      "TPOT closed during evaluation in one generation.\n",
      "WARNING: TPOT may not provide a good pipeline if TPOT is stopped/interrupted in a early generation.\n",
      "\n",
      "\n",
      "TPOT closed prematurely. Will use the current best pipeline.\n",
      "\n",
      "Best pipeline: SGDClassifier(XGBClassifier(PCA(RobustScaler(input_matrix), iterated_power=3, svd_solver=randomized), learning_rate=0.5, max_depth=6, min_child_weight=5, n_estimators=100, n_jobs=1, subsample=0.3, verbosity=0), alpha=0.0, eta0=0.01, fit_intercept=True, l1_ratio=0.0, learning_rate=invscaling, loss=squared_hinge, penalty=elasticnet, power_t=0.5)\n",
      "\n",
      "### BEST PIPELINE ###\n",
      "Pipeline(steps=[('robustscaler', RobustScaler()),\n",
      "                ('pca',\n",
      "                 PCA(iterated_power=3, random_state=1,\n",
      "                     svd_solver='randomized')),\n",
      "                ('stackingestimator',\n",
      "                 StackingEstimator(estimator=XGBClassifier(base_score=0.5,\n",
      "                                                           booster='gbtree',\n",
      "                                                           colsample_bylevel=1,\n",
      "                                                           colsample_bynode=1,\n",
      "                                                           colsample_bytree=1,\n",
      "                                                           gamma=0, gpu_id=-1,\n",
      "                                                           importance_type='gain',\n",
      "                                                           interaction_constraints='',\n",
      "                                                           learning_rat...\n",
      "                                                           monotone_constraints='()',\n",
      "                                                           n_estimators=100,\n",
      "                                                           n_jobs=1,\n",
      "                                                           num_parallel_tree=1,\n",
      "                                                           random_state=1,\n",
      "                                                           reg_alpha=0,\n",
      "                                                           reg_lambda=1,\n",
      "                                                           scale_pos_weight=1,\n",
      "                                                           subsample=0.3,\n",
      "                                                           tree_method='exact',\n",
      "                                                           validate_parameters=1,\n",
      "                                                           verbosity=0))),\n",
      "                ('sgdclassifier',\n",
      "                 SGDClassifier(alpha=0.0, eta0=0.01, l1_ratio=0.0,\n",
      "                               learning_rate='invscaling', loss='squared_hinge',\n",
      "                               penalty='elasticnet', random_state=1))])\n",
      "\n",
      "Test AUC achieved with TPOT in 3 minutes: 0.98942\n",
      "\n",
      "Wall time: 3min 51s\n"
     ]
    }
   ],
   "source": [
    "%%time\n",
    "\n",
    "# Running the TPOT pipeline optimizer and tracking time\n",
    "fitted_pipeline, tpot_score = train_eval_tpot(pipeline_optimizer, \n",
    "                                              X_train, y_train, \n",
    "                                              X_test, y_test)\n",
    "\n",
    "# Viewing the best model and test AUC\n",
    "print(\"\\n### BEST PIPELINE ###\\n\"\n",
    "      f\"{fitted_pipeline}\")\n",
    "print(f\"\\nTest AUC achieved with TPOT in 3 minutes: {tpot_score:.5f}\\n\")"
   ]
  },
  {
   "cell_type": "markdown",
   "id": "5f51c899-4cfc-4a4b-93f1-b74694b7be8a",
   "metadata": {},
   "source": [
    "#### H2O classification performance in 3 minutes"
   ]
  },
  {
   "cell_type": "code",
   "execution_count": 6,
   "id": "42900099-f4fa-4920-8a0d-58e3bf4bf5a2",
   "metadata": {},
   "outputs": [
    {
     "name": "stdout",
     "output_type": "stream",
     "text": [
      "Checking whether there is an H2O instance running at http://localhost:54321 ..... not found.\n",
      "Attempting to start a local H2O server...\n",
      "; Java HotSpot(TM) 64-Bit Server VM (build 25.311-b11, mixed mode)\n",
      "  Starting server from C:\\Users\\tigra\\AppData\\Local\\Programs\\Python\\Python39\\Lib\\site-packages\\h2o\\backend\\bin\\h2o.jar\n",
      "  Ice root: C:\\Users\\tigra\\AppData\\Local\\Temp\\tmphkgbo9v0\n",
      "  JVM stdout: C:\\Users\\tigra\\AppData\\Local\\Temp\\tmphkgbo9v0\\h2o_tigra_started_from_python.out\n",
      "  JVM stderr: C:\\Users\\tigra\\AppData\\Local\\Temp\\tmphkgbo9v0\\h2o_tigra_started_from_python.err\n",
      "  Server is running at http://127.0.0.1:54321\n",
      "Connecting to H2O server at http://127.0.0.1:54321 ... successful.\n"
     ]
    },
    {
     "data": {
      "text/html": [
       "<div style=\"overflow:auto\"><table style=\"width:50%\"><tr><td>H2O_cluster_uptime:</td>\n",
       "<td>02 secs</td></tr>\n",
       "<tr><td>H2O_cluster_timezone:</td>\n",
       "<td>Asia/Yerevan</td></tr>\n",
       "<tr><td>H2O_data_parsing_timezone:</td>\n",
       "<td>UTC</td></tr>\n",
       "<tr><td>H2O_cluster_version:</td>\n",
       "<td>3.32.1.7</td></tr>\n",
       "<tr><td>H2O_cluster_version_age:</td>\n",
       "<td>1 month and 27 days </td></tr>\n",
       "<tr><td>H2O_cluster_name:</td>\n",
       "<td>h2ocluster</td></tr>\n",
       "<tr><td>H2O_cluster_total_nodes:</td>\n",
       "<td>1</td></tr>\n",
       "<tr><td>H2O_cluster_free_memory:</td>\n",
       "<td>3.545 Gb</td></tr>\n",
       "<tr><td>H2O_cluster_total_cores:</td>\n",
       "<td>12</td></tr>\n",
       "<tr><td>H2O_cluster_allowed_cores:</td>\n",
       "<td>12</td></tr>\n",
       "<tr><td>H2O_cluster_status:</td>\n",
       "<td>accepting new members, healthy</td></tr>\n",
       "<tr><td>H2O_connection_url:</td>\n",
       "<td>http://127.0.0.1:54321</td></tr>\n",
       "<tr><td>H2O_connection_proxy:</td>\n",
       "<td>{\"http\": null, \"https\": null}</td></tr>\n",
       "<tr><td>H2O_internal_security:</td>\n",
       "<td>False</td></tr>\n",
       "<tr><td>H2O_API_Extensions:</td>\n",
       "<td>Amazon S3, Algos, AutoML, Core V3, TargetEncoder, Core V4</td></tr>\n",
       "<tr><td>Python_version:</td>\n",
       "<td>3.9.5 final</td></tr></table></div>"
      ],
      "text/plain": [
       "--------------------------  ---------------------------------------------------------\n",
       "H2O_cluster_uptime:         02 secs\n",
       "H2O_cluster_timezone:       Asia/Yerevan\n",
       "H2O_data_parsing_timezone:  UTC\n",
       "H2O_cluster_version:        3.32.1.7\n",
       "H2O_cluster_version_age:    1 month and 27 days\n",
       "H2O_cluster_name:           h2ocluster\n",
       "H2O_cluster_total_nodes:    1\n",
       "H2O_cluster_free_memory:    3.545 Gb\n",
       "H2O_cluster_total_cores:    12\n",
       "H2O_cluster_allowed_cores:  12\n",
       "H2O_cluster_status:         accepting new members, healthy\n",
       "H2O_connection_url:         http://127.0.0.1:54321\n",
       "H2O_connection_proxy:       {\"http\": null, \"https\": null}\n",
       "H2O_internal_security:      False\n",
       "H2O_API_Extensions:         Amazon S3, Algos, AutoML, Core V3, TargetEncoder, Core V4\n",
       "Python_version:             3.9.5 final\n",
       "--------------------------  ---------------------------------------------------------"
      ]
     },
     "metadata": {},
     "output_type": "display_data"
    },
    {
     "name": "stdout",
     "output_type": "stream",
     "text": [
      "Parse progress: |█████████████████████████████████████████████████████████| 100%\n",
      "Parse progress: |█████████████████████████████████████████████████████████| 100%\n",
      "Parse progress: |█████████████████████████████████████████████████████████| 100%\n",
      "Parse progress: |█████████████████████████████████████████████████████████| 100%\n"
     ]
    }
   ],
   "source": [
    "# Importing dependencies\n",
    "import h2o\n",
    "from h2o.automl import H2OAutoML\n",
    "from sklearn import datasets\n",
    "from sklearn.model_selection import train_test_split\n",
    "\n",
    "# Initializing our H2O cluster\n",
    "h2o.init(name=\"h2ocluster\", nthreads=12)\n",
    "\n",
    "# Creating H2OFrame objects for train data\n",
    "train_features = h2o.H2OFrame(X_train, column_names=list(data[\"feature_names\"]))\n",
    "train_labels = h2o.H2OFrame(y_train, column_names=[\"target\"])\n",
    "\n",
    "# Creating H2OFrame objects for test data\n",
    "test_features = h2o.H2OFrame(X_test, column_names=list(data[\"feature_names\"]))\n",
    "test_labels = h2o.H2OFrame(y_test, column_names=[\"target\"])\n",
    "\n",
    "# Joining our features and labels\n",
    "train_frame = train_features.cbind(train_labels)\n",
    "test_frame = test_features.cbind(test_labels)    \n",
    "\n",
    "# Specifying feature and target names for training\n",
    "x = train_frame.columns\n",
    "y = \"target\"\n",
    "x.remove(y)\n",
    "\n",
    "# Converting labels to categoricals\n",
    "train_frame[y] = train_frame[y].asfactor()\n",
    "test_frame[y] = test_frame[y].asfactor()"
   ]
  },
  {
   "cell_type": "code",
   "execution_count": 7,
   "id": "6c614451-c5d2-4bb2-ab5d-3c889c75c579",
   "metadata": {},
   "outputs": [],
   "source": [
    "# Function for creating H2O AutoML\n",
    "def create_h2o_automl(mode, \n",
    "                      max_runtime_secs, \n",
    "                      max_models=None, \n",
    "                      stopping_rounds=0):\n",
    "    # Selecting a sorting metric based on task\n",
    "    if mode == \"classification\":\n",
    "        sort_metric = \"AUC\"\n",
    "    elif mode == \"regression\":\n",
    "        sort_metric = \"RMSE\"\n",
    "    \n",
    "    # Instantiating an H2O AutoML object\n",
    "    aml = H2OAutoML(seed=1, \n",
    "                    max_runtime_secs=max_runtime_secs, \n",
    "                    max_models=max_models, \n",
    "                    verbosity=\"info\", \n",
    "                    stopping_rounds=stopping_rounds, \n",
    "                    sort_metric=sort_metric)\n",
    "        \n",
    "    return aml"
   ]
  },
  {
   "cell_type": "code",
   "execution_count": 8,
   "id": "83240f69-bda9-4293-ad47-ff1eab4e0032",
   "metadata": {},
   "outputs": [],
   "source": [
    "# Instantiating H2OAutoML\n",
    "aml = create_h2o_automl(mode=\"classification\", \n",
    "                        max_runtime_secs=180)"
   ]
  },
  {
   "cell_type": "code",
   "execution_count": 9,
   "id": "b705c798-9b79-46c1-acff-7e41dea04ae6",
   "metadata": {},
   "outputs": [],
   "source": [
    "# Function for training and evaluating H2OAutoML\n",
    "def train_eval_h2o(automl, \n",
    "                   x, y, \n",
    "                   train_frame, \n",
    "                   test_frame):\n",
    "    automl.train(x=x, y=y, \n",
    "                 training_frame=train_frame)\n",
    "    \n",
    "    lb = aml.leaderboard\n",
    "    score = automl.leader.model_performance(test_frame)\n",
    "    \n",
    "    return lb, score"
   ]
  },
  {
   "cell_type": "code",
   "execution_count": 10,
   "id": "c7d5d94d-fb19-4017-9be1-f237317452a0",
   "metadata": {},
   "outputs": [
    {
     "name": "stdout",
     "output_type": "stream",
     "text": [
      "AutoML progress: |\n",
      "13:40:10.394: Project: AutoML_20211030_134010392\n",
      "13:40:10.395: Setting stopping tolerance adaptively based on the training frame: 0.04688072309384954\n",
      "13:40:10.395: Build control seed: 1\n",
      "13:40:10.396: training frame: Frame key: automl_training_py_2_sid_a366    cols: 31    rows: 455  chunks: 1    size: 40509  checksum: -6133975878204427307\n",
      "13:40:10.396: validation frame: NULL\n",
      "13:40:10.396: leaderboard frame: NULL\n",
      "13:40:10.396: blending frame: NULL\n",
      "13:40:10.396: response column: target\n",
      "13:40:10.396: fold column: null\n",
      "13:40:10.396: weights column: null\n",
      "13:40:10.406: AutoML: XGBoost is not available; skipping it.\n",
      "13:40:10.409: Loading execution steps: [{XGBoost : defaults}, {GLM : defaults}, {DRF : [def_1]}, {GBM : defaults}, {DeepLearning : defaults}, {DRF : [XRT]}, {XGBoost : grids}, {GBM : grids}, {DeepLearning : grids}, {GBM : [lr_annealing]}, {XGBoost : [lr_search]}, {StackedEnsemble : defaults}]\n",
      "13:40:10.418: Disabling Algo: XGBoost as requested by the user.\n",
      "13:40:10.419: AutoML job created: 2021.10.30 13:40:10.392\n",
      "13:40:10.420: AutoML build started: 2021.10.30 13:40:10.420\n",
      "13:40:10.424: AutoML: starting GLM_1_AutoML_20211030_134010 model training\n",
      "\n",
      "██\n",
      "13:40:12.459: New leader: GLM_1_AutoML_20211030_134010, auc: 0.9957069143446852\n",
      "13:40:12.461: AutoML: starting DRF_1_AutoML_20211030_134010 model training\n",
      "13:40:13.479: AutoML: starting GBM_1_AutoML_20211030_134010 model training\n",
      "\n",
      "███████\n",
      "13:40:20.573: AutoML: starting GBM_2_AutoML_20211030_134010 model training\n",
      "\n",
      "███\n",
      "13:40:26.690: AutoML: starting GBM_3_AutoML_20211030_134010 model training\n",
      "\n",
      "██\n",
      "13:40:33.775: AutoML: starting GBM_4_AutoML_20211030_134010 model training\n",
      "\n",
      "███\n",
      "13:40:40.854: AutoML: starting GBM_5_AutoML_20211030_134010 model training\n",
      "\n",
      "██\n",
      "13:40:47.939: AutoML: starting DeepLearning_1_AutoML_20211030_134010 model training\n",
      "13:40:48.950: AutoML: starting XRT_1_AutoML_20211030_134010 model training\n",
      "\n",
      "\n",
      "13:40:49.964: AutoML: starting GBM_grid__1_AutoML_20211030_134010 hyperparameter search\n",
      "\n",
      "██████████████████\n",
      "13:41:46.720: AutoML: starting DeepLearning_grid__1_AutoML_20211030_134010 hyperparameter search\n",
      "\n",
      "█████\n",
      "13:42:06.390: AutoML: starting DeepLearning_grid__2_AutoML_20211030_134010 hyperparameter search\n",
      "\n",
      "███\n",
      "13:42:24.819: AutoML: starting DeepLearning_grid__3_AutoML_20211030_134010 hyperparameter search\n",
      "\n",
      "████\n",
      "13:42:41.220: New leader: DeepLearning_grid__3_AutoML_20211030_134010_model_2, auc: 0.9970278637770897\n",
      "\n",
      "\n",
      "13:42:43.442: AutoML: starting StackedEnsemble_BestOfFamily_AutoML_20211030_134010 model training\n",
      "\n",
      "\n",
      "13:42:44.462: AutoML: starting StackedEnsemble_AllModels_AutoML_20211030_134010 model training\n",
      "\n",
      "███████| 100%\n",
      "\n",
      "13:42:45.473: No base models, due to timeouts or the exclude_algos option. Skipping StackedEnsemble 'monotonic'.\n",
      "13:42:45.474: Actual modeling steps: [{GLM : [def_1 (10)]}, {DRF : [def_1 (10)]}, {GBM : [def_1 (10), def_2 (10), def_3 (10), def_4 (10), def_5 (10)]}, {DeepLearning : [def_1 (10)]}, {DRF : [XRT (10)]}, {GBM : [grid_1 (60)]}, {DeepLearning : [grid_1 (20), grid_2 (20), grid_3 (20)]}, {StackedEnsemble : [best (10), all (10)]}]\n",
      "13:42:45.474: AutoML build stopped: 2021.10.30 13:42:45.474\n",
      "13:42:45.474: AutoML build done: built 34 models\n",
      "13:42:45.474: AutoML duration:  2 min 35.054 sec\n",
      "\n"
     ]
    },
    {
     "data": {
      "text/html": [
       "<table>\n",
       "<thead>\n",
       "<tr><th>model_id                                           </th><th style=\"text-align: right;\">     auc</th><th style=\"text-align: right;\">  logloss</th><th style=\"text-align: right;\">   aucpr</th><th style=\"text-align: right;\">  mean_per_class_error</th><th style=\"text-align: right;\">    rmse</th><th style=\"text-align: right;\">      mse</th></tr>\n",
       "</thead>\n",
       "<tbody>\n",
       "<tr><td>DeepLearning_grid__3_AutoML_20211030_134010_model_2</td><td style=\"text-align: right;\">0.997028</td><td style=\"text-align: right;\">0.130591 </td><td style=\"text-align: right;\">0.998167</td><td style=\"text-align: right;\">             0.024097 </td><td style=\"text-align: right;\">0.160216</td><td style=\"text-align: right;\">0.0256693</td></tr>\n",
       "<tr><td>StackedEnsemble_BestOfFamily_AutoML_20211030_134010</td><td style=\"text-align: right;\">0.996801</td><td style=\"text-align: right;\">0.0661771</td><td style=\"text-align: right;\">0.998003</td><td style=\"text-align: right;\">             0.0287926</td><td style=\"text-align: right;\">0.136461</td><td style=\"text-align: right;\">0.0186216</td></tr>\n",
       "<tr><td>GLM_1_AutoML_20211030_134010                       </td><td style=\"text-align: right;\">0.995707</td><td style=\"text-align: right;\">0.0797195</td><td style=\"text-align: right;\">0.997352</td><td style=\"text-align: right;\">             0.0270382</td><td style=\"text-align: right;\">0.149829</td><td style=\"text-align: right;\">0.0224487</td></tr>\n",
       "<tr><td>DeepLearning_grid__1_AutoML_20211030_134010_model_4</td><td style=\"text-align: right;\">0.995645</td><td style=\"text-align: right;\">0.114604 </td><td style=\"text-align: right;\">0.997293</td><td style=\"text-align: right;\">             0.0287926</td><td style=\"text-align: right;\">0.150588</td><td style=\"text-align: right;\">0.0226767</td></tr>\n",
       "<tr><td>DeepLearning_grid__1_AutoML_20211030_134010_model_6</td><td style=\"text-align: right;\">0.995562</td><td style=\"text-align: right;\">0.097183 </td><td style=\"text-align: right;\">0.997284</td><td style=\"text-align: right;\">             0.0287926</td><td style=\"text-align: right;\">0.151649</td><td style=\"text-align: right;\">0.0229974</td></tr>\n",
       "<tr><td>DeepLearning_grid__2_AutoML_20211030_134010_model_4</td><td style=\"text-align: right;\">0.995521</td><td style=\"text-align: right;\">0.102668 </td><td style=\"text-align: right;\">0.997213</td><td style=\"text-align: right;\">             0.0234778</td><td style=\"text-align: right;\">0.147488</td><td style=\"text-align: right;\">0.0217526</td></tr>\n",
       "<tr><td>DeepLearning_grid__2_AutoML_20211030_134010_model_5</td><td style=\"text-align: right;\">0.995397</td><td style=\"text-align: right;\">0.215562 </td><td style=\"text-align: right;\">0.997168</td><td style=\"text-align: right;\">             0.0352941</td><td style=\"text-align: right;\">0.18196 </td><td style=\"text-align: right;\">0.0331095</td></tr>\n",
       "<tr><td>StackedEnsemble_AllModels_AutoML_20211030_134010   </td><td style=\"text-align: right;\">0.995377</td><td style=\"text-align: right;\">0.118166 </td><td style=\"text-align: right;\">0.996856</td><td style=\"text-align: right;\">             0.0211558</td><td style=\"text-align: right;\">0.150383</td><td style=\"text-align: right;\">0.0226152</td></tr>\n",
       "<tr><td>DeepLearning_grid__3_AutoML_20211030_134010_model_5</td><td style=\"text-align: right;\">0.995253</td><td style=\"text-align: right;\">0.235622 </td><td style=\"text-align: right;\">0.997146</td><td style=\"text-align: right;\">             0.0276058</td><td style=\"text-align: right;\">0.168352</td><td style=\"text-align: right;\">0.0283423</td></tr>\n",
       "<tr><td>DeepLearning_grid__1_AutoML_20211030_134010_model_1</td><td style=\"text-align: right;\">0.995212</td><td style=\"text-align: right;\">0.112283 </td><td style=\"text-align: right;\">0.997085</td><td style=\"text-align: right;\">             0.0317337</td><td style=\"text-align: right;\">0.16126 </td><td style=\"text-align: right;\">0.0260048</td></tr>\n",
       "</tbody>\n",
       "</table>"
      ]
     },
     "metadata": {},
     "output_type": "display_data"
    },
    {
     "name": "stdout",
     "output_type": "stream",
     "text": [
      "\n",
      "### EVALUATED MODELS ###\n",
      "\n",
      "\n",
      "Test AUC achieved with H2O in 3 minutes: 0.98115\n",
      "\n",
      "Wall time: 2min 36s\n"
     ]
    }
   ],
   "source": [
    "%%time\n",
    "\n",
    "# Running H2OAutoML and tracking time\n",
    "lb, h2o_score = train_eval_h2o(aml, \n",
    "                               x, y, \n",
    "                               train_frame, \n",
    "                               test_frame)\n",
    "\n",
    "# Viewing the leaderboard and test AUC\n",
    "print(\"\\n### EVALUATED MODELS ###\\n\"\n",
    "      f\"{lb}\")\n",
    "print(f\"\\nTest AUC achieved with H2O in 3 minutes: {h2o_score.auc():.5f}\\n\")"
   ]
  },
  {
   "cell_type": "markdown",
   "id": "8eb8839c-ff21-461a-aa41-de1a0caf7f21",
   "metadata": {},
   "source": [
    "#### TPOT classification performance in 3 minutes with a classifier only"
   ]
  },
  {
   "cell_type": "code",
   "execution_count": 11,
   "id": "e338c457-145f-44d2-a811-e75d6e4de7b3",
   "metadata": {},
   "outputs": [],
   "source": [
    "# Insantiating our TPOT pipeline optimizer\n",
    "pipeline_optimizer = create_tpot_optimizer(mode=\"classification\", \n",
    "                                           max_time_mins=3, \n",
    "                                           template=\"Classifier\")"
   ]
  },
  {
   "cell_type": "code",
   "execution_count": 12,
   "id": "da0fc682-a1a9-4369-a04b-b0c6cf4ec0dd",
   "metadata": {},
   "outputs": [
    {
     "data": {
      "application/vnd.jupyter.widget-view+json": {
       "model_id": "04d8083441e14dd6bf573ae3a1573f1c",
       "version_major": 2,
       "version_minor": 0
      },
      "text/plain": [
       "Optimization Progress:   0%|          | 0/100 [00:00<?, ?pipeline/s]"
      ]
     },
     "metadata": {},
     "output_type": "display_data"
    },
    {
     "name": "stdout",
     "output_type": "stream",
     "text": [
      "\n",
      "Generation 1 - Current best internal CV score: 0.9959752321981424\n",
      "\n",
      "Generation 2 - Current best internal CV score: 0.9959752321981424\n",
      "\n",
      "Generation 3 - Current best internal CV score: 0.9964912280701755\n",
      "\n",
      "Generation 4 - Current best internal CV score: 0.9964912280701755\n",
      "\n",
      "3.42 minutes have elapsed. TPOT will close down.\n",
      "TPOT closed during evaluation in one generation.\n",
      "WARNING: TPOT may not provide a good pipeline if TPOT is stopped/interrupted in a early generation.\n",
      "\n",
      "\n",
      "TPOT closed prematurely. Will use the current best pipeline.\n",
      "\n",
      "Best pipeline: GradientBoostingClassifier(input_matrix, learning_rate=0.5, max_depth=10, max_features=0.2, min_samples_leaf=18, min_samples_split=9, n_estimators=100, subsample=0.6500000000000001)\n",
      "\n",
      "### BEST PIPELINE ### \n",
      "Pipeline(steps=[('gradientboostingclassifier',\n",
      "                 GradientBoostingClassifier(learning_rate=0.5, max_depth=10,\n",
      "                                            max_features=0.2,\n",
      "                                            min_samples_leaf=18,\n",
      "                                            min_samples_split=9, random_state=1,\n",
      "                                            subsample=0.6500000000000001))])\n",
      "\n",
      "Test AUC achieved with TPOT (classifier only) in 3 minutes: 0.99372\n",
      "\n",
      "Wall time: 3min 25s\n"
     ]
    }
   ],
   "source": [
    "%%time\n",
    "\n",
    "# Running the TPOT pipeline optimizer and tracking time\n",
    "fitted_pipeline, tpot_score = train_eval_tpot(pipeline_optimizer, \n",
    "                                              X_train, y_train, \n",
    "                                              X_test, y_test)\n",
    "\n",
    "# Running the TPOT pipeline optimizer and tracking time\n",
    "print(\"\\n### BEST PIPELINE ### \\n\"\n",
    "      f\"{fitted_pipeline}\")\n",
    "print(f\"\\nTest AUC achieved with TPOT (classifier only) in 3 minutes: {tpot_score:.5f}\\n\")"
   ]
  },
  {
   "cell_type": "markdown",
   "id": "d59216a4-18d1-476d-ad20-b72970aafacb",
   "metadata": {},
   "source": [
    "### Classification with early stopping (within 60 minutes)"
   ]
  },
  {
   "cell_type": "markdown",
   "id": "3d3f32cc-bf64-4758-8165-c3c8c4142224",
   "metadata": {},
   "source": [
    "#### TPOT classification performance with early stopping"
   ]
  },
  {
   "cell_type": "code",
   "execution_count": 13,
   "id": "dc821df5-0c96-4afe-b29f-ade1fa2568a6",
   "metadata": {},
   "outputs": [],
   "source": [
    "# Insantiating our TPOT pipeline optimizer\n",
    "pipeline_optimizer = create_tpot_optimizer(mode=\"classification\", \n",
    "                                           max_time_mins=60, \n",
    "                                           early_stop=2)"
   ]
  },
  {
   "cell_type": "code",
   "execution_count": 14,
   "id": "fc174f8d-ce2c-4f43-bffc-29755489af2d",
   "metadata": {},
   "outputs": [
    {
     "data": {
      "application/vnd.jupyter.widget-view+json": {
       "model_id": "",
       "version_major": 2,
       "version_minor": 0
      },
      "text/plain": [
       "Optimization Progress:   0%|          | 0/100 [00:00<?, ?pipeline/s]"
      ]
     },
     "metadata": {},
     "output_type": "display_data"
    },
    {
     "name": "stdout",
     "output_type": "stream",
     "text": [
      "\n",
      "Generation 1 - Current best internal CV score: 0.9961816305469556\n",
      "\n",
      "Generation 2 - Current best internal CV score: 0.9961816305469556\n",
      "\n",
      "Generation 3 - Current best internal CV score: 0.9961816305469556\n",
      "\n",
      "Generation 4 - Current best internal CV score: 0.9961816305469556\n",
      "\n",
      "Generation 5 - Current best internal CV score: 0.9969040247678018\n",
      "\n",
      "Generation 6 - Current best internal CV score: 0.9969040247678018\n",
      "\n",
      "Generation 7 - Current best internal CV score: 0.9969040247678018\n",
      "\n",
      "Generation 8 - Current best internal CV score: 0.9969040247678018\n",
      "\n",
      "The optimized pipeline was not improved after evaluating 2 more generations. Will end the optimization process.\n",
      "\n",
      "TPOT closed prematurely. Will use the current best pipeline.\n",
      "\n",
      "Best pipeline: GradientBoostingClassifier(PolynomialFeatures(SelectFwe(input_matrix, alpha=0.016), degree=2, include_bias=False, interaction_only=False), learning_rate=0.5, max_depth=10, max_features=0.1, min_samples_leaf=9, min_samples_split=15, n_estimators=100, subsample=0.6000000000000001)\n",
      "\n",
      "### BEST PIPELINE ###\n",
      "Pipeline(steps=[('selectfwe', SelectFwe(alpha=0.016)),\n",
      "                ('polynomialfeatures', PolynomialFeatures(include_bias=False)),\n",
      "                ('gradientboostingclassifier',\n",
      "                 GradientBoostingClassifier(learning_rate=0.5, max_depth=10,\n",
      "                                            max_features=0.1,\n",
      "                                            min_samples_leaf=9,\n",
      "                                            min_samples_split=15,\n",
      "                                            random_state=1,\n",
      "                                            subsample=0.6000000000000001))])\n",
      "\n",
      "Test AUC achieved with TPOT with early stopping: 0.99438\n",
      "\n",
      "Wall time: 10min 19s\n"
     ]
    }
   ],
   "source": [
    "%%time\n",
    "\n",
    "# Running the TPOT pipeline optimizer and tracking time\n",
    "fitted_pipeline, tpot_score = train_eval_tpot(pipeline_optimizer, \n",
    "                                              X_train, y_train, \n",
    "                                              X_test, y_test)\n",
    "\n",
    "# Viewing the best pipeline and test AUC\n",
    "print(\"\\n### BEST PIPELINE ###\\n\"\n",
    "      f\"{fitted_pipeline}\")\n",
    "print(f\"\\nTest AUC achieved with TPOT with early stopping: {tpot_score:.5f}\\n\")"
   ]
  },
  {
   "cell_type": "markdown",
   "id": "c0c523f5-6c66-45ae-b501-22cbb6160b49",
   "metadata": {},
   "source": [
    "#### H2O classification performance with early stopping"
   ]
  },
  {
   "cell_type": "code",
   "execution_count": 15,
   "id": "609ee3b8-1eb2-4104-8741-c8e4bb15c8b3",
   "metadata": {},
   "outputs": [],
   "source": [
    "# Instantiating H2OAutoML\n",
    "aml = create_h2o_automl(mode=\"classification\", \n",
    "                        max_runtime_secs=3600, \n",
    "                        stopping_rounds=2)"
   ]
  },
  {
   "cell_type": "code",
   "execution_count": 16,
   "id": "12d6cec8-3575-46fe-9620-7631fed2fbb1",
   "metadata": {},
   "outputs": [
    {
     "name": "stdout",
     "output_type": "stream",
     "text": [
      "AutoML progress: |\n",
      "13:56:31.827: Project: AutoML_20211030_135631827\n",
      "13:56:31.827: Setting stopping tolerance adaptively based on the training frame: 0.04688072309384954\n",
      "13:56:31.827: Build control seed: 1\n",
      "13:56:31.828: training frame: Frame key: automl_training_py_2_sid_a366    cols: 31    rows: 455  chunks: 1    size: 40509  checksum: -6133975878204427307\n",
      "13:56:31.828: validation frame: NULL\n",
      "13:56:31.828: leaderboard frame: NULL\n",
      "13:56:31.828: blending frame: NULL\n",
      "13:56:31.828: response column: target\n",
      "13:56:31.828: fold column: null\n",
      "13:56:31.828: weights column: null\n",
      "13:56:31.828: AutoML: XGBoost is not available; skipping it.\n",
      "13:56:31.828: Loading execution steps: [{XGBoost : defaults}, {GLM : defaults}, {DRF : [def_1]}, {GBM : defaults}, {DeepLearning : defaults}, {DRF : [XRT]}, {XGBoost : grids}, {GBM : grids}, {DeepLearning : grids}, {GBM : [lr_annealing]}, {XGBoost : [lr_search]}, {StackedEnsemble : defaults}]\n",
      "13:56:31.828: Disabling Algo: XGBoost as requested by the user.\n",
      "13:56:31.828: AutoML job created: 2021.10.30 13:56:31.827\n",
      "13:56:31.829: AutoML build started: 2021.10.30 13:56:31.829\n",
      "13:56:31.829: AutoML: starting GLM_1_AutoML_20211030_135631 model training\n",
      "\n",
      "\n",
      "13:56:32.844: New leader: GLM_1_AutoML_20211030_135631, auc: 0.9957069143446852\n",
      "13:56:32.845: AutoML: starting DRF_1_AutoML_20211030_135631 model training\n",
      "\n",
      "█\n",
      "13:56:33.854: AutoML: starting GBM_1_AutoML_20211030_135631 model training\n",
      "\n",
      "█\n",
      "13:56:34.870: AutoML: starting GBM_2_AutoML_20211030_135631 model training\n",
      "\n",
      "███\n",
      "13:56:35.884: AutoML: starting GBM_3_AutoML_20211030_135631 model training\n",
      "\n",
      "██\n",
      "13:56:36.895: AutoML: starting GBM_4_AutoML_20211030_135631 model training\n",
      "\n",
      "██\n",
      "13:56:37.909: AutoML: starting GBM_5_AutoML_20211030_135631 model training\n",
      "\n",
      "███\n",
      "13:56:38.924: AutoML: starting DeepLearning_1_AutoML_20211030_135631 model training\n",
      "13:56:39.938: AutoML: starting XRT_1_AutoML_20211030_135631 model training\n",
      "\n",
      "███\n",
      "13:56:40.950: AutoML: starting GBM_grid__1_AutoML_20211030_135631 hyperparameter search\n",
      "\n",
      "██████████████\n",
      "13:56:48.205: AutoML: starting DeepLearning_grid__1_AutoML_20211030_135631 hyperparameter search\n",
      "\n",
      "██████████████████████████\n",
      "13:57:13.893: New leader: DeepLearning_grid__1_AutoML_20211030_135631_model_3, auc: 0.9973581011351909\n",
      "\n",
      "█\n",
      "13:57:49.233: New leader: DeepLearning_grid__1_AutoML_20211030_135631_model_5, auc: 0.9976883384932921\n",
      "\n",
      "\n",
      "14:01:38.265: AutoML: starting DeepLearning_grid__2_AutoML_20211030_135631 hyperparameter search\n",
      "\n",
      "\n",
      "14:07:56.424: AutoML: starting DeepLearning_grid__3_AutoML_20211030_135631 hyperparameter search\n",
      "\n",
      "\n",
      "14:10:31.232: New leader: DeepLearning_grid__3_AutoML_20211030_135631_model_5, auc: 0.9980392156862744\n",
      "\n",
      "\n",
      "14:27:22.759: AutoML: starting StackedEnsemble_BestOfFamily_AutoML_20211030_135631 model training\n",
      "14:27:23.796: AutoML: starting StackedEnsemble_AllModels_AutoML_20211030_135631 model training\n",
      "\n",
      "| 100%\n",
      "\n",
      "14:27:24.840: No base models, due to timeouts or the exclude_algos option. Skipping StackedEnsemble 'monotonic'.\n",
      "14:27:24.840: Actual modeling steps: [{GLM : [def_1 (10)]}, {DRF : [def_1 (10)]}, {GBM : [def_1 (10), def_2 (10), def_3 (10), def_4 (10), def_5 (10)]}, {DeepLearning : [def_1 (10)]}, {DRF : [XRT (10)]}, {GBM : [grid_1 (60)]}, {DeepLearning : [grid_1 (20), grid_2 (20), grid_3 (20)]}, {StackedEnsemble : [best (10), all (10)]}]\n",
      "14:27:24.840: AutoML build stopped: 2021.10.30 14:27:24.840\n",
      "14:27:24.840: AutoML build done: built 144 models\n",
      "14:27:24.840: AutoML duration: 30 min 53.011 sec\n",
      "\n"
     ]
    },
    {
     "data": {
      "text/html": [
       "<table>\n",
       "<thead>\n",
       "<tr><th>model_id                                            </th><th style=\"text-align: right;\">     auc</th><th style=\"text-align: right;\">  logloss</th><th style=\"text-align: right;\">   aucpr</th><th style=\"text-align: right;\">  mean_per_class_error</th><th style=\"text-align: right;\">    rmse</th><th style=\"text-align: right;\">      mse</th></tr>\n",
       "</thead>\n",
       "<tbody>\n",
       "<tr><td>DeepLearning_grid__3_AutoML_20211030_135631_model_5 </td><td style=\"text-align: right;\">0.998039</td><td style=\"text-align: right;\">0.183934 </td><td style=\"text-align: right;\">0.998841</td><td style=\"text-align: right;\">             0.0311662</td><td style=\"text-align: right;\">0.161795</td><td style=\"text-align: right;\">0.0261778</td></tr>\n",
       "<tr><td>DeepLearning_grid__1_AutoML_20211030_135631_model_5 </td><td style=\"text-align: right;\">0.997688</td><td style=\"text-align: right;\">0.0887074</td><td style=\"text-align: right;\">0.998577</td><td style=\"text-align: right;\">             0.0223426</td><td style=\"text-align: right;\">0.130215</td><td style=\"text-align: right;\">0.0169559</td></tr>\n",
       "<tr><td>DeepLearning_grid__3_AutoML_20211030_135631_model_2 </td><td style=\"text-align: right;\">0.997606</td><td style=\"text-align: right;\">0.134239 </td><td style=\"text-align: right;\">0.998485</td><td style=\"text-align: right;\">             0.0223426</td><td style=\"text-align: right;\">0.152638</td><td style=\"text-align: right;\">0.0232984</td></tr>\n",
       "<tr><td>DeepLearning_grid__3_AutoML_20211030_135631_model_13</td><td style=\"text-align: right;\">0.997523</td><td style=\"text-align: right;\">0.0873904</td><td style=\"text-align: right;\">0.998489</td><td style=\"text-align: right;\">             0.028225 </td><td style=\"text-align: right;\">0.137333</td><td style=\"text-align: right;\">0.0188602</td></tr>\n",
       "<tr><td>DeepLearning_grid__1_AutoML_20211030_135631_model_3 </td><td style=\"text-align: right;\">0.997358</td><td style=\"text-align: right;\">0.0852285</td><td style=\"text-align: right;\">0.998381</td><td style=\"text-align: right;\">             0.0217234</td><td style=\"text-align: right;\">0.135887</td><td style=\"text-align: right;\">0.0184653</td></tr>\n",
       "<tr><td>StackedEnsemble_BestOfFamily_AutoML_20211030_135631 </td><td style=\"text-align: right;\">0.997276</td><td style=\"text-align: right;\">0.0703501</td><td style=\"text-align: right;\">0.998357</td><td style=\"text-align: right;\">             0.0287926</td><td style=\"text-align: right;\">0.143069</td><td style=\"text-align: right;\">0.0204688</td></tr>\n",
       "<tr><td>DeepLearning_grid__3_AutoML_20211030_135631_model_63</td><td style=\"text-align: right;\">0.997234</td><td style=\"text-align: right;\">0.17553  </td><td style=\"text-align: right;\">0.998323</td><td style=\"text-align: right;\">             0.0276058</td><td style=\"text-align: right;\">0.159313</td><td style=\"text-align: right;\">0.0253807</td></tr>\n",
       "<tr><td>DeepLearning_grid__1_AutoML_20211030_135631_model_7 </td><td style=\"text-align: right;\">0.997049</td><td style=\"text-align: right;\">0.111452 </td><td style=\"text-align: right;\">0.998231</td><td style=\"text-align: right;\">             0.0299794</td><td style=\"text-align: right;\">0.162051</td><td style=\"text-align: right;\">0.0262605</td></tr>\n",
       "<tr><td>DeepLearning_grid__3_AutoML_20211030_135631_model_43</td><td style=\"text-align: right;\">0.997049</td><td style=\"text-align: right;\">0.0635564</td><td style=\"text-align: right;\">0.998166</td><td style=\"text-align: right;\">             0.0211558</td><td style=\"text-align: right;\">0.133298</td><td style=\"text-align: right;\">0.0177685</td></tr>\n",
       "<tr><td>StackedEnsemble_AllModels_AutoML_20211030_135631    </td><td style=\"text-align: right;\">0.997049</td><td style=\"text-align: right;\">0.112054 </td><td style=\"text-align: right;\">0.998182</td><td style=\"text-align: right;\">             0.0205366</td><td style=\"text-align: right;\">0.146002</td><td style=\"text-align: right;\">0.0213167</td></tr>\n",
       "</tbody>\n",
       "</table>"
      ]
     },
     "metadata": {},
     "output_type": "display_data"
    },
    {
     "name": "stdout",
     "output_type": "stream",
     "text": [
      "\n",
      "### EVALUATED MODELS###\n",
      "\n",
      "\n",
      "Test AUC achieved with H2O with early stopping: 0.98280\n",
      "\n",
      "Wall time: 30min 53s\n"
     ]
    }
   ],
   "source": [
    "%%time\n",
    "\n",
    "# Running H2OAutoML and tracking time\n",
    "lb, h2o_score = train_eval_h2o(aml, \n",
    "                               x, y, \n",
    "                               train_frame, \n",
    "                               test_frame)\n",
    "\n",
    "# Viewing the leaderboard and test AUC\n",
    "print(\"\\n### EVALUATED MODELS###\\n\"\n",
    "      f\"{lb}\")\n",
    "print(f\"\\nTest AUC achieved with H2O with early stopping: {h2o_score.auc():.5f}\\n\")"
   ]
  },
  {
   "cell_type": "markdown",
   "id": "e61a4bc6-076b-4bae-baa4-52d2ec6f3d18",
   "metadata": {},
   "source": [
    "#### TPOT classification performance with early stopping (classifier only)"
   ]
  },
  {
   "cell_type": "code",
   "execution_count": 17,
   "id": "9a704d24-21c1-4d07-bab8-a9f3f8f01c6f",
   "metadata": {},
   "outputs": [],
   "source": [
    "# Insantiating our TPOT pipeline optimizer\n",
    "pipeline_optimizer = create_tpot_optimizer(mode=\"classification\", \n",
    "                                           max_time_mins=60, \n",
    "                                           early_stop=2, \n",
    "                                           template=\"Classifier\")"
   ]
  },
  {
   "cell_type": "code",
   "execution_count": 18,
   "id": "def8741a-4447-44d5-a156-7f07239c610a",
   "metadata": {},
   "outputs": [
    {
     "data": {
      "application/vnd.jupyter.widget-view+json": {
       "model_id": "",
       "version_major": 2,
       "version_minor": 0
      },
      "text/plain": [
       "Optimization Progress:   0%|          | 0/100 [00:00<?, ?pipeline/s]"
      ]
     },
     "metadata": {},
     "output_type": "display_data"
    },
    {
     "name": "stdout",
     "output_type": "stream",
     "text": [
      "\n",
      "Generation 1 - Current best internal CV score: 0.9959752321981424\n",
      "\n",
      "Generation 2 - Current best internal CV score: 0.9959752321981424\n",
      "\n",
      "Generation 3 - Current best internal CV score: 0.9959752321981424\n",
      "\n",
      "The optimized pipeline was not improved after evaluating 2 more generations. Will end the optimization process.\n",
      "\n",
      "TPOT closed prematurely. Will use the current best pipeline.\n",
      "\n",
      "Best pipeline: GradientBoostingClassifier(input_matrix, learning_rate=1.0, max_depth=10, max_features=0.2, min_samples_leaf=18, min_samples_split=9, n_estimators=100, subsample=0.6500000000000001)\n",
      "\n",
      "### BEST PIPELINE ### \n",
      "Pipeline(steps=[('gradientboostingclassifier',\n",
      "                 GradientBoostingClassifier(learning_rate=1.0, max_depth=10,\n",
      "                                            max_features=0.2,\n",
      "                                            min_samples_leaf=18,\n",
      "                                            min_samples_split=9, random_state=1,\n",
      "                                            subsample=0.6500000000000001))])\n",
      "\n",
      "Test AUC achieved with TPOT with early stopping & classifier only: 0.98049\n",
      "\n",
      "Wall time: 2min 30s\n"
     ]
    }
   ],
   "source": [
    "%%time\n",
    "\n",
    "# Running the TPOT pipeline optimizer and tracking time\n",
    "fitted_pipeline, tpot_score = train_eval_tpot(pipeline_optimizer, \n",
    "                                              X_train, y_train, \n",
    "                                              X_test, y_test)\n",
    "\n",
    "# Viewing the best pipeline and test AUC\n",
    "print(\"\\n### BEST PIPELINE ### \\n\"\n",
    "      f\"{fitted_pipeline}\")\n",
    "print(f\"\\nTest AUC achieved with TPOT with early stopping & classifier only: {tpot_score:.5f}\\n\")"
   ]
  },
  {
   "cell_type": "markdown",
   "id": "2539935a-6654-4958-b2ca-a9423c816625",
   "metadata": {},
   "source": [
    "### Classification with 50 models/pipelines"
   ]
  },
  {
   "cell_type": "markdown",
   "id": "fbf97453-0472-42fa-9a7c-e2adb3ec6850",
   "metadata": {},
   "source": [
    "#### TPOT classification with 50 pipelines"
   ]
  },
  {
   "cell_type": "code",
   "execution_count": 19,
   "id": "27a0abf2-7107-4478-ad5a-198ce8772dd8",
   "metadata": {},
   "outputs": [],
   "source": [
    "# Insantiating our TPOT pipeline optimizer\n",
    "pipeline_optimizer = create_tpot_optimizer(mode=\"classification\", \n",
    "                                           max_time_mins=None, \n",
    "                                           generations=4,\n",
    "                                           population_size=10, \n",
    "                                           offspring_size=10)"
   ]
  },
  {
   "cell_type": "code",
   "execution_count": 20,
   "id": "8961a5aa-9cbe-4138-a88c-386acc0567a1",
   "metadata": {},
   "outputs": [
    {
     "data": {
      "application/vnd.jupyter.widget-view+json": {
       "model_id": "",
       "version_major": 2,
       "version_minor": 0
      },
      "text/plain": [
       "Optimization Progress:   0%|          | 0/50 [00:00<?, ?pipeline/s]"
      ]
     },
     "metadata": {},
     "output_type": "display_data"
    },
    {
     "name": "stdout",
     "output_type": "stream",
     "text": [
      "\n",
      "Generation 1 - Current best internal CV score: 0.9961816305469556\n",
      "\n",
      "Generation 2 - Current best internal CV score: 0.9961816305469556\n",
      "\n",
      "Generation 3 - Current best internal CV score: 0.9962848297213622\n",
      "\n",
      "Generation 4 - Current best internal CV score: 0.9962848297213622\n",
      "\n",
      "Best pipeline: MLPClassifier(StandardScaler(input_matrix), alpha=0.001, learning_rate_init=0.001)\n",
      "\n",
      "### BEST PIPELINE ###\n",
      "Pipeline(steps=[('standardscaler', StandardScaler()),\n",
      "                ('mlpclassifier', MLPClassifier(alpha=0.001, random_state=1))])\n",
      "\n",
      "Test AUC achieved with TPOT after training 30 pipelines: 0.98743\n",
      "\n",
      "Wall time: 33.9 s\n"
     ]
    }
   ],
   "source": [
    "%%time\n",
    "\n",
    "# Running the TPOT pipeline optimizer and tracking time\n",
    "fitted_pipeline, tpot_score = train_eval_tpot(pipeline_optimizer, \n",
    "                                              X_train, y_train, \n",
    "                                              X_test, y_test)\n",
    "\n",
    "# Viewing the best pipeline and test AUC\n",
    "print(\"\\n### BEST PIPELINE ###\\n\"\n",
    "      f\"{fitted_pipeline}\")\n",
    "print(f\"\\nTest AUC achieved with TPOT after training 30 pipelines: {tpot_score:.5f}\\n\")"
   ]
  },
  {
   "cell_type": "markdown",
   "id": "513f12fa-d1fe-4d22-a2b0-d3732e5b7ee7",
   "metadata": {},
   "source": [
    "#### H2O classification with 50 models"
   ]
  },
  {
   "cell_type": "code",
   "execution_count": 21,
   "id": "fa8b4b7d-3263-4922-b3e8-17038c8888ea",
   "metadata": {},
   "outputs": [],
   "source": [
    "# Instantiating H2OAutoML\n",
    "aml = create_h2o_automl(mode=\"classification\", \n",
    "                        max_runtime_secs=0, \n",
    "                        max_models=50)"
   ]
  },
  {
   "cell_type": "code",
   "execution_count": 22,
   "id": "0c050548-140b-41a4-b7ac-f1639ec11d85",
   "metadata": {},
   "outputs": [
    {
     "name": "stdout",
     "output_type": "stream",
     "text": [
      "AutoML progress: |\n",
      "14:30:29.711: Project: AutoML_20211030_143029711\n",
      "14:30:29.711: Setting stopping tolerance adaptively based on the training frame: 0.04688072309384954\n",
      "14:30:29.711: Build control seed: 1\n",
      "14:30:29.712: training frame: Frame key: automl_training_py_2_sid_a366    cols: 31    rows: 455  chunks: 1    size: 40509  checksum: -6133975878204427307\n",
      "14:30:29.712: validation frame: NULL\n",
      "14:30:29.712: leaderboard frame: NULL\n",
      "14:30:29.712: blending frame: NULL\n",
      "14:30:29.712: response column: target\n",
      "14:30:29.712: fold column: null\n",
      "14:30:29.712: weights column: null\n",
      "14:30:29.712: AutoML: XGBoost is not available; skipping it.\n",
      "14:30:29.712: Loading execution steps: [{XGBoost : defaults}, {GLM : defaults}, {DRF : [def_1]}, {GBM : defaults}, {DeepLearning : defaults}, {DRF : [XRT]}, {XGBoost : grids}, {GBM : grids}, {DeepLearning : grids}, {GBM : [lr_annealing]}, {XGBoost : [lr_search]}, {StackedEnsemble : defaults}]\n",
      "14:30:29.712: Disabling Algo: XGBoost as requested by the user.\n",
      "14:30:29.712: AutoML job created: 2021.10.30 14:30:29.711\n",
      "14:30:29.713: AutoML build started: 2021.10.30 14:30:29.713\n",
      "14:30:29.713: AutoML: starting GLM_1_AutoML_20211030_143029 model training\n",
      "\n",
      "\n",
      "14:30:30.717: New leader: GLM_1_AutoML_20211030_143029, auc: 0.9957069143446852\n",
      "14:30:30.718: AutoML: starting DRF_1_AutoML_20211030_143029 model training\n",
      "\n",
      "█\n",
      "14:30:31.726: AutoML: starting GBM_1_AutoML_20211030_143029 model training\n",
      "\n",
      "██████████████\n",
      "14:32:43.293: AutoML: starting GBM_2_AutoML_20211030_143029 model training\n",
      "\n",
      "██████\n",
      "14:35:00.244: AutoML: starting GBM_3_AutoML_20211030_143029 model training\n",
      "\n",
      "██████\n",
      "14:37:18.77: AutoML: starting GBM_4_AutoML_20211030_143029 model training\n",
      "\n",
      "████\n",
      "14:39:31.4: AutoML: starting GBM_5_AutoML_20211030_143029 model training\n",
      "\n",
      "████\n",
      "14:41:51.388: AutoML: starting DeepLearning_1_AutoML_20211030_143029 model training\n",
      "14:41:52.395: AutoML: starting XRT_1_AutoML_20211030_143029 model training\n",
      "14:41:53.409: AutoML: starting GBM_grid__1_AutoML_20211030_143029 hyperparameter search\n",
      "\n",
      "████████████████████\n",
      "15:29:02.176: AutoML: starting DeepLearning_grid__1_AutoML_20211030_143029 hyperparameter search\n",
      "\n",
      "\n",
      "15:30:21.134: New leader: DeepLearning_grid__1_AutoML_20211030_143029_model_4, auc: 0.9965944272445821\n",
      "\n",
      "\n",
      "15:30:44.539: AutoML: starting DeepLearning_grid__2_AutoML_20211030_143029 hyperparameter search\n",
      "\n",
      "\n",
      "15:33:21.916: AutoML: starting DeepLearning_grid__3_AutoML_20211030_143029 hyperparameter search\n",
      "\n",
      "\n",
      "15:34:04.568: New leader: DeepLearning_grid__3_AutoML_20211030_143029_model_1, auc: 0.9967182662538699\n",
      "\n",
      "█\n",
      "15:37:09.967: New leader: DeepLearning_grid__3_AutoML_20211030_143029_model_6, auc: 0.9977296181630546\n",
      "15:37:09.967: AutoML: starting StackedEnsemble_BestOfFamily_AutoML_20211030_143029 model training\n",
      "15:37:10.978: AutoML: starting StackedEnsemble_AllModels_AutoML_20211030_143029 model training\n",
      "\n",
      "\n",
      "15:37:14.367: No base models, due to timeouts or the exclude_algos option. Skipping StackedEnsemble 'monotonic'.\n",
      "15:37:14.367: Actual modeling steps: [{GLM : [def_1 (10)]}, {DRF : [def_1 (10)]}, {GBM : [def_1 (10), def_2 (10), def_3 (10), def_4 (10), def_5 (10)]}, {DeepLearning : [def_1 (10)]}, {DRF : [XRT (10)]}, {GBM : [grid_1 (60)]}, {DeepLearning : [grid_1 (20), grid_2 (20), grid_3 (20)]}, {StackedEnsemble : [best (10), all (10)]}]\n",
      "15:37:14.367: AutoML build stopped: 2021.10.30 15:37:14.367\n",
      "15:37:14.367: AutoML build done: built 52 models\n",
      "15:37:14.367: AutoML duration:  1:06:44.654\n",
      "\n",
      "| 100%\n"
     ]
    },
    {
     "data": {
      "text/html": [
       "<table>\n",
       "<thead>\n",
       "<tr><th>model_id                                           </th><th style=\"text-align: right;\">     auc</th><th style=\"text-align: right;\">  logloss</th><th style=\"text-align: right;\">   aucpr</th><th style=\"text-align: right;\">  mean_per_class_error</th><th style=\"text-align: right;\">    rmse</th><th style=\"text-align: right;\">      mse</th></tr>\n",
       "</thead>\n",
       "<tbody>\n",
       "<tr><td>DeepLearning_grid__3_AutoML_20211030_143029_model_6</td><td style=\"text-align: right;\">0.99773 </td><td style=\"text-align: right;\">0.0886262</td><td style=\"text-align: right;\">0.998593</td><td style=\"text-align: right;\">             0.0187822</td><td style=\"text-align: right;\">0.134122</td><td style=\"text-align: right;\">0.0179887</td></tr>\n",
       "<tr><td>StackedEnsemble_BestOfFamily_AutoML_20211030_143029</td><td style=\"text-align: right;\">0.99709 </td><td style=\"text-align: right;\">0.06166  </td><td style=\"text-align: right;\">0.998172</td><td style=\"text-align: right;\">             0.019969 </td><td style=\"text-align: right;\">0.129212</td><td style=\"text-align: right;\">0.0166958</td></tr>\n",
       "<tr><td>DeepLearning_grid__3_AutoML_20211030_143029_model_1</td><td style=\"text-align: right;\">0.996718</td><td style=\"text-align: right;\">0.0733066</td><td style=\"text-align: right;\">0.997941</td><td style=\"text-align: right;\">             0.0187822</td><td style=\"text-align: right;\">0.130617</td><td style=\"text-align: right;\">0.0170608</td></tr>\n",
       "<tr><td>DeepLearning_grid__1_AutoML_20211030_143029_model_4</td><td style=\"text-align: right;\">0.996594</td><td style=\"text-align: right;\">0.0853173</td><td style=\"text-align: right;\">0.997947</td><td style=\"text-align: right;\">             0.030547 </td><td style=\"text-align: right;\">0.151927</td><td style=\"text-align: right;\">0.0230819</td></tr>\n",
       "<tr><td>DeepLearning_grid__3_AutoML_20211030_143029_model_5</td><td style=\"text-align: right;\">0.996471</td><td style=\"text-align: right;\">0.119963 </td><td style=\"text-align: right;\">0.997858</td><td style=\"text-align: right;\">             0.0329205</td><td style=\"text-align: right;\">0.164947</td><td style=\"text-align: right;\">0.0272075</td></tr>\n",
       "<tr><td>DeepLearning_grid__2_AutoML_20211030_143029_model_3</td><td style=\"text-align: right;\">0.996388</td><td style=\"text-align: right;\">0.0859648</td><td style=\"text-align: right;\">0.997822</td><td style=\"text-align: right;\">             0.026419 </td><td style=\"text-align: right;\">0.156138</td><td style=\"text-align: right;\">0.0243791</td></tr>\n",
       "<tr><td>DeepLearning_grid__1_AutoML_20211030_143029_model_7</td><td style=\"text-align: right;\">0.996326</td><td style=\"text-align: right;\">0.0851415</td><td style=\"text-align: right;\">0.99774 </td><td style=\"text-align: right;\">             0.0299794</td><td style=\"text-align: right;\">0.146556</td><td style=\"text-align: right;\">0.0214787</td></tr>\n",
       "<tr><td>DeepLearning_grid__3_AutoML_20211030_143029_model_4</td><td style=\"text-align: right;\">0.995893</td><td style=\"text-align: right;\">0.0922627</td><td style=\"text-align: right;\">0.997412</td><td style=\"text-align: right;\">             0.0311662</td><td style=\"text-align: right;\">0.158266</td><td style=\"text-align: right;\">0.0250482</td></tr>\n",
       "<tr><td>DeepLearning_grid__1_AutoML_20211030_143029_model_5</td><td style=\"text-align: right;\">0.995851</td><td style=\"text-align: right;\">0.0789127</td><td style=\"text-align: right;\">0.997338</td><td style=\"text-align: right;\">             0.0229102</td><td style=\"text-align: right;\">0.134765</td><td style=\"text-align: right;\">0.0181617</td></tr>\n",
       "<tr><td>DeepLearning_grid__2_AutoML_20211030_143029_model_4</td><td style=\"text-align: right;\">0.995707</td><td style=\"text-align: right;\">0.122021 </td><td style=\"text-align: right;\">0.997304</td><td style=\"text-align: right;\">             0.0270382</td><td style=\"text-align: right;\">0.159867</td><td style=\"text-align: right;\">0.0255576</td></tr>\n",
       "</tbody>\n",
       "</table>"
      ]
     },
     "metadata": {},
     "output_type": "display_data"
    },
    {
     "name": "stdout",
     "output_type": "stream",
     "text": [
      "\n",
      "### EVALUATED MODELS ###\n",
      "\n",
      "\n",
      "Test AUC achieved with H2O with 50 models: 0.99074\n",
      "\n",
      "Wall time: 1h 6min 45s\n"
     ]
    }
   ],
   "source": [
    "%%time\n",
    "\n",
    "# Running H2OAutoML and tracking time\n",
    "lb, h2o_score = train_eval_h2o(aml, \n",
    "                               x, y, \n",
    "                               train_frame, test_frame)\n",
    "\n",
    "# Viewing the leaderboard and test AUC\n",
    "print(\"\\n### EVALUATED MODELS ###\\n\"\n",
    "      f\"{lb}\")\n",
    "print(f\"\\nTest AUC achieved with H2O with 50 models: {h2o_score.auc():.5f}\\n\")"
   ]
  },
  {
   "cell_type": "markdown",
   "id": "eb95d19b-d86d-4607-8588-24f74712beb2",
   "metadata": {},
   "source": [
    "#### TPOT classification with 50 pipelines (classifier only)"
   ]
  },
  {
   "cell_type": "code",
   "execution_count": 23,
   "id": "0a69ba76-519f-48a9-a505-9ce910cd466e",
   "metadata": {},
   "outputs": [],
   "source": [
    "# Insantiating our TPOT pipeline optimizer\n",
    "pipeline_optimizer = create_tpot_optimizer(mode=\"classification\", \n",
    "                                           max_time_mins=None, \n",
    "                                           generations=4,\n",
    "                                           population_size=10, \n",
    "                                           offspring_size=10,\n",
    "                                           template=\"Classifier\")"
   ]
  },
  {
   "cell_type": "code",
   "execution_count": 24,
   "id": "6c5ebfbe-a7bd-425b-ab3a-ab3bb01fcf26",
   "metadata": {},
   "outputs": [
    {
     "data": {
      "application/vnd.jupyter.widget-view+json": {
       "model_id": "",
       "version_major": 2,
       "version_minor": 0
      },
      "text/plain": [
       "Optimization Progress:   0%|          | 0/50 [00:00<?, ?pipeline/s]"
      ]
     },
     "metadata": {},
     "output_type": "display_data"
    },
    {
     "name": "stdout",
     "output_type": "stream",
     "text": [
      "\n",
      "Generation 1 - Current best internal CV score: 0.9928792569659443\n",
      "\n",
      "Generation 2 - Current best internal CV score: 0.9928792569659443\n",
      "\n",
      "Generation 3 - Current best internal CV score: 0.9928792569659443\n",
      "\n",
      "Generation 4 - Current best internal CV score: 0.9946336429308567\n",
      "\n",
      "Best pipeline: GradientBoostingClassifier(input_matrix, learning_rate=1.0, max_depth=1, max_features=0.9500000000000001, min_samples_leaf=18, min_samples_split=7, n_estimators=100, subsample=1.0)\n",
      "\n",
      "### BEST PIPELINE ###\n",
      "Pipeline(steps=[('gradientboostingclassifier',\n",
      "                 GradientBoostingClassifier(learning_rate=1.0, max_depth=1,\n",
      "                                            max_features=0.9500000000000001,\n",
      "                                            min_samples_leaf=18,\n",
      "                                            min_samples_split=7,\n",
      "                                            random_state=1))])\n",
      "\n",
      "Test AUC achieved with TPOT after training 50 pipelines (classifier only): 0.99570\n",
      "\n",
      "Wall time: 22.8 s\n"
     ]
    }
   ],
   "source": [
    "%%time\n",
    "\n",
    "# Running the TPOT pipeline optimizer and tracking time\n",
    "fitted_pipeline, tpot_score = train_eval_tpot(pipeline_optimizer, \n",
    "                                              X_train, y_train, \n",
    "                                              X_test, y_test)\n",
    "\n",
    "# Viewing the best pipeline and test AUC\n",
    "print(\"\\n### BEST PIPELINE ###\\n\"\n",
    "      f\"{fitted_pipeline}\")\n",
    "print(f\"\\nTest AUC achieved with TPOT after training 50 pipelines (classifier only): {tpot_score:.5f}\\n\")"
   ]
  },
  {
   "cell_type": "markdown",
   "id": "7a2f1a4e-8de2-49d4-82d9-b2faf1167861",
   "metadata": {},
   "source": [
    "## Regression"
   ]
  },
  {
   "cell_type": "code",
   "execution_count": 25,
   "id": "5fd607d2-b393-4cb1-8413-223db0d60a9f",
   "metadata": {},
   "outputs": [],
   "source": [
    "# Loading a dataset for training\n",
    "data = datasets.load_diabetes()\n",
    "\n",
    "# Splitting our data into train and test sets\n",
    "X_train, X_test, y_train, y_test = train_test_split(data[\"data\"], \n",
    "                                                    data[\"target\"], \n",
    "                                                    test_size=0.2)"
   ]
  },
  {
   "cell_type": "markdown",
   "id": "434b84f6-1c08-45d4-9c1b-3419c4c96a75",
   "metadata": {},
   "source": [
    "### Regression in 3 minutes"
   ]
  },
  {
   "cell_type": "markdown",
   "id": "2c41ee39-524c-4354-8ff7-3d4d415a6c4f",
   "metadata": {},
   "source": [
    "#### TPOT regression performance in 3 minutes"
   ]
  },
  {
   "cell_type": "code",
   "execution_count": 26,
   "id": "03e2a291-d293-42c2-af06-b8767cdef957",
   "metadata": {},
   "outputs": [],
   "source": [
    "# Insantiating our TPOT pipeline optimizer\n",
    "pipeline_optimizer = create_tpot_optimizer(mode=\"regression\", \n",
    "                                           max_time_mins=3)"
   ]
  },
  {
   "cell_type": "code",
   "execution_count": 27,
   "id": "cb6c39c5-2dbe-4c92-9a20-350075ae417b",
   "metadata": {},
   "outputs": [
    {
     "data": {
      "application/vnd.jupyter.widget-view+json": {
       "model_id": "dcecb71b7e224a2d8297b0a662f3ffd9",
       "version_major": 2,
       "version_minor": 0
      },
      "text/plain": [
       "Optimization Progress:   0%|          | 0/100 [00:00<?, ?pipeline/s]"
      ]
     },
     "metadata": {},
     "output_type": "display_data"
    },
    {
     "name": "stdout",
     "output_type": "stream",
     "text": [
      "\n",
      "Generation 1 - Current best internal CV score: -53.781138158991475\n",
      "\n",
      "Generation 2 - Current best internal CV score: -53.781138158991475\n",
      "\n",
      "Generation 3 - Current best internal CV score: -53.46244851014539\n",
      "\n",
      "Generation 4 - Current best internal CV score: -53.46244851014539\n",
      "\n",
      "3.45 minutes have elapsed. TPOT will close down.\n",
      "TPOT closed during evaluation in one generation.\n",
      "WARNING: TPOT may not provide a good pipeline if TPOT is stopped/interrupted in a early generation.\n",
      "\n",
      "\n",
      "TPOT closed prematurely. Will use the current best pipeline.\n",
      "\n",
      "Best pipeline: RidgeCV(ExtraTreesRegressor(input_matrix, bootstrap=False, max_features=0.05, min_samples_leaf=16, min_samples_split=2, n_estimators=100))\n",
      "\n",
      "### BEST PIPELINE ###\n",
      "Pipeline(steps=[('stackingestimator',\n",
      "                 StackingEstimator(estimator=ExtraTreesRegressor(max_features=0.05,\n",
      "                                                                 min_samples_leaf=16,\n",
      "                                                                 random_state=1))),\n",
      "                ('ridgecv', RidgeCV(alphas=array([ 0.1,  1. , 10. ])))])\n",
      "\n",
      "Test RMSE achieved with TPOT in 3 minutes: -59.11749\n",
      "\n",
      "Wall time: 3min 27s\n"
     ]
    }
   ],
   "source": [
    "%%time\n",
    "\n",
    "# Running the TPOT pipeline optimizer and tracking time\n",
    "fitted_pipeline, tpot_score = train_eval_tpot(pipeline_optimizer, \n",
    "                                              X_train, y_train, \n",
    "                                              X_test, y_test)\n",
    "\n",
    "# Viewing the best pipeline and test RMSE\n",
    "print(\"\\n### BEST PIPELINE ###\\n\"\n",
    "      f\"{fitted_pipeline}\")\n",
    "print(f\"\\nTest RMSE achieved with TPOT in 3 minutes: {tpot_score:.5f}\\n\")"
   ]
  },
  {
   "cell_type": "markdown",
   "id": "2f53e563-d22a-43ff-89ec-0e13993edb48",
   "metadata": {},
   "source": [
    "#### H2O regression performance in 3 minutes"
   ]
  },
  {
   "cell_type": "code",
   "execution_count": 28,
   "id": "5d599b5c-fe08-4def-a8a5-369ddf264dd3",
   "metadata": {},
   "outputs": [
    {
     "name": "stdout",
     "output_type": "stream",
     "text": [
      "Parse progress: |█████████████████████████████████████████████████████████| 100%\n",
      "Parse progress: |█████████████████████████████████████████████████████████| 100%\n",
      "Parse progress: |█████████████████████████████████████████████████████████| 100%\n",
      "Parse progress: |█████████████████████████████████████████████████████████| 100%\n"
     ]
    }
   ],
   "source": [
    "# Creating H2OFrame objects for train data\n",
    "train_features = h2o.H2OFrame(X_train, column_names=list(data[\"feature_names\"]))\n",
    "train_labels = h2o.H2OFrame(y_train, column_names=[\"target\"])\n",
    "\n",
    "# Creating H2OFrame objects for test data\n",
    "test_features = h2o.H2OFrame(X_test, column_names=list(data[\"feature_names\"]))\n",
    "test_labels = h2o.H2OFrame(y_test, column_names=[\"target\"])\n",
    "\n",
    "# Joining our features and labels\n",
    "train_frame = train_features.cbind(train_labels)\n",
    "test_frame = test_features.cbind(test_labels)    \n",
    "\n",
    "# Specifying feature and target names for training\n",
    "x = train_frame.columns\n",
    "y = \"target\"\n",
    "x.remove(y)"
   ]
  },
  {
   "cell_type": "code",
   "execution_count": 29,
   "id": "63bcbf5a-43ee-4695-835c-12f998a32682",
   "metadata": {},
   "outputs": [],
   "source": [
    "# Instantiating H2OAutoML\n",
    "aml = create_h2o_automl(mode=\"regression\", \n",
    "                        max_runtime_secs=180)"
   ]
  },
  {
   "cell_type": "code",
   "execution_count": 30,
   "id": "8389da06-243f-4b6c-bff4-e836296f8e89",
   "metadata": {},
   "outputs": [
    {
     "name": "stdout",
     "output_type": "stream",
     "text": [
      "AutoML progress: |\n",
      "15:41:06.379: Project: AutoML_20211030_154106379\n",
      "15:41:06.379: Setting stopping tolerance adaptively based on the training frame: 0.05\n",
      "15:41:06.379: Build control seed: 1\n",
      "15:41:06.379: training frame: Frame key: automl_training_py_955_sid_a366    cols: 11    rows: 353  chunks: 1    size: 16848  checksum: 1740449725010309004\n",
      "15:41:06.379: validation frame: NULL\n",
      "15:41:06.379: leaderboard frame: NULL\n",
      "15:41:06.379: blending frame: NULL\n",
      "15:41:06.379: response column: target\n",
      "15:41:06.379: fold column: null\n",
      "15:41:06.379: weights column: null\n",
      "15:41:06.379: AutoML: XGBoost is not available; skipping it.\n",
      "15:41:06.379: Loading execution steps: [{XGBoost : defaults}, {GLM : defaults}, {DRF : [def_1]}, {GBM : defaults}, {DeepLearning : defaults}, {DRF : [XRT]}, {XGBoost : grids}, {GBM : grids}, {DeepLearning : grids}, {GBM : [lr_annealing]}, {XGBoost : [lr_search]}, {StackedEnsemble : defaults}]\n",
      "15:41:06.380: Disabling Algo: XGBoost as requested by the user.\n",
      "15:41:06.380: AutoML job created: 2021.10.30 15:41:06.379\n",
      "15:41:06.381: AutoML build started: 2021.10.30 15:41:06.381\n",
      "15:41:06.381: AutoML: starting GLM_1_AutoML_20211030_154106 model training\n",
      "\n",
      "\n",
      "15:41:07.382: New leader: GLM_1_AutoML_20211030_154106, rmse: 53.61692422468829\n",
      "15:41:07.382: AutoML: starting DRF_1_AutoML_20211030_154106 model training\n",
      "\n",
      "█\n",
      "15:41:08.395: AutoML: starting GBM_1_AutoML_20211030_154106 model training\n",
      "\n",
      "████████\n",
      "15:41:15.486: AutoML: starting GBM_2_AutoML_20211030_154106 model training\n",
      "\n",
      "███\n",
      "15:41:23.580: AutoML: starting GBM_3_AutoML_20211030_154106 model training\n",
      "\n",
      "███\n",
      "15:41:31.662: AutoML: starting GBM_4_AutoML_20211030_154106 model training\n",
      "\n",
      "██\n",
      "15:41:39.756: AutoML: starting GBM_5_AutoML_20211030_154106 model training\n",
      "\n",
      "██\n",
      "15:41:46.836: AutoML: starting DeepLearning_1_AutoML_20211030_154106 model training\n",
      "15:41:47.849: AutoML: starting XRT_1_AutoML_20211030_154106 model training\n",
      "\n",
      "\n",
      "15:41:48.864: AutoML: starting GBM_grid__1_AutoML_20211030_154106 hyperparameter search\n",
      "\n",
      "██████████████████\n",
      "15:42:44.830: AutoML: starting DeepLearning_grid__1_AutoML_20211030_154106 hyperparameter search\n",
      "\n",
      "████\n",
      "15:43:03.51: New leader: DeepLearning_grid__1_AutoML_20211030_154106_model_4, rmse: 53.14095774110034\n",
      "15:43:04.63: AutoML: starting DeepLearning_grid__2_AutoML_20211030_154106 hyperparameter search\n",
      "\n",
      "████\n",
      "15:43:22.319: AutoML: starting DeepLearning_grid__3_AutoML_20211030_154106 hyperparameter search\n",
      "\n",
      "████\n",
      "15:43:40.615: AutoML: starting StackedEnsemble_BestOfFamily_AutoML_20211030_154106 model training\n",
      "\n",
      "\n",
      "15:43:41.624: AutoML: starting StackedEnsemble_AllModels_AutoML_20211030_154106 model training\n",
      "\n",
      "███████| 100%\n",
      "\n",
      "15:43:42.634: No base models, due to timeouts or the exclude_algos option. Skipping StackedEnsemble 'monotonic'.\n",
      "15:43:42.634: Actual modeling steps: [{GLM : [def_1 (10)]}, {DRF : [def_1 (10)]}, {GBM : [def_1 (10), def_2 (10), def_3 (10), def_4 (10), def_5 (10)]}, {DeepLearning : [def_1 (10)]}, {DRF : [XRT (10)]}, {GBM : [grid_1 (60)]}, {DeepLearning : [grid_1 (20), grid_2 (20), grid_3 (20)]}, {StackedEnsemble : [best (10), all (10)]}]\n",
      "15:43:42.634: AutoML build stopped: 2021.10.30 15:43:42.634\n",
      "15:43:42.634: AutoML build done: built 34 models\n",
      "15:43:42.634: AutoML duration:  2 min 36.253 sec\n",
      "\n"
     ]
    },
    {
     "data": {
      "text/html": [
       "<table>\n",
       "<thead>\n",
       "<tr><th>model_id                                           </th><th style=\"text-align: right;\">   rmse</th><th style=\"text-align: right;\">  mean_residual_deviance</th><th style=\"text-align: right;\">    mse</th><th style=\"text-align: right;\">    mae</th><th style=\"text-align: right;\">   rmsle</th></tr>\n",
       "</thead>\n",
       "<tbody>\n",
       "<tr><td>DeepLearning_grid__1_AutoML_20211030_154106_model_4</td><td style=\"text-align: right;\">53.141 </td><td style=\"text-align: right;\">                 2823.96</td><td style=\"text-align: right;\">2823.96</td><td style=\"text-align: right;\">42.586 </td><td style=\"text-align: right;\">0.399328</td></tr>\n",
       "<tr><td>StackedEnsemble_BestOfFamily_AutoML_20211030_154106</td><td style=\"text-align: right;\">53.3127</td><td style=\"text-align: right;\">                 2842.24</td><td style=\"text-align: right;\">2842.24</td><td style=\"text-align: right;\">43.1579</td><td style=\"text-align: right;\">0.400077</td></tr>\n",
       "<tr><td>GLM_1_AutoML_20211030_154106                       </td><td style=\"text-align: right;\">53.6169</td><td style=\"text-align: right;\">                 2874.77</td><td style=\"text-align: right;\">2874.77</td><td style=\"text-align: right;\">43.284 </td><td style=\"text-align: right;\">0.405449</td></tr>\n",
       "<tr><td>DeepLearning_grid__1_AutoML_20211030_154106_model_6</td><td style=\"text-align: right;\">53.6321</td><td style=\"text-align: right;\">                 2876.4 </td><td style=\"text-align: right;\">2876.4 </td><td style=\"text-align: right;\">43.1145</td><td style=\"text-align: right;\">0.402251</td></tr>\n",
       "<tr><td>StackedEnsemble_AllModels_AutoML_20211030_154106   </td><td style=\"text-align: right;\">53.9704</td><td style=\"text-align: right;\">                 2912.8 </td><td style=\"text-align: right;\">2912.8 </td><td style=\"text-align: right;\">44.0027</td><td style=\"text-align: right;\">0.407091</td></tr>\n",
       "<tr><td>DeepLearning_grid__1_AutoML_20211030_154106_model_1</td><td style=\"text-align: right;\">54.273 </td><td style=\"text-align: right;\">                 2945.56</td><td style=\"text-align: right;\">2945.56</td><td style=\"text-align: right;\">42.6679</td><td style=\"text-align: right;\">0.404643</td></tr>\n",
       "<tr><td>DeepLearning_1_AutoML_20211030_154106              </td><td style=\"text-align: right;\">54.2927</td><td style=\"text-align: right;\">                 2947.7 </td><td style=\"text-align: right;\">2947.7 </td><td style=\"text-align: right;\">42.7347</td><td style=\"text-align: right;\">0.408003</td></tr>\n",
       "<tr><td>DeepLearning_grid__2_AutoML_20211030_154106_model_6</td><td style=\"text-align: right;\">55.6261</td><td style=\"text-align: right;\">                 3094.26</td><td style=\"text-align: right;\">3094.26</td><td style=\"text-align: right;\">45.5819</td><td style=\"text-align: right;\">0.419283</td></tr>\n",
       "<tr><td>DRF_1_AutoML_20211030_154106                       </td><td style=\"text-align: right;\">55.822 </td><td style=\"text-align: right;\">                 3116.09</td><td style=\"text-align: right;\">3116.09</td><td style=\"text-align: right;\">45.7768</td><td style=\"text-align: right;\">0.418427</td></tr>\n",
       "<tr><td>GBM_grid__1_AutoML_20211030_154106_model_4         </td><td style=\"text-align: right;\">56.3989</td><td style=\"text-align: right;\">                 3180.83</td><td style=\"text-align: right;\">3180.83</td><td style=\"text-align: right;\">45.4236</td><td style=\"text-align: right;\">0.419298</td></tr>\n",
       "</tbody>\n",
       "</table>"
      ]
     },
     "metadata": {},
     "output_type": "display_data"
    },
    {
     "name": "stdout",
     "output_type": "stream",
     "text": [
      "\n",
      "### EVALUATED MODELS ###\n",
      "\n",
      "\n",
      "Test RMSE achieved with H2O in 3 minutes: 60.84195\n",
      "\n",
      "Wall time: 2min 36s\n"
     ]
    }
   ],
   "source": [
    "%%time\n",
    "\n",
    "# Running H2OAutoML and tracking time\n",
    "lb, h2o_score = train_eval_h2o(aml, \n",
    "                               x, y, \n",
    "                               train_frame, \n",
    "                               test_frame)\n",
    "\n",
    "# Viewing the leaderboard and test RMSE\n",
    "print(\"\\n### EVALUATED MODELS ###\\n\"\n",
    "      f\"{lb}\")\n",
    "print(f\"\\nTest RMSE achieved with H2O in 3 minutes: {h2o_score.rmse():.5f}\\n\")"
   ]
  },
  {
   "cell_type": "markdown",
   "id": "0b3da06a-405b-43dd-8251-d8b8542d1073",
   "metadata": {},
   "source": [
    "#### TPOT regression performance in 3 minutes with a regressor only"
   ]
  },
  {
   "cell_type": "code",
   "execution_count": 31,
   "id": "4e7d9713-79bd-4a54-a82c-805bfd464e75",
   "metadata": {},
   "outputs": [],
   "source": [
    "# Insantiating our TPOT pipeline optimizer\n",
    "pipeline_optimizer = create_tpot_optimizer(mode=\"regression\", \n",
    "                                           max_time_mins=3, \n",
    "                                           template=\"Regressor\")"
   ]
  },
  {
   "cell_type": "code",
   "execution_count": 32,
   "id": "d110d47c-e8ef-41df-9ae6-644696dafb30",
   "metadata": {},
   "outputs": [
    {
     "data": {
      "application/vnd.jupyter.widget-view+json": {
       "model_id": "640a71dd85c349ddbb20f9c782904424",
       "version_major": 2,
       "version_minor": 0
      },
      "text/plain": [
       "Optimization Progress:   0%|          | 0/100 [00:00<?, ?pipeline/s]"
      ]
     },
     "metadata": {},
     "output_type": "display_data"
    },
    {
     "name": "stdout",
     "output_type": "stream",
     "text": [
      "\n",
      "Generation 1 - Current best internal CV score: -53.94699579967179\n",
      "\n",
      "Generation 2 - Current best internal CV score: -53.94699579967179\n",
      "\n",
      "Generation 3 - Current best internal CV score: -53.94699579967179\n",
      "\n",
      "Generation 4 - Current best internal CV score: -53.93427934248267\n",
      "\n",
      "3.36 minutes have elapsed. TPOT will close down.\n",
      "TPOT closed during evaluation in one generation.\n",
      "WARNING: TPOT may not provide a good pipeline if TPOT is stopped/interrupted in a early generation.\n",
      "\n",
      "\n",
      "TPOT closed prematurely. Will use the current best pipeline.\n",
      "\n",
      "Best pipeline: LinearSVR(input_matrix, C=15.0, dual=True, epsilon=0.0001, loss=squared_epsilon_insensitive, tol=0.01)\n",
      "\n",
      "### BEST PIPELINE ###\n",
      "Pipeline(steps=[('linearsvr',\n",
      "                 LinearSVR(C=15.0, epsilon=0.0001,\n",
      "                           loss='squared_epsilon_insensitive', random_state=1,\n",
      "                           tol=0.01))])\n",
      "\n",
      "Test RMSE achieved with TPOT (regressor only) in 3 minutes: -58.37840\n",
      "\n",
      "Wall time: 3min 21s\n"
     ]
    }
   ],
   "source": [
    "%%time\n",
    "\n",
    "# Running the TPOT pipeline optimizer and tracking time\n",
    "fitted_pipeline, tpot_score = train_eval_tpot(pipeline_optimizer, \n",
    "                                              X_train, y_train, \n",
    "                                              X_test, y_test)\n",
    "\n",
    "# Viewing the best pipeline and test RMSE\n",
    "print(\"\\n### BEST PIPELINE ###\\n\"\n",
    "      f\"{fitted_pipeline}\")\n",
    "print(f\"\\nTest RMSE achieved with TPOT (regressor only) in 3 minutes: {tpot_score:.5f}\\n\")"
   ]
  },
  {
   "cell_type": "markdown",
   "id": "d5f3891e-3251-42c8-8466-369639607126",
   "metadata": {},
   "source": [
    "### Regression with early stopping (within 60 minutes)"
   ]
  },
  {
   "cell_type": "markdown",
   "id": "59440ff2-5a4f-43e5-92b8-b373ad935ece",
   "metadata": {},
   "source": [
    "#### TPOT regression performance with early stopping"
   ]
  },
  {
   "cell_type": "code",
   "execution_count": 33,
   "id": "3fab9b73-37dc-468e-a204-9c91e7e378c9",
   "metadata": {},
   "outputs": [],
   "source": [
    "# Insantiating our TPOT pipeline optimizer\n",
    "pipeline_optimizer = create_tpot_optimizer(mode=\"regression\", \n",
    "                                           max_time_mins=60, \n",
    "                                           early_stop=2)"
   ]
  },
  {
   "cell_type": "code",
   "execution_count": 34,
   "id": "cabed785-6faf-4e9c-8169-e25da339e00c",
   "metadata": {},
   "outputs": [
    {
     "data": {
      "application/vnd.jupyter.widget-view+json": {
       "model_id": "",
       "version_major": 2,
       "version_minor": 0
      },
      "text/plain": [
       "Optimization Progress:   0%|          | 0/100 [00:00<?, ?pipeline/s]"
      ]
     },
     "metadata": {},
     "output_type": "display_data"
    },
    {
     "name": "stdout",
     "output_type": "stream",
     "text": [
      "\n",
      "Generation 1 - Current best internal CV score: -53.781138158991475\n",
      "\n",
      "Generation 2 - Current best internal CV score: -53.650247598700524\n",
      "\n",
      "Generation 3 - Current best internal CV score: -53.23553651677751\n",
      "\n",
      "Generation 4 - Current best internal CV score: -53.23553651677751\n",
      "\n",
      "Generation 5 - Current best internal CV score: -53.23553651677751\n",
      "\n",
      "The optimized pipeline was not improved after evaluating 2 more generations. Will end the optimization process.\n",
      "\n",
      "TPOT closed prematurely. Will use the current best pipeline.\n",
      "\n",
      "Best pipeline: SGDRegressor(MinMaxScaler(ExtraTreesRegressor(input_matrix, bootstrap=True, max_features=0.8, min_samples_leaf=8, min_samples_split=13, n_estimators=100)), alpha=0.0, eta0=0.01, fit_intercept=True, l1_ratio=0.25, learning_rate=constant, loss=squared_loss, penalty=elasticnet, power_t=10.0)\n",
      "\n",
      "### BEST PIPELINE ###\n",
      "Pipeline(steps=[('stackingestimator',\n",
      "                 StackingEstimator(estimator=ExtraTreesRegressor(bootstrap=True,\n",
      "                                                                 max_features=0.8,\n",
      "                                                                 min_samples_leaf=8,\n",
      "                                                                 min_samples_split=13,\n",
      "                                                                 random_state=1))),\n",
      "                ('minmaxscaler', MinMaxScaler()),\n",
      "                ('sgdregressor',\n",
      "                 SGDRegressor(alpha=0.0, l1_ratio=0.25,\n",
      "                              learning_rate='constant', loss='squared_loss',\n",
      "                              penalty='elasticnet', power_t=10.0,\n",
      "                              random_state=1))])\n",
      "\n",
      "Test RMSE achieved with TPOT with early stopping: -59.00693\n",
      "\n",
      "Wall time: 4min 7s\n"
     ]
    }
   ],
   "source": [
    "%%time\n",
    "\n",
    "# Running the TPOT pipeline optimizer and tracking time\n",
    "fitted_pipeline, tpot_score = train_eval_tpot(pipeline_optimizer, \n",
    "                                              X_train, y_train, \n",
    "                                              X_test, y_test)\n",
    "\n",
    "# Viewing the best pipeline and test RMSE\n",
    "print(\"\\n### BEST PIPELINE ###\\n\"\n",
    "      f\"{fitted_pipeline}\")\n",
    "print(f\"\\nTest RMSE achieved with TPOT with early stopping: {tpot_score:.5f}\\n\")"
   ]
  },
  {
   "cell_type": "markdown",
   "id": "5b41b20d-6745-4682-9159-ed67b703b3e3",
   "metadata": {},
   "source": [
    "#### H2O regression performance with early stopping"
   ]
  },
  {
   "cell_type": "code",
   "execution_count": 35,
   "id": "54bb4d42-e29a-4d87-8399-1fcf045f843a",
   "metadata": {},
   "outputs": [],
   "source": [
    "# Instantiating H2OAutoML\n",
    "aml = create_h2o_automl(mode=\"regression\", \n",
    "                        max_runtime_secs=3600, \n",
    "                        stopping_rounds=2)"
   ]
  },
  {
   "cell_type": "code",
   "execution_count": 36,
   "id": "ce28beb8-3f4e-4b69-b8ca-88b96800509f",
   "metadata": {},
   "outputs": [
    {
     "name": "stdout",
     "output_type": "stream",
     "text": [
      "AutoML progress: |\n",
      "15:51:12.504: Project: AutoML_20211030_155112504\n",
      "15:51:12.504: Setting stopping tolerance adaptively based on the training frame: 0.05\n",
      "15:51:12.504: Build control seed: 1\n",
      "15:51:12.505: training frame: Frame key: automl_training_py_955_sid_a366    cols: 11    rows: 353  chunks: 1    size: 16848  checksum: 1740449725010309004\n",
      "15:51:12.505: validation frame: NULL\n",
      "15:51:12.505: leaderboard frame: NULL\n",
      "15:51:12.505: blending frame: NULL\n",
      "15:51:12.505: response column: target\n",
      "15:51:12.505: fold column: null\n",
      "15:51:12.505: weights column: null\n",
      "15:51:12.505: AutoML: XGBoost is not available; skipping it.\n",
      "15:51:12.505: Loading execution steps: [{XGBoost : defaults}, {GLM : defaults}, {DRF : [def_1]}, {GBM : defaults}, {DeepLearning : defaults}, {DRF : [XRT]}, {XGBoost : grids}, {GBM : grids}, {DeepLearning : grids}, {GBM : [lr_annealing]}, {XGBoost : [lr_search]}, {StackedEnsemble : defaults}]\n",
      "15:51:12.505: Disabling Algo: XGBoost as requested by the user.\n",
      "15:51:12.505: AutoML job created: 2021.10.30 15:51:12.504\n",
      "15:51:12.507: AutoML build started: 2021.10.30 15:51:12.507\n",
      "15:51:12.507: AutoML: starting GLM_1_AutoML_20211030_155112 model training\n",
      "\n",
      "\n",
      "15:51:13.509: New leader: GLM_1_AutoML_20211030_155112, rmse: 53.61692422468829\n",
      "15:51:13.509: AutoML: starting DRF_1_AutoML_20211030_155112 model training\n",
      "\n",
      "█\n",
      "15:51:14.518: AutoML: starting GBM_1_AutoML_20211030_155112 model training\n",
      "\n",
      "█\n",
      "15:51:15.529: AutoML: starting GBM_2_AutoML_20211030_155112 model training\n",
      "\n",
      "███\n",
      "15:51:16.536: AutoML: starting GBM_3_AutoML_20211030_155112 model training\n",
      "\n",
      "██\n",
      "15:51:17.545: AutoML: starting GBM_4_AutoML_20211030_155112 model training\n",
      "\n",
      "██\n",
      "15:51:18.559: AutoML: starting GBM_5_AutoML_20211030_155112 model training\n",
      "\n",
      "███\n",
      "15:51:19.566: AutoML: starting DeepLearning_1_AutoML_20211030_155112 model training\n",
      "\n",
      "███\n",
      "15:51:20.567: AutoML: starting XRT_1_AutoML_20211030_155112 model training\n",
      "15:51:21.582: AutoML: starting GBM_grid__1_AutoML_20211030_155112 hyperparameter search\n",
      "\n",
      "████\n",
      "15:51:22.708: AutoML: starting DeepLearning_grid__1_AutoML_20211030_155112 hyperparameter search\n",
      "\n",
      "█████████████████████████████████████\n",
      "15:52:36.461: New leader: DeepLearning_grid__1_AutoML_20211030_155112_model_4, rmse: 53.12160203258364\n",
      "\n",
      "\n",
      "15:53:59.403: New leader: DeepLearning_grid__1_AutoML_20211030_155112_model_9, rmse: 53.04958937387541\n",
      "15:54:09.510: AutoML: starting DeepLearning_grid__2_AutoML_20211030_155112 hyperparameter search\n",
      "\n",
      "\n",
      "15:55:39.439: New leader: DeepLearning_grid__2_AutoML_20211030_155112_model_4, rmse: 52.51252789446335\n",
      "\n",
      "\n",
      "15:58:46.575: AutoML: starting DeepLearning_grid__3_AutoML_20211030_155112 hyperparameter search\n",
      "\n",
      "\n",
      "16:00:25.603: New leader: DeepLearning_grid__3_AutoML_20211030_155112_model_4, rmse: 52.07641657983586\n",
      "\n",
      "\n",
      "16:05:44.858: AutoML: starting StackedEnsemble_BestOfFamily_AutoML_20211030_155112 model training\n",
      "16:05:45.865: AutoML: starting StackedEnsemble_AllModels_AutoML_20211030_155112 model training\n",
      "\n",
      "\n",
      "16:05:46.878: No base models, due to timeouts or the exclude_algos option. Skipping StackedEnsemble 'monotonic'.\n",
      "16:05:46.878: Actual modeling steps: [{GLM : [def_1 (10)]}, {DRF : [def_1 (10)]}, {GBM : [def_1 (10), def_2 (10), def_3 (10), def_4 (10), def_5 (10)]}, {DeepLearning : [def_1 (10)]}, {DRF : [XRT (10)]}, {GBM : [grid_1 (60)]}, {DeepLearning : [grid_1 (20), grid_2 (20), grid_3 (20)]}, {StackedEnsemble : [best (10), all (10)]}]\n",
      "16:05:46.878: AutoML build stopped: 2021.10.30 16:05:46.878\n",
      "16:05:46.878: AutoML build done: built 56 models\n",
      "16:05:46.878: AutoML duration: 14 min 34.371 sec\n",
      "\n",
      "| 100%\n"
     ]
    },
    {
     "data": {
      "text/html": [
       "<table>\n",
       "<thead>\n",
       "<tr><th>model_id                                            </th><th style=\"text-align: right;\">   rmse</th><th style=\"text-align: right;\">  mean_residual_deviance</th><th style=\"text-align: right;\">    mse</th><th style=\"text-align: right;\">    mae</th><th style=\"text-align: right;\">   rmsle</th></tr>\n",
       "</thead>\n",
       "<tbody>\n",
       "<tr><td>DeepLearning_grid__3_AutoML_20211030_155112_model_4 </td><td style=\"text-align: right;\">52.0764</td><td style=\"text-align: right;\">                 2711.95</td><td style=\"text-align: right;\">2711.95</td><td style=\"text-align: right;\">41.3273</td><td style=\"text-align: right;\">0.389049</td></tr>\n",
       "<tr><td>StackedEnsemble_BestOfFamily_AutoML_20211030_155112 </td><td style=\"text-align: right;\">52.1662</td><td style=\"text-align: right;\">                 2721.31</td><td style=\"text-align: right;\">2721.31</td><td style=\"text-align: right;\">41.6588</td><td style=\"text-align: right;\">0.391793</td></tr>\n",
       "<tr><td>DeepLearning_grid__2_AutoML_20211030_155112_model_4 </td><td style=\"text-align: right;\">52.5125</td><td style=\"text-align: right;\">                 2757.57</td><td style=\"text-align: right;\">2757.57</td><td style=\"text-align: right;\">41.0387</td><td style=\"text-align: right;\">0.391386</td></tr>\n",
       "<tr><td>StackedEnsemble_AllModels_AutoML_20211030_155112    </td><td style=\"text-align: right;\">52.6587</td><td style=\"text-align: right;\">                 2772.94</td><td style=\"text-align: right;\">2772.94</td><td style=\"text-align: right;\">43.0481</td><td style=\"text-align: right;\">0.397614</td></tr>\n",
       "<tr><td>DeepLearning_grid__3_AutoML_20211030_155112_model_12</td><td style=\"text-align: right;\">52.7873</td><td style=\"text-align: right;\">                 2786.5 </td><td style=\"text-align: right;\">2786.5 </td><td style=\"text-align: right;\">41.6356</td><td style=\"text-align: right;\">0.39253 </td></tr>\n",
       "<tr><td>DeepLearning_grid__2_AutoML_20211030_155112_model_12</td><td style=\"text-align: right;\">52.9692</td><td style=\"text-align: right;\">                 2805.74</td><td style=\"text-align: right;\">2805.74</td><td style=\"text-align: right;\">42.7161</td><td style=\"text-align: right;\">0.399149</td></tr>\n",
       "<tr><td>DeepLearning_grid__3_AutoML_20211030_155112_model_13</td><td style=\"text-align: right;\">52.9826</td><td style=\"text-align: right;\">                 2807.15</td><td style=\"text-align: right;\">2807.15</td><td style=\"text-align: right;\">42.0735</td><td style=\"text-align: right;\">0.39356 </td></tr>\n",
       "<tr><td>DeepLearning_grid__1_AutoML_20211030_155112_model_9 </td><td style=\"text-align: right;\">53.0496</td><td style=\"text-align: right;\">                 2814.26</td><td style=\"text-align: right;\">2814.26</td><td style=\"text-align: right;\">42.5978</td><td style=\"text-align: right;\">0.408549</td></tr>\n",
       "<tr><td>DeepLearning_grid__1_AutoML_20211030_155112_model_4 </td><td style=\"text-align: right;\">53.1216</td><td style=\"text-align: right;\">                 2821.9 </td><td style=\"text-align: right;\">2821.9 </td><td style=\"text-align: right;\">41.7567</td><td style=\"text-align: right;\">0.402763</td></tr>\n",
       "<tr><td>DeepLearning_grid__2_AutoML_20211030_155112_model_13</td><td style=\"text-align: right;\">53.4839</td><td style=\"text-align: right;\">                 2860.53</td><td style=\"text-align: right;\">2860.53</td><td style=\"text-align: right;\">42.0885</td><td style=\"text-align: right;\">0.39605 </td></tr>\n",
       "</tbody>\n",
       "</table>"
      ]
     },
     "metadata": {},
     "output_type": "display_data"
    },
    {
     "name": "stdout",
     "output_type": "stream",
     "text": [
      "\n",
      "### EVALUATED MODELS ###\n",
      "\n",
      "\n",
      "Test RMSE achieved with H2O with early stopping: 62.97169\n",
      "\n",
      "Wall time: 14min 35s\n"
     ]
    }
   ],
   "source": [
    "%%time\n",
    "\n",
    "# Running H2OAutoML and tracking time\n",
    "lb, h2o_score = train_eval_h2o(aml, \n",
    "                               x, y, \n",
    "                               train_frame, \n",
    "                               test_frame)\n",
    "\n",
    "# Viewing the leaderboard and test RMSE\n",
    "print(\"\\n### EVALUATED MODELS ###\\n\"\n",
    "      f\"{lb}\")\n",
    "print(f\"\\nTest RMSE achieved with H2O with early stopping: {h2o_score.rmse():.5f}\\n\")"
   ]
  },
  {
   "cell_type": "markdown",
   "id": "070fa101-fdd7-4b30-8440-6c92f77554e9",
   "metadata": {},
   "source": [
    "#### TPOT performance with early stopping (regressor only)"
   ]
  },
  {
   "cell_type": "code",
   "execution_count": 37,
   "id": "43d91fac-b306-4b5e-be36-03d5505d2ff9",
   "metadata": {},
   "outputs": [],
   "source": [
    "# Insantiating our TPOT pipeline optimizer\n",
    "pipeline_optimizer = create_tpot_optimizer(mode=\"regression\", \n",
    "                                           max_time_mins=60, \n",
    "                                           early_stop=2, \n",
    "                                           template=\"Regressor\")"
   ]
  },
  {
   "cell_type": "code",
   "execution_count": 38,
   "id": "76de8fee-a901-4cea-b3c1-d952a2ad7e6d",
   "metadata": {},
   "outputs": [
    {
     "data": {
      "application/vnd.jupyter.widget-view+json": {
       "model_id": "",
       "version_major": 2,
       "version_minor": 0
      },
      "text/plain": [
       "Optimization Progress:   0%|          | 0/100 [00:00<?, ?pipeline/s]"
      ]
     },
     "metadata": {},
     "output_type": "display_data"
    },
    {
     "name": "stdout",
     "output_type": "stream",
     "text": [
      "\n",
      "Generation 1 - Current best internal CV score: -53.95095619816876\n",
      "\n",
      "Generation 2 - Current best internal CV score: -53.95095619816876\n",
      "\n",
      "Generation 3 - Current best internal CV score: -53.95095619816876\n",
      "\n",
      "The optimized pipeline was not improved after evaluating 2 more generations. Will end the optimization process.\n",
      "\n",
      "TPOT closed prematurely. Will use the current best pipeline.\n",
      "\n",
      "Best pipeline: LinearSVR(input_matrix, C=15.0, dual=True, epsilon=0.0001, loss=squared_epsilon_insensitive, tol=0.001)\n",
      "\n",
      "### BEST PIPELINE ###\n",
      "Pipeline(steps=[('linearsvr',\n",
      "                 LinearSVR(C=15.0, epsilon=0.0001,\n",
      "                           loss='squared_epsilon_insensitive', random_state=1,\n",
      "                           tol=0.001))])\n",
      "\n",
      "Test RMSE achieved with TPOT with early stopping & regressor only: -58.48844\n",
      "\n",
      "Wall time: 2min 39s\n"
     ]
    }
   ],
   "source": [
    "%%time\n",
    "\n",
    "# Running the TPOT pipeline optimizer and tracking time\n",
    "fitted_pipeline, tpot_score = train_eval_tpot(pipeline_optimizer, \n",
    "                                              X_train, y_train, \n",
    "                                              X_test, y_test)\n",
    "\n",
    "# Viewing the leaderboard and test RMSE\n",
    "print(\"\\n### BEST PIPELINE ###\\n\"\n",
    "      f\"{fitted_pipeline}\")\n",
    "print(f\"\\nTest RMSE achieved with TPOT with early stopping & regressor only: {tpot_score:.5f}\\n\")"
   ]
  },
  {
   "cell_type": "markdown",
   "id": "33ce2cac-1302-4b1b-8056-debc37c0e1fe",
   "metadata": {},
   "source": [
    "### Regression with 50 models/pipelines"
   ]
  },
  {
   "cell_type": "markdown",
   "id": "4c0c83e0-1562-4dfa-a08e-929218e20cbf",
   "metadata": {},
   "source": [
    "#### TPOT regression with 50 pipelines"
   ]
  },
  {
   "cell_type": "code",
   "execution_count": 39,
   "id": "0128e9a9-5638-44a9-8eb5-15126793fc2e",
   "metadata": {},
   "outputs": [],
   "source": [
    "# Insantiating our TPOT pipeline optimizer\n",
    "pipeline_optimizer = create_tpot_optimizer(mode=\"regression\", \n",
    "                                           max_time_mins=None, \n",
    "                                           generations=4,\n",
    "                                           population_size=10, \n",
    "                                           offspring_size=10)"
   ]
  },
  {
   "cell_type": "code",
   "execution_count": 40,
   "id": "94072e53-3ed8-4d56-a59b-e7c59269ea92",
   "metadata": {},
   "outputs": [
    {
     "data": {
      "application/vnd.jupyter.widget-view+json": {
       "model_id": "",
       "version_major": 2,
       "version_minor": 0
      },
      "text/plain": [
       "Optimization Progress:   0%|          | 0/50 [00:00<?, ?pipeline/s]"
      ]
     },
     "metadata": {},
     "output_type": "display_data"
    },
    {
     "name": "stdout",
     "output_type": "stream",
     "text": [
      "\n",
      "Generation 1 - Current best internal CV score: -54.002387705722946\n",
      "\n",
      "Generation 2 - Current best internal CV score: -54.002387705722946\n",
      "\n",
      "Generation 3 - Current best internal CV score: -53.89342986447614\n",
      "\n",
      "Generation 4 - Current best internal CV score: -53.84659379386974\n",
      "\n",
      "Best pipeline: LassoLarsCV(FastICA(input_matrix, tol=0.2), normalize=False)\n",
      "\n",
      "### BEST PIPELINE ###\n",
      "Pipeline(steps=[('fastica', FastICA(random_state=1, tol=0.2)),\n",
      "                ('lassolarscv', LassoLarsCV(normalize=False))])\n",
      "\n",
      "Test sRMSE achieved with TPOT after training 50 pipelines: -58.91116\n",
      "\n",
      "Wall time: 14.8 s\n"
     ]
    }
   ],
   "source": [
    "%%time\n",
    "\n",
    "# Running the TPOT pipeline optimizer and tracking time\n",
    "fitted_pipeline, tpot_score = train_eval_tpot(pipeline_optimizer, \n",
    "                                              X_train, y_train, \n",
    "                                              X_test, y_test)\n",
    "\n",
    "# Viewing the best model and test RMSE\n",
    "print(\"\\n### BEST PIPELINE ###\\n\"\n",
    "      f\"{fitted_pipeline}\")\n",
    "print(f\"\\nTest sRMSE achieved with TPOT after training 50 pipelines: {tpot_score:.5f}\\n\")"
   ]
  },
  {
   "cell_type": "markdown",
   "id": "ccfe21db-b64d-4a95-9525-cce3a0b630bc",
   "metadata": {},
   "source": [
    "#### H2O regression with 50 models"
   ]
  },
  {
   "cell_type": "code",
   "execution_count": 41,
   "id": "2c3ff91f-ce4a-44e2-8c78-8c30b36ef997",
   "metadata": {},
   "outputs": [],
   "source": [
    "# Instantiating H2OAutoML\n",
    "aml = create_h2o_automl(mode=\"regression\", \n",
    "                        max_runtime_secs=0, \n",
    "                        max_models=50)"
   ]
  },
  {
   "cell_type": "code",
   "execution_count": 42,
   "id": "b5f3e770-4979-4779-944f-34f650090e45",
   "metadata": {},
   "outputs": [
    {
     "name": "stdout",
     "output_type": "stream",
     "text": [
      "AutoML progress: |\n",
      "16:08:42.753: Project: AutoML_20211030_160842753\n",
      "16:08:42.753: Setting stopping tolerance adaptively based on the training frame: 0.05\n",
      "16:08:42.753: Build control seed: 1\n",
      "16:08:42.753: training frame: Frame key: automl_training_py_955_sid_a366    cols: 11    rows: 353  chunks: 1    size: 16848  checksum: 1740449725010309004\n",
      "16:08:42.753: validation frame: NULL\n",
      "16:08:42.753: leaderboard frame: NULL\n",
      "16:08:42.753: blending frame: NULL\n",
      "16:08:42.753: response column: target\n",
      "16:08:42.753: fold column: null\n",
      "16:08:42.753: weights column: null\n",
      "16:08:42.753: AutoML: XGBoost is not available; skipping it.\n",
      "16:08:42.753: Loading execution steps: [{XGBoost : defaults}, {GLM : defaults}, {DRF : [def_1]}, {GBM : defaults}, {DeepLearning : defaults}, {DRF : [XRT]}, {XGBoost : grids}, {GBM : grids}, {DeepLearning : grids}, {GBM : [lr_annealing]}, {XGBoost : [lr_search]}, {StackedEnsemble : defaults}]\n",
      "16:08:42.754: Disabling Algo: XGBoost as requested by the user.\n",
      "16:08:42.754: AutoML job created: 2021.10.30 16:08:42.753\n",
      "16:08:42.755: AutoML build started: 2021.10.30 16:08:42.755\n",
      "16:08:42.756: AutoML: starting GLM_1_AutoML_20211030_160842 model training\n",
      "\n",
      "\n",
      "16:08:43.759: New leader: GLM_1_AutoML_20211030_160842, rmse: 53.61692422468829\n",
      "16:08:43.759: AutoML: starting DRF_1_AutoML_20211030_160842 model training\n",
      "\n",
      "██\n",
      "16:08:44.771: AutoML: starting GBM_1_AutoML_20211030_160842 model training\n",
      "\n",
      "████████████\n",
      "16:10:50.887: AutoML: starting GBM_2_AutoML_20211030_160842 model training\n",
      "\n",
      "█████\n",
      "16:12:57.840: AutoML: starting GBM_3_AutoML_20211030_160842 model training\n",
      "\n",
      "█████\n",
      "16:15:05.829: AutoML: starting GBM_4_AutoML_20211030_160842 model training\n",
      "\n",
      "█████\n",
      "16:17:22.589: AutoML: starting GBM_5_AutoML_20211030_160842 model training\n",
      "\n",
      "███\n",
      "16:19:04.304: AutoML: starting DeepLearning_1_AutoML_20211030_160842 model training\n",
      "16:19:05.320: AutoML: starting XRT_1_AutoML_20211030_160842 model training\n",
      "16:19:06.334: AutoML: starting GBM_grid__1_AutoML_20211030_160842 hyperparameter search\n",
      "\n",
      "███████████████████████\n",
      "17:06:21.125: AutoML: starting DeepLearning_grid__1_AutoML_20211030_160842 hyperparameter search\n",
      "\n",
      "\n",
      "17:09:43.551: New leader: DeepLearning_grid__1_AutoML_20211030_160842_model_6, rmse: 53.60475220629388\n",
      "\n",
      "\n",
      "17:10:11.883: AutoML: starting DeepLearning_grid__2_AutoML_20211030_160842 hyperparameter search\n",
      "\n",
      "█\n",
      "17:21:28.387: AutoML: starting DeepLearning_grid__3_AutoML_20211030_160842 hyperparameter search\n",
      "\n",
      "\n",
      "17:43:16.633: AutoML: starting StackedEnsemble_BestOfFamily_AutoML_20211030_160842 model training\n",
      "17:43:17.639: New leader: StackedEnsemble_BestOfFamily_AutoML_20211030_160842, rmse: 53.41620857290017\n",
      "17:43:17.639: AutoML: starting StackedEnsemble_AllModels_AutoML_20211030_160842 model training\n",
      "\n",
      "\n",
      "17:43:19.665: New leader: StackedEnsemble_AllModels_AutoML_20211030_160842, rmse: 52.65846087048679\n",
      "17:43:19.666: No base models, due to timeouts or the exclude_algos option. Skipping StackedEnsemble 'monotonic'.\n",
      "17:43:19.666: Actual modeling steps: [{GLM : [def_1 (10)]}, {DRF : [def_1 (10)]}, {GBM : [def_1 (10), def_2 (10), def_3 (10), def_4 (10), def_5 (10)]}, {DeepLearning : [def_1 (10)]}, {DRF : [XRT (10)]}, {GBM : [grid_1 (60)]}, {DeepLearning : [grid_1 (20), grid_2 (20), grid_3 (20)]}, {StackedEnsemble : [best (10), all (10)]}]\n",
      "17:43:19.666: AutoML build stopped: 2021.10.30 17:43:19.666\n",
      "17:43:19.666: AutoML build done: built 52 models\n",
      "17:43:19.666: AutoML duration:  1:34:36.911\n",
      "\n",
      "| 100%\n"
     ]
    },
    {
     "data": {
      "text/html": [
       "<table>\n",
       "<thead>\n",
       "<tr><th>model_id                                           </th><th style=\"text-align: right;\">   rmse</th><th style=\"text-align: right;\">  mean_residual_deviance</th><th style=\"text-align: right;\">    mse</th><th style=\"text-align: right;\">    mae</th><th style=\"text-align: right;\">   rmsle</th></tr>\n",
       "</thead>\n",
       "<tbody>\n",
       "<tr><td>StackedEnsemble_AllModels_AutoML_20211030_160842   </td><td style=\"text-align: right;\">52.6585</td><td style=\"text-align: right;\">                 2772.91</td><td style=\"text-align: right;\">2772.91</td><td style=\"text-align: right;\">42.7461</td><td style=\"text-align: right;\">0.398616</td></tr>\n",
       "<tr><td>StackedEnsemble_BestOfFamily_AutoML_20211030_160842</td><td style=\"text-align: right;\">53.4162</td><td style=\"text-align: right;\">                 2853.29</td><td style=\"text-align: right;\">2853.29</td><td style=\"text-align: right;\">42.9541</td><td style=\"text-align: right;\">0.402448</td></tr>\n",
       "<tr><td>DeepLearning_grid__1_AutoML_20211030_160842_model_6</td><td style=\"text-align: right;\">53.6048</td><td style=\"text-align: right;\">                 2873.47</td><td style=\"text-align: right;\">2873.47</td><td style=\"text-align: right;\">42.4635</td><td style=\"text-align: right;\">0.406031</td></tr>\n",
       "<tr><td>GLM_1_AutoML_20211030_160842                       </td><td style=\"text-align: right;\">53.6169</td><td style=\"text-align: right;\">                 2874.77</td><td style=\"text-align: right;\">2874.77</td><td style=\"text-align: right;\">43.284 </td><td style=\"text-align: right;\">0.405449</td></tr>\n",
       "<tr><td>DeepLearning_grid__2_AutoML_20211030_160842_model_7</td><td style=\"text-align: right;\">53.7662</td><td style=\"text-align: right;\">                 2890.8 </td><td style=\"text-align: right;\">2890.8 </td><td style=\"text-align: right;\">42.9812</td><td style=\"text-align: right;\">0.402759</td></tr>\n",
       "<tr><td>DeepLearning_grid__3_AutoML_20211030_160842_model_5</td><td style=\"text-align: right;\">53.7802</td><td style=\"text-align: right;\">                 2892.31</td><td style=\"text-align: right;\">2892.31</td><td style=\"text-align: right;\">43.8691</td><td style=\"text-align: right;\">0.413205</td></tr>\n",
       "<tr><td>DeepLearning_grid__1_AutoML_20211030_160842_model_7</td><td style=\"text-align: right;\">54.3177</td><td style=\"text-align: right;\">                 2950.41</td><td style=\"text-align: right;\">2950.41</td><td style=\"text-align: right;\">42.8355</td><td style=\"text-align: right;\">0.409836</td></tr>\n",
       "<tr><td>DeepLearning_grid__1_AutoML_20211030_160842_model_1</td><td style=\"text-align: right;\">54.4849</td><td style=\"text-align: right;\">                 2968.6 </td><td style=\"text-align: right;\">2968.6 </td><td style=\"text-align: right;\">43.2515</td><td style=\"text-align: right;\">0.407172</td></tr>\n",
       "<tr><td>DeepLearning_grid__2_AutoML_20211030_160842_model_4</td><td style=\"text-align: right;\">54.5549</td><td style=\"text-align: right;\">                 2976.24</td><td style=\"text-align: right;\">2976.24</td><td style=\"text-align: right;\">44.9963</td><td style=\"text-align: right;\">0.41289 </td></tr>\n",
       "<tr><td>DeepLearning_grid__2_AutoML_20211030_160842_model_6</td><td style=\"text-align: right;\">54.5725</td><td style=\"text-align: right;\">                 2978.16</td><td style=\"text-align: right;\">2978.16</td><td style=\"text-align: right;\">44.334 </td><td style=\"text-align: right;\">0.408146</td></tr>\n",
       "</tbody>\n",
       "</table>"
      ]
     },
     "metadata": {},
     "output_type": "display_data"
    },
    {
     "name": "stdout",
     "output_type": "stream",
     "text": [
      "\n",
      "### EVALUATED MODELS ###\n",
      "\n",
      "\n",
      "Test RMSE achieved with H2O with 50 models: 64.07493\n",
      "\n",
      "Wall time: 1h 34min 38s\n"
     ]
    }
   ],
   "source": [
    "%%time\n",
    "\n",
    "# Running H2OAutoML and tracking time\n",
    "lb, h2o_score = train_eval_h2o(aml, \n",
    "                               x, y, \n",
    "                               train_frame, \n",
    "                               test_frame)\n",
    "\n",
    "# Viewing the leaderboard and test RMSE\n",
    "print(\"\\n### EVALUATED MODELS ###\\n\"\n",
    "      f\"{lb}\")\n",
    "print(f\"\\nTest RMSE achieved with H2O with 50 models: {h2o_score.rmse():.5f}\\n\")"
   ]
  },
  {
   "cell_type": "markdown",
   "id": "e6bda026-397c-4470-a4a1-db83e2ec9517",
   "metadata": {},
   "source": [
    "#### TPOT regression with 50 pipelines (regressor only)"
   ]
  },
  {
   "cell_type": "code",
   "execution_count": 43,
   "id": "5aaba668-6fee-48bd-b041-dc99c09c139b",
   "metadata": {},
   "outputs": [],
   "source": [
    "# Insantiating our TPOT pipeline optimizer\n",
    "pipeline_optimizer = create_tpot_optimizer(mode=\"regression\", \n",
    "                                           max_time_mins=None, \n",
    "                                           generations=4,\n",
    "                                           population_size=10, \n",
    "                                           offspring_size=10, \n",
    "                                           template=\"Regressor\")"
   ]
  },
  {
   "cell_type": "code",
   "execution_count": 44,
   "id": "6ef52a88-8761-432b-8071-05babd1480c2",
   "metadata": {},
   "outputs": [
    {
     "data": {
      "application/vnd.jupyter.widget-view+json": {
       "model_id": "",
       "version_major": 2,
       "version_minor": 0
      },
      "text/plain": [
       "Optimization Progress:   0%|          | 0/50 [00:00<?, ?pipeline/s]"
      ]
     },
     "metadata": {},
     "output_type": "display_data"
    },
    {
     "name": "stdout",
     "output_type": "stream",
     "text": [
      "\n",
      "Generation 1 - Current best internal CV score: -54.002387705722946\n",
      "\n",
      "Generation 2 - Current best internal CV score: -54.002387705722946\n",
      "\n",
      "Generation 3 - Current best internal CV score: -54.002387705722946\n",
      "\n",
      "Generation 4 - Current best internal CV score: -53.9701931660854\n",
      "\n",
      "Best pipeline: RidgeCV(input_matrix)\n",
      "\n",
      "### BEST PIPELINE ###\n",
      "Pipeline(steps=[('ridgecv', RidgeCV(alphas=array([ 0.1,  1. , 10. ])))])\n",
      "\n",
      "Test RMSE achieved with TPOT after training 50 pipelines (regressor only): -58.51727\n",
      "\n",
      "Wall time: 16 s\n"
     ]
    }
   ],
   "source": [
    "%%time\n",
    "\n",
    "# Running the TPOT pipeline optimizer and tracking time\n",
    "fitted_pipeline, tpot_score = train_eval_tpot(pipeline_optimizer, \n",
    "                                              X_train, y_train, \n",
    "                                              X_test, y_test)\n",
    "\n",
    "# Viewing the best pipeline and test RMSE\n",
    "print(\"\\n### BEST PIPELINE ###\\n\"\n",
    "      f\"{fitted_pipeline}\")\n",
    "print(f\"\\nTest RMSE achieved with TPOT after training 50 pipelines (regressor only): {tpot_score:.5f}\\n\")"
   ]
  },
  {
   "cell_type": "markdown",
   "id": "0b23f6bd-d8f2-443c-aff5-f18202282657",
   "metadata": {},
   "source": [
    "## Plotting training times and results"
   ]
  },
  {
   "cell_type": "code",
   "execution_count": 1,
   "id": "3827fdb7-7c38-48d1-adab-1914c6cc5869",
   "metadata": {},
   "outputs": [],
   "source": [
    "# Importing dependencies\n",
    "import pandas as pd\n",
    "import numpy as np\n",
    "import matplotlib\n",
    "import matplotlib.pyplot as plt"
   ]
  },
  {
   "cell_type": "code",
   "execution_count": 2,
   "id": "2b713984-5cf8-4984-a43e-2f160466a3ce",
   "metadata": {},
   "outputs": [],
   "source": [
    "# Setting larger figure and font sizes\n",
    "matplotlib.rcParams.update({\"figure.figsize\": (15, 10)})\n",
    "matplotlib.rcParams.update({\"font.size\": 15})"
   ]
  },
  {
   "cell_type": "code",
   "execution_count": 3,
   "id": "405a531f-a246-418e-91fe-43a85c736971",
   "metadata": {},
   "outputs": [],
   "source": [
    "# Reading the results CSV\n",
    "results = pd.read_csv(\"results.csv\")"
   ]
  },
  {
   "cell_type": "code",
   "execution_count": 4,
   "id": "9dcfe3d8-30a7-4ed8-a50c-5286bb56d08c",
   "metadata": {},
   "outputs": [],
   "source": [
    "# Function for  obtaining training times from the results\n",
    "def get_training_times(dataframe):\n",
    "    indices = [index for index, _ in enumerate(results[\"Metric\"]) if \"classification time\" in _]\n",
    "    classification_times = dataframe.iloc[indices]\n",
    "    \n",
    "    indices = [index for index, _ in enumerate(results[\"Metric\"]) if \"regression time\" in _]\n",
    "    regression_times = dataframe.iloc[indices]\n",
    "    \n",
    "    return ((classification_times.drop([\"Metric\"], axis=1) / 60).round(2), \n",
    "            (regression_times.drop([\"Metric\"], axis=1) / 60).round(2))"
   ]
  },
  {
   "cell_type": "code",
   "execution_count": 5,
   "id": "be92fae4-38fe-4dc7-a647-446b1b91097e",
   "metadata": {},
   "outputs": [],
   "source": [
    "# Function for obtaining test scores from the results\n",
    "def get_test_scores(dataframe):\n",
    "    indices = [index for index, _ in enumerate(results[\"Metric\"]) if \"AUC\" in _]\n",
    "    classification_scores = dataframe.iloc[indices]\n",
    "    \n",
    "    indices = [index for index, _ in enumerate(results[\"Metric\"]) if \"RMSE\" in _]\n",
    "    regression_scores = dataframe.iloc[indices]\n",
    "    \n",
    "    return (classification_scores.drop([\"Metric\"], axis=1), \n",
    "            regression_scores.drop([\"Metric\"], axis=1).abs())"
   ]
  },
  {
   "cell_type": "code",
   "execution_count": 6,
   "id": "1e378bce-f2b3-4f7c-aec1-4337c66d94e9",
   "metadata": {},
   "outputs": [],
   "source": [
    "# Obtaining training times\n",
    "classification_times, regression_times = get_training_times(results)\n",
    "\n",
    "# Obtaining test scores\n",
    "classification_scores, regression_scores = get_test_scores(results)"
   ]
  },
  {
   "cell_type": "code",
   "execution_count": 7,
   "id": "932f0f2b-b396-414b-952c-5a46529f7cd7",
   "metadata": {},
   "outputs": [],
   "source": [
    "# Setting the range of x values for the bar plot\n",
    "x = np.arange(len(classification_scores))\n",
    "\n",
    "# Setting the width of bars\n",
    "width = 0.3"
   ]
  },
  {
   "cell_type": "code",
   "execution_count": 8,
   "id": "8ca5c63c-0fa5-4172-900c-ff34873686c2",
   "metadata": {},
   "outputs": [],
   "source": [
    "# Function for plotting scores\n",
    "def plot_scores(x, width, scores, mode, save_dir):\n",
    "    # Creating a figure and an ax\n",
    "    fig, ax = plt.subplots()\n",
    "\n",
    "     # Defining an ylabel and ylim and setting the plot title based on mode\n",
    "    if mode == \"classification\":\n",
    "        ylabel = \"AUC\"\n",
    "        ylim = [scores.min().min() - 0.005, 1]\n",
    "        ax.set_title(\"Best Test AUC Achieved in Classification\")\n",
    "        tpot_label = \"Classifier\"\n",
    "    elif mode == \"regression\":\n",
    "        ax.set_title(\"Best Test RMSE Achieved in Regression\")\n",
    "        ylim = [scores.min().min() - 5, scores.max().max() + 5]\n",
    "        tpot_label = \"Regressor\"\n",
    "        ylabel= \"RMSE\"        \n",
    "    \n",
    "    # Plotting scores\n",
    "    tpot_score = ax.bar(x - width, scores[\"TPOT\"], width, label=\"TPOT\")\n",
    "    tpot_cls_reg_score = score = ax.bar(x, scores[\"TPOT (classifier/regressor only)\"], width, label=f\"TPOT {tpot_label}\")\n",
    "    tpot_h2o_score = ax.bar(x + width, scores[\"H2O\"], width, label=\"H2O\")\n",
    "    \n",
    "    # Setting the ylabel, xticks, and xticklabels\n",
    "    ax.set_ylabel(ylabel)\n",
    "    ax.set_xticks(x)\n",
    "    ax.set_xticklabels([\"Within 3 minutes\", \"With early stopping\", \"With 50 models/pipelines\"])\n",
    "\n",
    "    # Setting the y-axis limits\n",
    "    ax.set_ylim(ylim)\n",
    "\n",
    "    # Plotting score values\n",
    "    ax.bar_label(tpot_score, padding=10)\n",
    "    ax.bar_label(tpot_cls_reg_score, padding=10)\n",
    "    ax.bar_label(tpot_h2o_score, padding=10)\n",
    "\n",
    "    # Calling a legend\n",
    "    ax.legend()\n",
    "    \n",
    "    # Adjusting subplot params to make the ax cleaner\n",
    "    fig.tight_layout()\n",
    "\n",
    "    # Saving the plot\n",
    "    plt.savefig(save_dir)\n",
    "    \n",
    "    # Showing the plot\n",
    "    plt.show()       "
   ]
  },
  {
   "cell_type": "code",
   "execution_count": 9,
   "id": "d1058dfb-989e-4717-aa22-ddbf70dd6d22",
   "metadata": {},
   "outputs": [
    {
     "data": {
      "image/png": "[encoded data removed]",
      "text/plain": [
       "<Figure size 1080x720 with 1 Axes>"
      ]
     },
     "metadata": {
      "needs_background": "light"
     },
     "output_type": "display_data"
    }
   ],
   "source": [
    "plot_scores(x, width, classification_scores, \"classification\", \"test_plots/auc.png\")"
   ]
  },
  {
   "cell_type": "code",
   "execution_count": 10,
   "id": "1ac4277f-4476-497b-af27-fbb52410187a",
   "metadata": {},
   "outputs": [
    {
     "data": {
      "image/png": "[encoded data removed]",
      "text/plain": [
       "<Figure size 1080x720 with 1 Axes>"
      ]
     },
     "metadata": {
      "needs_background": "light"
     },
     "output_type": "display_data"
    }
   ],
   "source": [
    "plot_scores(x, width, regression_scores, \"regression\", \"test_plots/rmse.png\")"
   ]
  },
  {
   "cell_type": "code",
   "execution_count": 11,
   "id": "00c1fdea-ecef-4467-9a68-eff0bc415cc2",
   "metadata": {},
   "outputs": [],
   "source": [
    "# Function for plotting times\n",
    "def plot_times(x, width, times, mode, save_dir):\n",
    "    # Creating a figure and an ax\n",
    "    fig, ax = plt.subplots()\n",
    "    \n",
    "    if mode == \"classification\":\n",
    "        tpot_label = \"Classifier\"\n",
    "    if mode == \"regression\":\n",
    "        tpot_label = \"Regressor\"\n",
    "    \n",
    "    # Plotting times\n",
    "    tpot_score = ax.bar(x - width, times[\"TPOT\"], width, label=\"TPOT\")\n",
    "    tpot_cls_reg_score = score = ax.bar(x, times[\"TPOT (classifier/regressor only)\"], width, label=f\"TPOT {tpot_label}\")\n",
    "    tpot_h2o_score = ax.bar(x + width, times[\"H2O\"], width, label=\"H2O\")   \n",
    "    \n",
    "    # Setting ax title, ylabel, xticks, and xticklabels\n",
    "    ax.set_title(f\"Training Times in Minutes for {mode.capitalize()}\")\n",
    "    ax.set_ylabel(\"Minutes\")\n",
    "    ax.set_xticks(x)\n",
    "    ax.set_xticklabels([\"Within 3 minutes\", \"With early stopping\", \"With 50 models/pipelines\"])\n",
    "\n",
    "    # Setting the ylim based on provided times\n",
    "    ylim = [np.max((0, times.min().min() - 50)), times.max().max() + 20]\n",
    "    ax.set_ylim(ylim)\n",
    "\n",
    "    # Plotting times\n",
    "    ax.bar_label(tpot_score, padding=10)\n",
    "    ax.bar_label(tpot_cls_reg_score, padding=10)\n",
    "    ax.bar_label(tpot_h2o_score, padding=10)\n",
    "\n",
    "    # Calling a legend\n",
    "    ax.legend()\n",
    "\n",
    "    # Adjusting subplot params to make the ax cleaner\n",
    "    fig.tight_layout()\n",
    "    \n",
    "    # Saving the plot\n",
    "    plt.savefig(save_dir)\n",
    "    \n",
    "    # Showing the plot\n",
    "    plt.show()"
   ]
  },
  {
   "cell_type": "code",
   "execution_count": 12,
   "id": "06a0271e-07ad-4487-83b7-2d59932011ea",
   "metadata": {},
   "outputs": [
    {
     "data": {
      "image/png": "[encoded data removed]",
      "text/plain": [
       "<Figure size 1080x720 with 1 Axes>"
      ]
     },
     "metadata": {
      "needs_background": "light"
     },
     "output_type": "display_data"
    }
   ],
   "source": [
    "plot_times(x, width, classification_times, \"classification\", \"test_plots/class_time.png\")"
   ]
  },
  {
   "cell_type": "code",
   "execution_count": 13,
   "id": "111bcbba-ba4b-4f43-8e47-5f37b4e2f54c",
   "metadata": {},
   "outputs": [
    {
     "data": {
      "image/png": "[encoded data removed]",
      "text/plain": [
       "<Figure size 1080x720 with 1 Axes>"
      ]
     },
     "metadata": {
      "needs_background": "light"
     },
     "output_type": "display_data"
    }
   ],
   "source": [
    "plot_times(x, width, regression_times, \"regression\",  \"test_plots/regr_time.png\")"
   ]
  }
 ],
 "metadata": {
  "kernelspec": {
   "display_name": "Python 3",
   "language": "python",
   "name": "python3"
  },
  "language_info": {
   "codemirror_mode": {
    "name": "ipython",
    "version": 3
   },
   "file_extension": ".py",
   "mimetype": "text/x-python",
   "name": "python",
   "nbconvert_exporter": "python",
   "pygments_lexer": "ipython3",
   "version": "3.9.5"
  }
 },
 "nbformat": 4,
 "nbformat_minor": 5
}
